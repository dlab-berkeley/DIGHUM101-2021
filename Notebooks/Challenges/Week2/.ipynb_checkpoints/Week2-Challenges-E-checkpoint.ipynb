{
 "cells": [
  {
   "cell_type": "code",
   "execution_count": null,
   "metadata": {},
   "outputs": [],
   "source": [
    "import os\n",
    "import pandas as pd\n",
    "# import matplotlib as mpl\n",
    "import matplotlib\n",
    "import matplotlib.pyplot as plt\n",
    "# !pip install seaborn\n",
    "import seaborn as sns\n",
    "\n",
    "import nltk\n",
    "nltk.download(\"stopwords\")\n",
    "nltk.download(\"averaged_perceptron_tagger\")\n",
    "from nltk.corpus import stopwords"
   ]
  },
  {
   "cell_type": "markdown",
   "metadata": {},
   "source": [
    "# Challenge 1: Histogram\n",
    "\n",
    "1. Create a histogram of life expectency across all 142 countries in the gapminder dataset. Play with the `bins=` parameter to find the most informative bin number."
   ]
  },
  {
   "cell_type": "code",
   "execution_count": null,
   "metadata": {},
   "outputs": [],
   "source": [
    "# Set working directory\n",
    "# %pwd\n",
    "os.getcwd()"
   ]
  },
  {
   "cell_type": "code",
   "execution_count": null,
   "metadata": {},
   "outputs": [],
   "source": [
    "# Change working directory\n",
    "os.chdir(\"../../../Data/\")\n",
    "os.getcwd()"
   ]
  },
  {
   "cell_type": "code",
   "execution_count": null,
   "metadata": {},
   "outputs": [],
   "source": [
    "# List files in working directory\n",
    "%ls"
   ]
  },
  {
   "cell_type": "code",
   "execution_count": null,
   "metadata": {},
   "outputs": [],
   "source": [
    "## YOUR CODE HERE"
   ]
  },
  {
   "cell_type": "markdown",
   "metadata": {},
   "source": [
    "# Challenge 2: Bar plot\n",
    "\n",
    "Make a bar plot for the 20 most frequently occuring words found in \"fiji2014.txt\""
   ]
  },
  {
   "cell_type": "code",
   "execution_count": null,
   "metadata": {},
   "outputs": [],
   "source": [
    "## YOUR CODE HERE"
   ]
  },
  {
   "cell_type": "markdown",
   "metadata": {},
   "source": [
    "How would this visualization change if you first removed the stopwords? "
   ]
  },
  {
   "cell_type": "code",
   "execution_count": null,
   "metadata": {},
   "outputs": [],
   "source": [
    "## YOUR CODE HERE"
   ]
  },
  {
   "cell_type": "markdown",
   "metadata": {},
   "source": [
    "# Challenge 3: Understanding Seaborn Code\n",
    "\n",
    "Matplotlib is good, but seaborn is better! We can do more with less code - you might even find the syntax a little easier to understand. [Start looking through examples here](https://seaborn.pydata.org/tutorial.html).\n",
    "\n",
    "What can you understand from the code for the [seaborn scatterplot documentation](https://seaborn.pydata.org/generated/seaborn.scatterplot.html)? **_Why_** does the code in the below cell produce the figure that it does? Experiemnt by changing the various arguments and see what happens!\n",
    "\n",
    "The code below shows a scatterplot for life expectancy and GDP per capita income from the gapminder dataset."
   ]
  },
  {
   "cell_type": "code",
   "execution_count": null,
   "metadata": {},
   "outputs": [],
   "source": [
    "gap.columns"
   ]
  },
  {
   "cell_type": "code",
   "execution_count": null,
   "metadata": {},
   "outputs": [],
   "source": [
    "scatterplot = sns.scatterplot(x = \"lifeExp\", y = \"gdpPercap\", \n",
    "                              hue = \"continent\", style = \"continent\", \n",
    "                              s = 100, alpha = 0.05, data = gap)\n",
    "scatterplot.legend(loc = \"center left\", bbox_to_anchor = (0, 0.7), ncol = 1)\n",
    "scatterplot.set(xlabel = \"Life Expectancy (years)\", \n",
    "                ylabel = \"GDP Per Cap Income (USD)\", \n",
    "                title = \"Scatterplot\");"
   ]
  },
  {
   "cell_type": "markdown",
   "metadata": {},
   "source": [
    "# Challenge 4: Faceting\n",
    "\n",
    "Facet out each of the five continents into its own facetted plot in the variable `scatterplot` from above like so:"
   ]
  },
  {
   "cell_type": "code",
   "execution_count": null,
   "metadata": {},
   "outputs": [],
   "source": [
    "scatterplot_facet = sns.FacetGrid(gap, col = \"continent\", \n",
    "                                  col_wrap = 3, height = 4, sharex = False)\n",
    "scatterplot_facet.map(plt.scatter, \"gdpPercap\", \"lifeExp\", marker = \".\");"
   ]
  },
  {
   "cell_type": "markdown",
   "metadata": {},
   "source": [
    "# Challenge 5: Seaborn Boxplot\n",
    "\n",
    "Make boxplots for each Species (x-axis) by Petal.Length (Y-axis) in the iris dataset."
   ]
  },
  {
   "cell_type": "code",
   "execution_count": null,
   "metadata": {
    "scrolled": true
   },
   "outputs": [],
   "source": [
    "## YOUR CODE HERE"
   ]
  },
  {
   "cell_type": "markdown",
   "metadata": {},
   "source": [
    "# Challenge 6: Line plot\n",
    "\n",
    "What if we are interested in _something_ and how it has changed through time? Line plots are the standard for doing so - let's look at change in per-capita GDP through time for Mexico, USA, and Canada. "
   ]
  },
  {
   "cell_type": "code",
   "execution_count": null,
   "metadata": {},
   "outputs": [],
   "source": [
    "## YOUR CODE HERE"
   ]
  },
  {
   "cell_type": "markdown",
   "metadata": {},
   "source": [
    "# Challenge 7: Subplots\n",
    "\n",
    "Create one compoud plot that contains to line plots for Mexico's and Canada's gdpPercap through time!\n",
    "\n",
    "Combine these into a single figure. \n",
    "\n",
    "Save this figure to your working directory, name it \"compound_figure.pdf\" at 600 dpi. Did it work? "
   ]
  },
  {
   "cell_type": "code",
   "execution_count": null,
   "metadata": {
    "scrolled": true
   },
   "outputs": [],
   "source": [
    "plt.figure(figsize=(15,5))\n",
    "\n",
    "plt.subplot(1,2,1)\n",
    "plt.plot(mexico[\"year\"], mexico[\"gdpPercap\"], label = \"Mexico\", color = \"green\")\n",
    "plt.title('Mexico')\n",
    "plt.xlabel('Time (Years)')\n",
    "plt.ylabel('Per-capita GPD (Millions of USD)')\n",
    "plt.legend();\n",
    "\n",
    "plt.subplot(1,2,2)\n",
    "plt.plot(canada['year'], canada['gdpPercap'], label='Canada', color='red')\n",
    "plt.title('Canada')\n",
    "plt.xlabel('Time (Years)')\n",
    "plt.ylabel('Per-capita GPD (Millions of USD)')\n",
    "plt.legend()\n",
    "plt.savefig(\"compound_figure.pdf\", dpi = 600);"
   ]
  }
 ],
 "metadata": {
  "kernelspec": {
   "display_name": "Python 3",
   "language": "python",
   "name": "python3"
  },
  "language_info": {
   "codemirror_mode": {
    "name": "ipython",
    "version": 3
   },
   "file_extension": ".py",
   "mimetype": "text/x-python",
   "name": "python",
   "nbconvert_exporter": "python",
   "pygments_lexer": "ipython3",
   "version": "3.7.0"
  }
 },
 "nbformat": 4,
 "nbformat_minor": 2
}
