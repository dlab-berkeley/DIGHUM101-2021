{
 "cells": [
  {
   "cell_type": "markdown",
   "metadata": {},
   "source": [
    "# Challenge 1 - The Working Directory\n",
    "\n",
    "Set your working directory to the Data folder in your DIGHUM101-2020 course materials"
   ]
  },
  {
   "cell_type": "code",
   "execution_count": 1,
   "metadata": {},
   "outputs": [],
   "source": [
    "import os"
   ]
  },
  {
   "cell_type": "code",
   "execution_count": 2,
   "metadata": {},
   "outputs": [
    {
     "data": {
      "text/plain": [
       "'/Users/brooks/Projects/D-Lab/DIGHUM101-2021/Notebooks/Challenges/Week2'"
      ]
     },
     "execution_count": 2,
     "metadata": {},
     "output_type": "execute_result"
    }
   ],
   "source": [
    "# First, view the file path to your current working directory:\n",
    "# %pwd\n",
    "os.getcwd()"
   ]
  },
  {
   "cell_type": "code",
   "execution_count": 3,
   "metadata": {},
   "outputs": [
    {
     "data": {
      "text/plain": [
       "'/Users/brooks/Projects/D-Lab/DIGHUM101-2021/Data'"
      ]
     },
     "execution_count": 3,
     "metadata": {},
     "output_type": "execute_result"
    }
   ],
   "source": [
    "# Go \"up\" three levels in your file structure and into the Data folder:\n",
    "os.chdir(\"../../../Data\")\n",
    "os.getcwd()"
   ]
  },
  {
   "cell_type": "code",
   "execution_count": 4,
   "metadata": {},
   "outputs": [
    {
     "name": "stdout",
     "output_type": "stream",
     "text": [
      "\u001b[34mGeo\u001b[m\u001b[m/                          feminism.xml\n",
      "childrens_lit.csv             frankenstein.txt\n",
      "correspondence-data-1585.csv  gapminder-FiveYearData.csv\n",
      "example.json                  \u001b[34mhuman-rights\u001b[m\u001b[m/\n",
      "example.xml                   iris.csv\n",
      "feminism.json                 music_reviews.csv\n"
     ]
    }
   ],
   "source": [
    "# List the files in this working directory\n",
    "%ls"
   ]
  },
  {
   "cell_type": "markdown",
   "metadata": {},
   "source": [
    "# Challenge 2: Pandas - Import .csv File\n",
    "\n",
    "Import the music_reviews.csv file and save it in a variable named music. Use the head method to show the first twelve rows. \n",
    "\n",
    "> HINT: remember this is a TAB separated .csv file, so you have to add a second argument to tell Python that the file is tab-delineated (not comma delineated)."
   ]
  },
  {
   "cell_type": "code",
   "execution_count": 5,
   "metadata": {},
   "outputs": [],
   "source": [
    "import pandas as pd"
   ]
  },
  {
   "cell_type": "code",
   "execution_count": 19,
   "metadata": {},
   "outputs": [
    {
     "data": {
      "text/html": [
       "<div>\n",
       "<style scoped>\n",
       "    .dataframe tbody tr th:only-of-type {\n",
       "        vertical-align: middle;\n",
       "    }\n",
       "\n",
       "    .dataframe tbody tr th {\n",
       "        vertical-align: top;\n",
       "    }\n",
       "\n",
       "    .dataframe thead th {\n",
       "        text-align: right;\n",
       "    }\n",
       "</style>\n",
       "<table border=\"1\" class=\"dataframe\">\n",
       "  <thead>\n",
       "    <tr style=\"text-align: right;\">\n",
       "      <th></th>\n",
       "      <th>album</th>\n",
       "      <th>artist</th>\n",
       "      <th>genre</th>\n",
       "      <th>release_date</th>\n",
       "      <th>critic</th>\n",
       "      <th>score</th>\n",
       "      <th>body</th>\n",
       "    </tr>\n",
       "  </thead>\n",
       "  <tbody>\n",
       "    <tr>\n",
       "      <th>0</th>\n",
       "      <td>Don't Panic</td>\n",
       "      <td>All Time Low</td>\n",
       "      <td>Pop/Rock</td>\n",
       "      <td>2012-10-09 00:00:00</td>\n",
       "      <td>Kerrang!</td>\n",
       "      <td>74.0</td>\n",
       "      <td>While For Baltimore proves they can still writ...</td>\n",
       "    </tr>\n",
       "    <tr>\n",
       "      <th>1</th>\n",
       "      <td>Fear and Saturday Night</td>\n",
       "      <td>Ryan Bingham</td>\n",
       "      <td>Country</td>\n",
       "      <td>2015-01-20 00:00:00</td>\n",
       "      <td>Uncut</td>\n",
       "      <td>70.0</td>\n",
       "      <td>There's nothing fake about the purgatorial nar...</td>\n",
       "    </tr>\n",
       "    <tr>\n",
       "      <th>2</th>\n",
       "      <td>The Way I'm Livin'</td>\n",
       "      <td>Lee Ann Womack</td>\n",
       "      <td>Country</td>\n",
       "      <td>2014-09-23 00:00:00</td>\n",
       "      <td>Q Magazine</td>\n",
       "      <td>84.0</td>\n",
       "      <td>All life's disastrous lows are here on a caree...</td>\n",
       "    </tr>\n",
       "    <tr>\n",
       "      <th>3</th>\n",
       "      <td>Doris</td>\n",
       "      <td>Earl Sweatshirt</td>\n",
       "      <td>Rap</td>\n",
       "      <td>2013-08-20 00:00:00</td>\n",
       "      <td>Pitchfork</td>\n",
       "      <td>82.0</td>\n",
       "      <td>With Doris, Odd Future’s Odysseus is finally b...</td>\n",
       "    </tr>\n",
       "    <tr>\n",
       "      <th>4</th>\n",
       "      <td>Giraffe</td>\n",
       "      <td>Echoboy</td>\n",
       "      <td>Rock</td>\n",
       "      <td>2003-02-25 00:00:00</td>\n",
       "      <td>AllMusic</td>\n",
       "      <td>71.0</td>\n",
       "      <td>Though Giraffe is definitely Echoboy's most im...</td>\n",
       "    </tr>\n",
       "    <tr>\n",
       "      <th>5</th>\n",
       "      <td>Weathervanes</td>\n",
       "      <td>Freelance Whales</td>\n",
       "      <td>Indie</td>\n",
       "      <td>2010-04-13 00:00:00</td>\n",
       "      <td>Q Magazine</td>\n",
       "      <td>68.0</td>\n",
       "      <td>Fans of Owl City and The Postal Service will r...</td>\n",
       "    </tr>\n",
       "    <tr>\n",
       "      <th>6</th>\n",
       "      <td>Build a Rocket Boys!</td>\n",
       "      <td>Elbow</td>\n",
       "      <td>Pop/Rock</td>\n",
       "      <td>2011-04-12 00:00:00</td>\n",
       "      <td>Delusions of Adequacy</td>\n",
       "      <td>82.0</td>\n",
       "      <td>Whereas previous Elbow records set a mood, Bui...</td>\n",
       "    </tr>\n",
       "    <tr>\n",
       "      <th>7</th>\n",
       "      <td>Ambivalence Avenue</td>\n",
       "      <td>Bibio</td>\n",
       "      <td>Indie</td>\n",
       "      <td>2009-06-23 00:00:00</td>\n",
       "      <td>Q Magazine</td>\n",
       "      <td>78.0</td>\n",
       "      <td>His remarkable Warp debut follows a series of ...</td>\n",
       "    </tr>\n",
       "    <tr>\n",
       "      <th>8</th>\n",
       "      <td>Wavvves</td>\n",
       "      <td>Wavves</td>\n",
       "      <td>Indie</td>\n",
       "      <td>2009-03-17 00:00:00</td>\n",
       "      <td>PopMatters</td>\n",
       "      <td>68.0</td>\n",
       "      <td>There’s an energy coursing through this, and r...</td>\n",
       "    </tr>\n",
       "    <tr>\n",
       "      <th>9</th>\n",
       "      <td>Peachtree Road</td>\n",
       "      <td>Elton John</td>\n",
       "      <td>Rock</td>\n",
       "      <td>2004-11-09 00:00:00</td>\n",
       "      <td>MelD.</td>\n",
       "      <td>70.0</td>\n",
       "      <td>Classic. Songs filled with soul. Lyrics refres...</td>\n",
       "    </tr>\n",
       "    <tr>\n",
       "      <th>10</th>\n",
       "      <td>Heritage</td>\n",
       "      <td>College</td>\n",
       "      <td>Electronic</td>\n",
       "      <td>2013-09-17 00:00:00</td>\n",
       "      <td>musicOMH.com</td>\n",
       "      <td>63.0</td>\n",
       "      <td>It’s by no means perfect and it does feel slig...</td>\n",
       "    </tr>\n",
       "    <tr>\n",
       "      <th>11</th>\n",
       "      <td>White Chalk</td>\n",
       "      <td>PJ Harvey</td>\n",
       "      <td>Rock</td>\n",
       "      <td>2007-09-25 00:00:00</td>\n",
       "      <td>Paste Magazine</td>\n",
       "      <td>80.0</td>\n",
       "      <td>Put in context, White Chalk serves her purpose...</td>\n",
       "    </tr>\n",
       "  </tbody>\n",
       "</table>\n",
       "</div>"
      ],
      "text/plain": [
       "                      album            artist       genre  \\\n",
       "0               Don't Panic      All Time Low    Pop/Rock   \n",
       "1   Fear and Saturday Night      Ryan Bingham     Country   \n",
       "2        The Way I'm Livin'    Lee Ann Womack     Country   \n",
       "3                     Doris   Earl Sweatshirt         Rap   \n",
       "4                   Giraffe           Echoboy        Rock   \n",
       "5              Weathervanes  Freelance Whales       Indie   \n",
       "6      Build a Rocket Boys!             Elbow    Pop/Rock   \n",
       "7        Ambivalence Avenue             Bibio       Indie   \n",
       "8                   Wavvves            Wavves       Indie   \n",
       "9            Peachtree Road        Elton John        Rock   \n",
       "10                 Heritage           College  Electronic   \n",
       "11              White Chalk         PJ Harvey        Rock   \n",
       "\n",
       "           release_date                 critic  score  \\\n",
       "0   2012-10-09 00:00:00               Kerrang!   74.0   \n",
       "1   2015-01-20 00:00:00                  Uncut   70.0   \n",
       "2   2014-09-23 00:00:00             Q Magazine   84.0   \n",
       "3   2013-08-20 00:00:00              Pitchfork   82.0   \n",
       "4   2003-02-25 00:00:00               AllMusic   71.0   \n",
       "5   2010-04-13 00:00:00             Q Magazine   68.0   \n",
       "6   2011-04-12 00:00:00  Delusions of Adequacy   82.0   \n",
       "7   2009-06-23 00:00:00             Q Magazine   78.0   \n",
       "8   2009-03-17 00:00:00             PopMatters   68.0   \n",
       "9   2004-11-09 00:00:00                  MelD.   70.0   \n",
       "10  2013-09-17 00:00:00           musicOMH.com   63.0   \n",
       "11  2007-09-25 00:00:00         Paste Magazine   80.0   \n",
       "\n",
       "                                                 body  \n",
       "0   While For Baltimore proves they can still writ...  \n",
       "1   There's nothing fake about the purgatorial nar...  \n",
       "2   All life's disastrous lows are here on a caree...  \n",
       "3   With Doris, Odd Future’s Odysseus is finally b...  \n",
       "4   Though Giraffe is definitely Echoboy's most im...  \n",
       "5   Fans of Owl City and The Postal Service will r...  \n",
       "6   Whereas previous Elbow records set a mood, Bui...  \n",
       "7   His remarkable Warp debut follows a series of ...  \n",
       "8   There’s an energy coursing through this, and r...  \n",
       "9   Classic. Songs filled with soul. Lyrics refres...  \n",
       "10  It’s by no means perfect and it does feel slig...  \n",
       "11  Put in context, White Chalk serves her purpose...  "
      ]
     },
     "execution_count": 19,
     "metadata": {},
     "output_type": "execute_result"
    }
   ],
   "source": [
    "music = pd.read_csv(\"music_reviews.csv\", sep=\"\\t\")\n",
    "music.head(12)"
   ]
  },
  {
   "cell_type": "code",
   "execution_count": 20,
   "metadata": {},
   "outputs": [
    {
     "data": {
      "text/plain": [
       "(5001, 7)"
      ]
     },
     "execution_count": 20,
     "metadata": {},
     "output_type": "execute_result"
    }
   ],
   "source": [
    "music.shape"
   ]
  },
  {
   "cell_type": "markdown",
   "metadata": {},
   "source": [
    "# Challenge 3: `.describe()`\n",
    "\n",
    "Use the .describe() method to find the average review score for all albums in this dataset."
   ]
  },
  {
   "cell_type": "code",
   "execution_count": 21,
   "metadata": {},
   "outputs": [
    {
     "data": {
      "text/html": [
       "<div>\n",
       "<style scoped>\n",
       "    .dataframe tbody tr th:only-of-type {\n",
       "        vertical-align: middle;\n",
       "    }\n",
       "\n",
       "    .dataframe tbody tr th {\n",
       "        vertical-align: top;\n",
       "    }\n",
       "\n",
       "    .dataframe thead th {\n",
       "        text-align: right;\n",
       "    }\n",
       "</style>\n",
       "<table border=\"1\" class=\"dataframe\">\n",
       "  <thead>\n",
       "    <tr style=\"text-align: right;\">\n",
       "      <th></th>\n",
       "      <th>score</th>\n",
       "    </tr>\n",
       "  </thead>\n",
       "  <tbody>\n",
       "    <tr>\n",
       "      <th>count</th>\n",
       "      <td>5001.000000</td>\n",
       "    </tr>\n",
       "    <tr>\n",
       "      <th>mean</th>\n",
       "      <td>72.684223</td>\n",
       "    </tr>\n",
       "    <tr>\n",
       "      <th>std</th>\n",
       "      <td>8.714896</td>\n",
       "    </tr>\n",
       "    <tr>\n",
       "      <th>min</th>\n",
       "      <td>7.400000</td>\n",
       "    </tr>\n",
       "    <tr>\n",
       "      <th>25%</th>\n",
       "      <td>68.000000</td>\n",
       "    </tr>\n",
       "    <tr>\n",
       "      <th>50%</th>\n",
       "      <td>74.000000</td>\n",
       "    </tr>\n",
       "    <tr>\n",
       "      <th>75%</th>\n",
       "      <td>79.000000</td>\n",
       "    </tr>\n",
       "    <tr>\n",
       "      <th>max</th>\n",
       "      <td>100.000000</td>\n",
       "    </tr>\n",
       "  </tbody>\n",
       "</table>\n",
       "</div>"
      ],
      "text/plain": [
       "             score\n",
       "count  5001.000000\n",
       "mean     72.684223\n",
       "std       8.714896\n",
       "min       7.400000\n",
       "25%      68.000000\n",
       "50%      74.000000\n",
       "75%      79.000000\n",
       "max     100.000000"
      ]
     },
     "execution_count": 21,
     "metadata": {},
     "output_type": "execute_result"
    }
   ],
   "source": [
    "music.describe()"
   ]
  },
  {
   "cell_type": "markdown",
   "metadata": {},
   "source": [
    "# Challenge 4: Rename Column Names\n",
    "\n",
    "Recall how to print the columns of a data frame. It looks like a method but without the trailing round parentheses is called an attribute!"
   ]
  },
  {
   "cell_type": "markdown",
   "metadata": {},
   "source": [
    "Rename the \"album\" column name to \"ALBUM\" and the \"body\" column name to \"Body\". What data structure can you use to do so? "
   ]
  },
  {
   "cell_type": "code",
   "execution_count": 15,
   "metadata": {},
   "outputs": [
    {
     "data": {
      "text/plain": [
       "Index(['album', 'artist', 'genre', 'release_date', 'critic', 'score', 'body'], dtype='object')"
      ]
     },
     "execution_count": 15,
     "metadata": {},
     "output_type": "execute_result"
    }
   ],
   "source": [
    "music.columns"
   ]
  },
  {
   "cell_type": "code",
   "execution_count": 22,
   "metadata": {},
   "outputs": [],
   "source": [
    "music.rename(columns = {\"album\": \"ALBUM\",\n",
    "                       \"body\": \"Body\"},\n",
    "            inplace = True)"
   ]
  },
  {
   "cell_type": "code",
   "execution_count": 24,
   "metadata": {},
   "outputs": [
    {
     "data": {
      "text/html": [
       "<div>\n",
       "<style scoped>\n",
       "    .dataframe tbody tr th:only-of-type {\n",
       "        vertical-align: middle;\n",
       "    }\n",
       "\n",
       "    .dataframe tbody tr th {\n",
       "        vertical-align: top;\n",
       "    }\n",
       "\n",
       "    .dataframe thead th {\n",
       "        text-align: right;\n",
       "    }\n",
       "</style>\n",
       "<table border=\"1\" class=\"dataframe\">\n",
       "  <thead>\n",
       "    <tr style=\"text-align: right;\">\n",
       "      <th></th>\n",
       "      <th>ALBUM</th>\n",
       "      <th>artist</th>\n",
       "      <th>genre</th>\n",
       "      <th>release_date</th>\n",
       "      <th>critic</th>\n",
       "      <th>score</th>\n",
       "      <th>Body</th>\n",
       "    </tr>\n",
       "  </thead>\n",
       "  <tbody>\n",
       "    <tr>\n",
       "      <th>0</th>\n",
       "      <td>Don't Panic</td>\n",
       "      <td>All Time Low</td>\n",
       "      <td>Pop/Rock</td>\n",
       "      <td>2012-10-09 00:00:00</td>\n",
       "      <td>Kerrang!</td>\n",
       "      <td>74.0</td>\n",
       "      <td>While For Baltimore proves they can still writ...</td>\n",
       "    </tr>\n",
       "    <tr>\n",
       "      <th>1</th>\n",
       "      <td>Fear and Saturday Night</td>\n",
       "      <td>Ryan Bingham</td>\n",
       "      <td>Country</td>\n",
       "      <td>2015-01-20 00:00:00</td>\n",
       "      <td>Uncut</td>\n",
       "      <td>70.0</td>\n",
       "      <td>There's nothing fake about the purgatorial nar...</td>\n",
       "    </tr>\n",
       "    <tr>\n",
       "      <th>2</th>\n",
       "      <td>The Way I'm Livin'</td>\n",
       "      <td>Lee Ann Womack</td>\n",
       "      <td>Country</td>\n",
       "      <td>2014-09-23 00:00:00</td>\n",
       "      <td>Q Magazine</td>\n",
       "      <td>84.0</td>\n",
       "      <td>All life's disastrous lows are here on a caree...</td>\n",
       "    </tr>\n",
       "    <tr>\n",
       "      <th>3</th>\n",
       "      <td>Doris</td>\n",
       "      <td>Earl Sweatshirt</td>\n",
       "      <td>Rap</td>\n",
       "      <td>2013-08-20 00:00:00</td>\n",
       "      <td>Pitchfork</td>\n",
       "      <td>82.0</td>\n",
       "      <td>With Doris, Odd Future’s Odysseus is finally b...</td>\n",
       "    </tr>\n",
       "    <tr>\n",
       "      <th>4</th>\n",
       "      <td>Giraffe</td>\n",
       "      <td>Echoboy</td>\n",
       "      <td>Rock</td>\n",
       "      <td>2003-02-25 00:00:00</td>\n",
       "      <td>AllMusic</td>\n",
       "      <td>71.0</td>\n",
       "      <td>Though Giraffe is definitely Echoboy's most im...</td>\n",
       "    </tr>\n",
       "  </tbody>\n",
       "</table>\n",
       "</div>"
      ],
      "text/plain": [
       "                     ALBUM           artist     genre         release_date  \\\n",
       "0              Don't Panic     All Time Low  Pop/Rock  2012-10-09 00:00:00   \n",
       "1  Fear and Saturday Night     Ryan Bingham   Country  2015-01-20 00:00:00   \n",
       "2       The Way I'm Livin'   Lee Ann Womack   Country  2014-09-23 00:00:00   \n",
       "3                    Doris  Earl Sweatshirt       Rap  2013-08-20 00:00:00   \n",
       "4                  Giraffe          Echoboy      Rock  2003-02-25 00:00:00   \n",
       "\n",
       "       critic  score                                               Body  \n",
       "0    Kerrang!   74.0  While For Baltimore proves they can still writ...  \n",
       "1       Uncut   70.0  There's nothing fake about the purgatorial nar...  \n",
       "2  Q Magazine   84.0  All life's disastrous lows are here on a caree...  \n",
       "3   Pitchfork   82.0  With Doris, Odd Future’s Odysseus is finally b...  \n",
       "4    AllMusic   71.0  Though Giraffe is definitely Echoboy's most im...  "
      ]
     },
     "execution_count": 24,
     "metadata": {},
     "output_type": "execute_result"
    }
   ],
   "source": [
    "music.head()"
   ]
  },
  {
   "cell_type": "markdown",
   "metadata": {},
   "source": [
    "# Challenge 5: Slice It! \n",
    "\n",
    "Slice music to return just the 3rd, 4th, and 5th reviews. Save this in a variable named music_subset\n",
    "\n",
    "> HINT: will the 3rd, 4th, and 5th rows or columns be returned?"
   ]
  },
  {
   "cell_type": "code",
   "execution_count": 26,
   "metadata": {},
   "outputs": [
    {
     "data": {
      "text/html": [
       "<div>\n",
       "<style scoped>\n",
       "    .dataframe tbody tr th:only-of-type {\n",
       "        vertical-align: middle;\n",
       "    }\n",
       "\n",
       "    .dataframe tbody tr th {\n",
       "        vertical-align: top;\n",
       "    }\n",
       "\n",
       "    .dataframe thead th {\n",
       "        text-align: right;\n",
       "    }\n",
       "</style>\n",
       "<table border=\"1\" class=\"dataframe\">\n",
       "  <thead>\n",
       "    <tr style=\"text-align: right;\">\n",
       "      <th></th>\n",
       "      <th>ALBUM</th>\n",
       "      <th>artist</th>\n",
       "      <th>genre</th>\n",
       "      <th>release_date</th>\n",
       "      <th>critic</th>\n",
       "      <th>score</th>\n",
       "      <th>Body</th>\n",
       "    </tr>\n",
       "  </thead>\n",
       "  <tbody>\n",
       "    <tr>\n",
       "      <th>2</th>\n",
       "      <td>The Way I'm Livin'</td>\n",
       "      <td>Lee Ann Womack</td>\n",
       "      <td>Country</td>\n",
       "      <td>2014-09-23 00:00:00</td>\n",
       "      <td>Q Magazine</td>\n",
       "      <td>84.0</td>\n",
       "      <td>All life's disastrous lows are here on a caree...</td>\n",
       "    </tr>\n",
       "    <tr>\n",
       "      <th>3</th>\n",
       "      <td>Doris</td>\n",
       "      <td>Earl Sweatshirt</td>\n",
       "      <td>Rap</td>\n",
       "      <td>2013-08-20 00:00:00</td>\n",
       "      <td>Pitchfork</td>\n",
       "      <td>82.0</td>\n",
       "      <td>With Doris, Odd Future’s Odysseus is finally b...</td>\n",
       "    </tr>\n",
       "    <tr>\n",
       "      <th>4</th>\n",
       "      <td>Giraffe</td>\n",
       "      <td>Echoboy</td>\n",
       "      <td>Rock</td>\n",
       "      <td>2003-02-25 00:00:00</td>\n",
       "      <td>AllMusic</td>\n",
       "      <td>71.0</td>\n",
       "      <td>Though Giraffe is definitely Echoboy's most im...</td>\n",
       "    </tr>\n",
       "  </tbody>\n",
       "</table>\n",
       "</div>"
      ],
      "text/plain": [
       "                ALBUM           artist    genre         release_date  \\\n",
       "2  The Way I'm Livin'   Lee Ann Womack  Country  2014-09-23 00:00:00   \n",
       "3               Doris  Earl Sweatshirt      Rap  2013-08-20 00:00:00   \n",
       "4             Giraffe          Echoboy     Rock  2003-02-25 00:00:00   \n",
       "\n",
       "       critic  score                                               Body  \n",
       "2  Q Magazine   84.0  All life's disastrous lows are here on a caree...  \n",
       "3   Pitchfork   82.0  With Doris, Odd Future’s Odysseus is finally b...  \n",
       "4    AllMusic   71.0  Though Giraffe is definitely Echoboy's most im...  "
      ]
     },
     "execution_count": 26,
     "metadata": {},
     "output_type": "execute_result"
    }
   ],
   "source": [
    "music_subset = music[2:5]\n",
    "music_subset"
   ]
  },
  {
   "cell_type": "code",
   "execution_count": 27,
   "metadata": {},
   "outputs": [
    {
     "data": {
      "text/html": [
       "<div>\n",
       "<style scoped>\n",
       "    .dataframe tbody tr th:only-of-type {\n",
       "        vertical-align: middle;\n",
       "    }\n",
       "\n",
       "    .dataframe tbody tr th {\n",
       "        vertical-align: top;\n",
       "    }\n",
       "\n",
       "    .dataframe thead th {\n",
       "        text-align: right;\n",
       "    }\n",
       "</style>\n",
       "<table border=\"1\" class=\"dataframe\">\n",
       "  <thead>\n",
       "    <tr style=\"text-align: right;\">\n",
       "      <th></th>\n",
       "      <th>ALBUM</th>\n",
       "      <th>artist</th>\n",
       "      <th>genre</th>\n",
       "      <th>release_date</th>\n",
       "      <th>critic</th>\n",
       "      <th>score</th>\n",
       "      <th>Body</th>\n",
       "    </tr>\n",
       "  </thead>\n",
       "  <tbody>\n",
       "    <tr>\n",
       "      <th>3</th>\n",
       "      <td>Doris</td>\n",
       "      <td>Earl Sweatshirt</td>\n",
       "      <td>Rap</td>\n",
       "      <td>2013-08-20 00:00:00</td>\n",
       "      <td>Pitchfork</td>\n",
       "      <td>82.0</td>\n",
       "      <td>With Doris, Odd Future’s Odysseus is finally b...</td>\n",
       "    </tr>\n",
       "    <tr>\n",
       "      <th>4</th>\n",
       "      <td>Giraffe</td>\n",
       "      <td>Echoboy</td>\n",
       "      <td>Rock</td>\n",
       "      <td>2003-02-25 00:00:00</td>\n",
       "      <td>AllMusic</td>\n",
       "      <td>71.0</td>\n",
       "      <td>Though Giraffe is definitely Echoboy's most im...</td>\n",
       "    </tr>\n",
       "    <tr>\n",
       "      <th>5</th>\n",
       "      <td>Weathervanes</td>\n",
       "      <td>Freelance Whales</td>\n",
       "      <td>Indie</td>\n",
       "      <td>2010-04-13 00:00:00</td>\n",
       "      <td>Q Magazine</td>\n",
       "      <td>68.0</td>\n",
       "      <td>Fans of Owl City and The Postal Service will r...</td>\n",
       "    </tr>\n",
       "  </tbody>\n",
       "</table>\n",
       "</div>"
      ],
      "text/plain": [
       "          ALBUM            artist  genre         release_date      critic  \\\n",
       "3         Doris   Earl Sweatshirt    Rap  2013-08-20 00:00:00   Pitchfork   \n",
       "4       Giraffe           Echoboy   Rock  2003-02-25 00:00:00    AllMusic   \n",
       "5  Weathervanes  Freelance Whales  Indie  2010-04-13 00:00:00  Q Magazine   \n",
       "\n",
       "   score                                               Body  \n",
       "3   82.0  With Doris, Odd Future’s Odysseus is finally b...  \n",
       "4   71.0  Though Giraffe is definitely Echoboy's most im...  \n",
       "5   68.0  Fans of Owl City and The Postal Service will r...  "
      ]
     },
     "execution_count": 27,
     "metadata": {},
     "output_type": "execute_result"
    }
   ],
   "source": [
    "music_subset = music[3:6]\n",
    "music_subset"
   ]
  },
  {
   "cell_type": "markdown",
   "metadata": {},
   "source": [
    "# Challenge 6: `iloc`\n",
    "\n",
    "Use `.iloc` to return just the 1st, 82nd, 988th, 2561st, 4002nd, and and last review in a variable named music2"
   ]
  },
  {
   "cell_type": "code",
   "execution_count": 32,
   "metadata": {},
   "outputs": [
    {
     "data": {
      "text/html": [
       "<div>\n",
       "<style scoped>\n",
       "    .dataframe tbody tr th:only-of-type {\n",
       "        vertical-align: middle;\n",
       "    }\n",
       "\n",
       "    .dataframe tbody tr th {\n",
       "        vertical-align: top;\n",
       "    }\n",
       "\n",
       "    .dataframe thead th {\n",
       "        text-align: right;\n",
       "    }\n",
       "</style>\n",
       "<table border=\"1\" class=\"dataframe\">\n",
       "  <thead>\n",
       "    <tr style=\"text-align: right;\">\n",
       "      <th></th>\n",
       "      <th>ALBUM</th>\n",
       "      <th>artist</th>\n",
       "      <th>genre</th>\n",
       "      <th>release_date</th>\n",
       "      <th>critic</th>\n",
       "      <th>score</th>\n",
       "      <th>Body</th>\n",
       "    </tr>\n",
       "  </thead>\n",
       "  <tbody>\n",
       "    <tr>\n",
       "      <th>0</th>\n",
       "      <td>Don't Panic</td>\n",
       "      <td>All Time Low</td>\n",
       "      <td>Pop/Rock</td>\n",
       "      <td>2012-10-09 00:00:00</td>\n",
       "      <td>Kerrang!</td>\n",
       "      <td>74.0</td>\n",
       "      <td>While For Baltimore proves they can still writ...</td>\n",
       "    </tr>\n",
       "    <tr>\n",
       "      <th>81</th>\n",
       "      <td>The Music</td>\n",
       "      <td>The Music</td>\n",
       "      <td>Indie</td>\n",
       "      <td>2003-02-25 00:00:00</td>\n",
       "      <td>Spin</td>\n",
       "      <td>58.0</td>\n",
       "      <td>What's most British about the Music is their t...</td>\n",
       "    </tr>\n",
       "    <tr>\n",
       "      <th>987</th>\n",
       "      <td>Inni [Live]</td>\n",
       "      <td>Sigur Rós</td>\n",
       "      <td>Pop/Rock</td>\n",
       "      <td>2011-11-15 00:00:00</td>\n",
       "      <td>williamplong</td>\n",
       "      <td>78.0</td>\n",
       "      <td>Emotional and brilliant! This live production ...</td>\n",
       "    </tr>\n",
       "    <tr>\n",
       "      <th>2560</th>\n",
       "      <td>Now</td>\n",
       "      <td>Maxwell</td>\n",
       "      <td>Pop</td>\n",
       "      <td>2001-08-14 00:00:00</td>\n",
       "      <td>Sonicnet</td>\n",
       "      <td>78.0</td>\n",
       "      <td>Now is Maxwell's best album, because he's lear...</td>\n",
       "    </tr>\n",
       "    <tr>\n",
       "      <th>4001</th>\n",
       "      <td>Into The Blue Again</td>\n",
       "      <td>The Album Leaf</td>\n",
       "      <td>Indie</td>\n",
       "      <td>2006-09-12 00:00:00</td>\n",
       "      <td>Playlouder</td>\n",
       "      <td>67.0</td>\n",
       "      <td>A lesson in understatement, 'Into The Blue Aga...</td>\n",
       "    </tr>\n",
       "    <tr>\n",
       "      <th>5000</th>\n",
       "      <td>And Their Refinement Of The Decline</td>\n",
       "      <td>Stars Of The Lid</td>\n",
       "      <td>Rock</td>\n",
       "      <td>2007-04-07 00:00:00</td>\n",
       "      <td>PopMatters</td>\n",
       "      <td>87.0</td>\n",
       "      <td>Their work, especially that displayed on Refin...</td>\n",
       "    </tr>\n",
       "  </tbody>\n",
       "</table>\n",
       "</div>"
      ],
      "text/plain": [
       "                                    ALBUM            artist     genre  \\\n",
       "0                             Don't Panic      All Time Low  Pop/Rock   \n",
       "81                              The Music         The Music     Indie   \n",
       "987                           Inni [Live]         Sigur Rós  Pop/Rock   \n",
       "2560                                  Now           Maxwell       Pop   \n",
       "4001                  Into The Blue Again    The Album Leaf     Indie   \n",
       "5000  And Their Refinement Of The Decline  Stars Of The Lid      Rock   \n",
       "\n",
       "             release_date        critic  score  \\\n",
       "0     2012-10-09 00:00:00      Kerrang!   74.0   \n",
       "81    2003-02-25 00:00:00          Spin   58.0   \n",
       "987   2011-11-15 00:00:00  williamplong   78.0   \n",
       "2560  2001-08-14 00:00:00      Sonicnet   78.0   \n",
       "4001  2006-09-12 00:00:00    Playlouder   67.0   \n",
       "5000  2007-04-07 00:00:00    PopMatters   87.0   \n",
       "\n",
       "                                                   Body  \n",
       "0     While For Baltimore proves they can still writ...  \n",
       "81    What's most British about the Music is their t...  \n",
       "987   Emotional and brilliant! This live production ...  \n",
       "2560  Now is Maxwell's best album, because he's lear...  \n",
       "4001  A lesson in understatement, 'Into The Blue Aga...  \n",
       "5000  Their work, especially that displayed on Refin...  "
      ]
     },
     "execution_count": 32,
     "metadata": {},
     "output_type": "execute_result"
    }
   ],
   "source": [
    "music2 = music.iloc[[0, 81, 987, 2560, 4001, -1]]\n",
    "music2"
   ]
  },
  {
   "cell_type": "markdown",
   "metadata": {},
   "source": [
    "# Challenge 7: `iloc` Slice and Stride\n",
    "\n",
    "Use `.iloc` to return every 40th album between reviews 20 and 200 and save this subset in a variable named music3"
   ]
  },
  {
   "cell_type": "code",
   "execution_count": 36,
   "metadata": {},
   "outputs": [
    {
     "data": {
      "text/html": [
       "<div>\n",
       "<style scoped>\n",
       "    .dataframe tbody tr th:only-of-type {\n",
       "        vertical-align: middle;\n",
       "    }\n",
       "\n",
       "    .dataframe tbody tr th {\n",
       "        vertical-align: top;\n",
       "    }\n",
       "\n",
       "    .dataframe thead th {\n",
       "        text-align: right;\n",
       "    }\n",
       "</style>\n",
       "<table border=\"1\" class=\"dataframe\">\n",
       "  <thead>\n",
       "    <tr style=\"text-align: right;\">\n",
       "      <th></th>\n",
       "      <th>ALBUM</th>\n",
       "      <th>artist</th>\n",
       "      <th>genre</th>\n",
       "      <th>release_date</th>\n",
       "      <th>critic</th>\n",
       "      <th>score</th>\n",
       "      <th>Body</th>\n",
       "    </tr>\n",
       "  </thead>\n",
       "  <tbody>\n",
       "    <tr>\n",
       "      <th>20</th>\n",
       "      <td>July Flame</td>\n",
       "      <td>Laura Veirs</td>\n",
       "      <td>Indie</td>\n",
       "      <td>2010-01-12 00:00:00</td>\n",
       "      <td>musicOMH.com</td>\n",
       "      <td>81.0</td>\n",
       "      <td>Laura Veirs makes an excellent case for hersel...</td>\n",
       "    </tr>\n",
       "    <tr>\n",
       "      <th>60</th>\n",
       "      <td>Angels &amp; Devils</td>\n",
       "      <td>The Bug</td>\n",
       "      <td>Electronic</td>\n",
       "      <td>2014-08-26 00:00:00</td>\n",
       "      <td>The Quietus</td>\n",
       "      <td>83.0</td>\n",
       "      <td>An album that's otherwise remarkably deft at u...</td>\n",
       "    </tr>\n",
       "    <tr>\n",
       "      <th>100</th>\n",
       "      <td>Pilot Talk III</td>\n",
       "      <td>Curren$y</td>\n",
       "      <td>Rap</td>\n",
       "      <td>2015-04-04 00:00:00</td>\n",
       "      <td>bossmanrwat11</td>\n",
       "      <td>78.0</td>\n",
       "      <td>Big Spitta fan here, but his remarkable consis...</td>\n",
       "    </tr>\n",
       "    <tr>\n",
       "      <th>140</th>\n",
       "      <td>A Thousand Shark's Teeth</td>\n",
       "      <td>My Brightest Diamond</td>\n",
       "      <td>Indie</td>\n",
       "      <td>2008-06-17 00:00:00</td>\n",
       "      <td>PopMatters</td>\n",
       "      <td>72.0</td>\n",
       "      <td>It’s a swooning, big-gestured album to get los...</td>\n",
       "    </tr>\n",
       "    <tr>\n",
       "      <th>180</th>\n",
       "      <td>Television Man</td>\n",
       "      <td>Naomi Punk</td>\n",
       "      <td>Pop/Rock</td>\n",
       "      <td>2014-08-05 00:00:00</td>\n",
       "      <td>Rolling Stone</td>\n",
       "      <td>71.0</td>\n",
       "      <td>Sure, the songs' formulaic stop-and-spurt atta...</td>\n",
       "    </tr>\n",
       "  </tbody>\n",
       "</table>\n",
       "</div>"
      ],
      "text/plain": [
       "                        ALBUM                artist       genre  \\\n",
       "20                 July Flame           Laura Veirs       Indie   \n",
       "60            Angels & Devils               The Bug  Electronic   \n",
       "100            Pilot Talk III              Curren$y         Rap   \n",
       "140  A Thousand Shark's Teeth  My Brightest Diamond       Indie   \n",
       "180            Television Man            Naomi Punk    Pop/Rock   \n",
       "\n",
       "            release_date         critic  score  \\\n",
       "20   2010-01-12 00:00:00   musicOMH.com   81.0   \n",
       "60   2014-08-26 00:00:00    The Quietus   83.0   \n",
       "100  2015-04-04 00:00:00  bossmanrwat11   78.0   \n",
       "140  2008-06-17 00:00:00     PopMatters   72.0   \n",
       "180  2014-08-05 00:00:00  Rolling Stone   71.0   \n",
       "\n",
       "                                                  Body  \n",
       "20   Laura Veirs makes an excellent case for hersel...  \n",
       "60   An album that's otherwise remarkably deft at u...  \n",
       "100  Big Spitta fan here, but his remarkable consis...  \n",
       "140  It’s a swooning, big-gestured album to get los...  \n",
       "180  Sure, the songs' formulaic stop-and-spurt atta...  "
      ]
     },
     "execution_count": 36,
     "metadata": {},
     "output_type": "execute_result"
    }
   ],
   "source": [
    "music3 = music.iloc[20:199:40]\n",
    "music3"
   ]
  },
  {
   "cell_type": "markdown",
   "metadata": {},
   "source": [
    "# Challenge 8: `iloc` Rows and Columns\n",
    "\n",
    "Use `iloc` to extract the last five rows in the music data set but only the \"artist\", \"ALBUM\", and \"score\" columns - in that order!\n",
    "\n",
    "> HINT: How do `iloc` and `loc` differ?"
   ]
  },
  {
   "cell_type": "code",
   "execution_count": 46,
   "metadata": {},
   "outputs": [
    {
     "data": {
      "text/html": [
       "<div>\n",
       "<style scoped>\n",
       "    .dataframe tbody tr th:only-of-type {\n",
       "        vertical-align: middle;\n",
       "    }\n",
       "\n",
       "    .dataframe tbody tr th {\n",
       "        vertical-align: top;\n",
       "    }\n",
       "\n",
       "    .dataframe thead th {\n",
       "        text-align: right;\n",
       "    }\n",
       "</style>\n",
       "<table border=\"1\" class=\"dataframe\">\n",
       "  <thead>\n",
       "    <tr style=\"text-align: right;\">\n",
       "      <th></th>\n",
       "      <th>artist</th>\n",
       "      <th>ALBUM</th>\n",
       "      <th>score</th>\n",
       "    </tr>\n",
       "  </thead>\n",
       "  <tbody>\n",
       "    <tr>\n",
       "      <th>4996</th>\n",
       "      <td>Conor Oberst And The Mystic Valley Band</td>\n",
       "      <td>Outer South</td>\n",
       "      <td>67.0</td>\n",
       "    </tr>\n",
       "    <tr>\n",
       "      <th>4997</th>\n",
       "      <td>David Gilmour</td>\n",
       "      <td>On An Island</td>\n",
       "      <td>67.0</td>\n",
       "    </tr>\n",
       "    <tr>\n",
       "      <th>4998</th>\n",
       "      <td>Gossip</td>\n",
       "      <td>Movement</td>\n",
       "      <td>81.0</td>\n",
       "    </tr>\n",
       "    <tr>\n",
       "      <th>4999</th>\n",
       "      <td>Dr. John</td>\n",
       "      <td>Locked Down</td>\n",
       "      <td>86.0</td>\n",
       "    </tr>\n",
       "    <tr>\n",
       "      <th>5000</th>\n",
       "      <td>Stars Of The Lid</td>\n",
       "      <td>And Their Refinement Of The Decline</td>\n",
       "      <td>87.0</td>\n",
       "    </tr>\n",
       "  </tbody>\n",
       "</table>\n",
       "</div>"
      ],
      "text/plain": [
       "                                       artist  \\\n",
       "4996  Conor Oberst And The Mystic Valley Band   \n",
       "4997                            David Gilmour   \n",
       "4998                                   Gossip   \n",
       "4999                                 Dr. John   \n",
       "5000                         Stars Of The Lid   \n",
       "\n",
       "                                    ALBUM  score  \n",
       "4996                          Outer South   67.0  \n",
       "4997                         On An Island   67.0  \n",
       "4998                             Movement   81.0  \n",
       "4999                          Locked Down   86.0  \n",
       "5000  And Their Refinement Of The Decline   87.0  "
      ]
     },
     "execution_count": 46,
     "metadata": {},
     "output_type": "execute_result"
    }
   ],
   "source": [
    "music.iloc[-5:,[1,0,5]]"
   ]
  },
  {
   "cell_type": "markdown",
   "metadata": {},
   "source": [
    "# Challenge 9: `.loc` Rows and Columns \n",
    "\n",
    "Use `loc` to extract the first 5 rows in the music data set but only the \"artist\", \"ALBUM\", and \"score\" columns - in that order!"
   ]
  },
  {
   "cell_type": "code",
   "execution_count": 53,
   "metadata": {},
   "outputs": [
    {
     "data": {
      "text/html": [
       "<div>\n",
       "<style scoped>\n",
       "    .dataframe tbody tr th:only-of-type {\n",
       "        vertical-align: middle;\n",
       "    }\n",
       "\n",
       "    .dataframe tbody tr th {\n",
       "        vertical-align: top;\n",
       "    }\n",
       "\n",
       "    .dataframe thead th {\n",
       "        text-align: right;\n",
       "    }\n",
       "</style>\n",
       "<table border=\"1\" class=\"dataframe\">\n",
       "  <thead>\n",
       "    <tr style=\"text-align: right;\">\n",
       "      <th></th>\n",
       "      <th>ALBUM</th>\n",
       "      <th>artist</th>\n",
       "      <th>genre</th>\n",
       "      <th>release_date</th>\n",
       "      <th>critic</th>\n",
       "      <th>score</th>\n",
       "      <th>Body</th>\n",
       "    </tr>\n",
       "  </thead>\n",
       "  <tbody>\n",
       "    <tr>\n",
       "      <th>0</th>\n",
       "      <td>Don't Panic</td>\n",
       "      <td>All Time Low</td>\n",
       "      <td>Pop/Rock</td>\n",
       "      <td>2012-10-09 00:00:00</td>\n",
       "      <td>Kerrang!</td>\n",
       "      <td>74.0</td>\n",
       "      <td>While For Baltimore proves they can still writ...</td>\n",
       "    </tr>\n",
       "    <tr>\n",
       "      <th>1</th>\n",
       "      <td>Fear and Saturday Night</td>\n",
       "      <td>Ryan Bingham</td>\n",
       "      <td>Country</td>\n",
       "      <td>2015-01-20 00:00:00</td>\n",
       "      <td>Uncut</td>\n",
       "      <td>70.0</td>\n",
       "      <td>There's nothing fake about the purgatorial nar...</td>\n",
       "    </tr>\n",
       "    <tr>\n",
       "      <th>2</th>\n",
       "      <td>The Way I'm Livin'</td>\n",
       "      <td>Lee Ann Womack</td>\n",
       "      <td>Country</td>\n",
       "      <td>2014-09-23 00:00:00</td>\n",
       "      <td>Q Magazine</td>\n",
       "      <td>84.0</td>\n",
       "      <td>All life's disastrous lows are here on a caree...</td>\n",
       "    </tr>\n",
       "    <tr>\n",
       "      <th>3</th>\n",
       "      <td>Doris</td>\n",
       "      <td>Earl Sweatshirt</td>\n",
       "      <td>Rap</td>\n",
       "      <td>2013-08-20 00:00:00</td>\n",
       "      <td>Pitchfork</td>\n",
       "      <td>82.0</td>\n",
       "      <td>With Doris, Odd Future’s Odysseus is finally b...</td>\n",
       "    </tr>\n",
       "    <tr>\n",
       "      <th>4</th>\n",
       "      <td>Giraffe</td>\n",
       "      <td>Echoboy</td>\n",
       "      <td>Rock</td>\n",
       "      <td>2003-02-25 00:00:00</td>\n",
       "      <td>AllMusic</td>\n",
       "      <td>71.0</td>\n",
       "      <td>Though Giraffe is definitely Echoboy's most im...</td>\n",
       "    </tr>\n",
       "    <tr>\n",
       "      <th>5</th>\n",
       "      <td>Weathervanes</td>\n",
       "      <td>Freelance Whales</td>\n",
       "      <td>Indie</td>\n",
       "      <td>2010-04-13 00:00:00</td>\n",
       "      <td>Q Magazine</td>\n",
       "      <td>68.0</td>\n",
       "      <td>Fans of Owl City and The Postal Service will r...</td>\n",
       "    </tr>\n",
       "  </tbody>\n",
       "</table>\n",
       "</div>"
      ],
      "text/plain": [
       "                     ALBUM            artist     genre         release_date  \\\n",
       "0              Don't Panic      All Time Low  Pop/Rock  2012-10-09 00:00:00   \n",
       "1  Fear and Saturday Night      Ryan Bingham   Country  2015-01-20 00:00:00   \n",
       "2       The Way I'm Livin'    Lee Ann Womack   Country  2014-09-23 00:00:00   \n",
       "3                    Doris   Earl Sweatshirt       Rap  2013-08-20 00:00:00   \n",
       "4                  Giraffe           Echoboy      Rock  2003-02-25 00:00:00   \n",
       "5             Weathervanes  Freelance Whales     Indie  2010-04-13 00:00:00   \n",
       "\n",
       "       critic  score                                               Body  \n",
       "0    Kerrang!   74.0  While For Baltimore proves they can still writ...  \n",
       "1       Uncut   70.0  There's nothing fake about the purgatorial nar...  \n",
       "2  Q Magazine   84.0  All life's disastrous lows are here on a caree...  \n",
       "3   Pitchfork   82.0  With Doris, Odd Future’s Odysseus is finally b...  \n",
       "4    AllMusic   71.0  Though Giraffe is definitely Echoboy's most im...  \n",
       "5  Q Magazine   68.0  Fans of Owl City and The Postal Service will r...  "
      ]
     },
     "execution_count": 53,
     "metadata": {},
     "output_type": "execute_result"
    }
   ],
   "source": [
    "music.loc[:5]"
   ]
  },
  {
   "cell_type": "markdown",
   "metadata": {},
   "source": [
    "# Challenge 10: Create New Column\n",
    "\n",
    "Create a new column in music3 named \"score_int\" that is a copy of \"score\" - but converted to an integer."
   ]
  },
  {
   "cell_type": "code",
   "execution_count": null,
   "metadata": {},
   "outputs": [],
   "source": [
    "## YOUR CODE HERE"
   ]
  },
  {
   "cell_type": "markdown",
   "metadata": {},
   "source": [
    "# Challenge 11: Create New Column with Calculation\n",
    "\n",
    "Create a new column named \"decimal\" that is a copy of \"score_int\" but that is divided by 100 and rounded to two decimal places."
   ]
  },
  {
   "cell_type": "code",
   "execution_count": null,
   "metadata": {
    "scrolled": true
   },
   "outputs": [],
   "source": [
    "## YOUR CODE HERE"
   ]
  },
  {
   "cell_type": "markdown",
   "metadata": {},
   "source": [
    "# Challenge 12: Reorder Columns\n",
    "\n",
    "Reorder the columns of music3 in this order: critic, genre, artist, ALBUM, score, score_int, decimal, Body, release_date"
   ]
  },
  {
   "cell_type": "code",
   "execution_count": null,
   "metadata": {},
   "outputs": [],
   "source": [
    "## YOUR CODE HERE"
   ]
  },
  {
   "cell_type": "markdown",
   "metadata": {},
   "source": [
    "# Challenge 13: `.value_counts()`\n",
    "\n",
    "Use `.value_counts()` to sum the total number of reviews for each critic. Return only the top 20. "
   ]
  },
  {
   "cell_type": "code",
   "execution_count": null,
   "metadata": {},
   "outputs": [],
   "source": [
    "## YOUR CODE HERE"
   ]
  },
  {
   "cell_type": "markdown",
   "metadata": {},
   "source": [
    "# Challenge 14: Import .csv file from a URL\n",
    "\n",
    "You can also import data from web addresses. Import the file found at this URL and save it in a variable named countries: https://raw.githubusercontent.com/dlab-berkeley/introduction-to-pandas/master/data/countries.csv\n",
    "\n",
    "Use `.value_counts()` to state how many of these countries are EU versus non-EU; save this as a DataFrame named summary"
   ]
  },
  {
   "cell_type": "code",
   "execution_count": null,
   "metadata": {},
   "outputs": [],
   "source": [
    "## YOUR CODE HERE"
   ]
  },
  {
   "cell_type": "markdown",
   "metadata": {},
   "source": [
    "Use `.value_counts()` to show how many EU versus non-EU countries are in this dataset:"
   ]
  },
  {
   "cell_type": "code",
   "execution_count": null,
   "metadata": {},
   "outputs": [],
   "source": [
    "## YOUR CODE HERE"
   ]
  }
 ],
 "metadata": {
  "kernelspec": {
   "display_name": "Python 3",
   "language": "python",
   "name": "python3"
  },
  "language_info": {
   "codemirror_mode": {
    "name": "ipython",
    "version": 3
   },
   "file_extension": ".py",
   "mimetype": "text/x-python",
   "name": "python",
   "nbconvert_exporter": "python",
   "pygments_lexer": "ipython3",
   "version": "3.7.6"
  }
 },
 "nbformat": 4,
 "nbformat_minor": 4
}
