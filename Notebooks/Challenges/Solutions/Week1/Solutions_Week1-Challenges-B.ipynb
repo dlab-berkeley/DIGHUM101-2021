{
 "cells": [
  {
   "cell_type": "markdown",
   "metadata": {},
   "source": [
    "## Challenge 1: Lists - Slice It!\n",
    "\n",
    "If `thing` is a list and `low` and `high` are both non-negative integers:\n",
    "\n",
    "1. What does `thing[low:high]` do?\n",
    "2. What does `thing[low:]` (without a value after the colon) do?\n",
    "3. What does `thing[:high]` (without a value before the colon) do?\n",
    "4. What does `thing[:]` (just a colon) do?\n",
    "5. How long is the list `thing[low:high]`?"
   ]
  },
  {
   "cell_type": "code",
   "execution_count": 1,
   "metadata": {},
   "outputs": [
    {
     "name": "stdout",
     "output_type": "stream",
     "text": [
      "[3, 6, 3]\n",
      "[3, 6, 3, 6, 7]\n",
      "[1, 4, 3, 6, 3]\n",
      "[1, 4, 3, 6, 3, 6, 7]\n",
      "3\n"
     ]
    }
   ],
   "source": [
    "thing = [1, 4, 3, 6, 3, 6, 7]\n",
    "\n",
    "low = 2\n",
    "high = 5\n",
    "\n",
    "print(thing[low:high])\n",
    "print(thing[low:])\n",
    "print(thing[:high])\n",
    "print(thing[:])\n",
    "print(len(thing[low:high]))"
   ]
  },
  {
   "cell_type": "markdown",
   "metadata": {},
   "source": [
    "## Challenge 2: Lists - Making Strides\n",
    "\n",
    "What does the following program print?"
   ]
  },
  {
   "cell_type": "code",
   "execution_count": 2,
   "metadata": {},
   "outputs": [
    {
     "name": "stdout",
     "output_type": "stream",
     "text": [
      "Bree\n",
      "yelekreB\n"
     ]
    }
   ],
   "source": [
    "city = 'Berkeley'\n",
    "print(city[::2])\n",
    "print(city[::-1])"
   ]
  },
  {
   "cell_type": "markdown",
   "metadata": {},
   "source": [
    "1. If we write a [slice](https://github.com/dlab-berkeley/python-intensive/blob/master/Glossary.md#slice) as low:high:stride, what does stride do?\n",
    "2. What expression would select all of the even-numbered items from a collection?"
   ]
  },
  {
   "cell_type": "code",
   "execution_count": 3,
   "metadata": {},
   "outputs": [
    {
     "name": "stdout",
     "output_type": "stream",
     "text": [
      "[1, 2, 3, 4, 5, 6, 7, 8, 9, 10, 11, 12, 13, 14, 15, 16, 17, 18, 19, 20, 21, 22, 23, 24, 25, 26, 27, 28, 29, 30, 31, 32, 33, 34, 35, 36, 37, 38, 39, 40, 41, 42, 43, 44, 45, 46, 47, 48, 49, 50]\n"
     ]
    }
   ],
   "source": [
    "numbers = list(range(1,51))\n",
    "print(numbers)"
   ]
  },
  {
   "cell_type": "code",
   "execution_count": 4,
   "metadata": {},
   "outputs": [
    {
     "name": "stdout",
     "output_type": "stream",
     "text": [
      "[2, 4, 6, 8, 10, 12, 14, 16, 18, 20, 22, 24, 26, 28, 30, 32, 34, 36, 38, 40, 42, 44, 46, 48, 50]\n"
     ]
    }
   ],
   "source": [
    "print(numbers[1::2])"
   ]
  },
  {
   "cell_type": "markdown",
   "metadata": {},
   "source": [
    "## Challenge 3: Lists - Append vs. Extend\n",
    "\n",
    "Using the program below, can you tell the difference between the `append` method and the `extend` method?"
   ]
  },
  {
   "cell_type": "code",
   "execution_count": 5,
   "metadata": {},
   "outputs": [
    {
     "name": "stdout",
     "output_type": "stream",
     "text": [
      "append does this: ['bread', 'pasta', 'beans', 'cereal', ['granola bars', 'cookies']]\n",
      "extend does this: ['bread', 'pasta', 'beans', 'cereal', 'granola bars', 'cookies']\n"
     ]
    }
   ],
   "source": [
    "pantry_1 = ['bread', 'pasta', 'beans', 'cereal']\n",
    "pantry_2 = ['bread', 'pasta', 'beans', 'cereal']\n",
    "new_items = ['granola bars', 'cookies']\n",
    "pantry_1.append(new_items)\n",
    "pantry_2.extend(new_items)\n",
    "print('append does this:', pantry_1)\n",
    "print('extend does this:', pantry_2)"
   ]
  },
  {
   "cell_type": "markdown",
   "metadata": {},
   "source": [
    "## Challenge 4: Lists - Index\n",
    "\n",
    "I've created a (long) list for you below. Use the `.index()` method to find out what the index number is for `Waldo`"
   ]
  },
  {
   "cell_type": "code",
   "execution_count": 6,
   "metadata": {},
   "outputs": [],
   "source": [
    "Wheres_Waldo = [\"Anna\", \"Shad\", \"Rachel\", \"Maura\", \"Jason\", \"Matt\", \"Konrad\", \"Justine\", \"Sarah\", \"Laura\", \\\n",
    "                \"Chelsea\", \"Nina\", \"Dierdre\", \"Julian\", \"Waldo\", \"Naniette\", \"Melissa\", \"Biz\", \"Elsa\", \"Demetria\",\\\n",
    "                \"Liz\", \"Olivia\", \"Will\", \"Ogi\", \"Melanie\", \"Jessica\"]"
   ]
  },
  {
   "cell_type": "code",
   "execution_count": 7,
   "metadata": {},
   "outputs": [
    {
     "data": {
      "text/plain": [
       "14"
      ]
     },
     "execution_count": 7,
     "metadata": {},
     "output_type": "execute_result"
    }
   ],
   "source": [
    "Wheres_Waldo.index(\"Waldo\")"
   ]
  },
  {
   "cell_type": "markdown",
   "metadata": {},
   "source": [
    "## Challenge 5:  Lists - join\n",
    "\n",
    "Read the help file for the `join` method. \n",
    "\n",
    "Using the join method, concatenate all the values in this list into one string:"
   ]
  },
  {
   "cell_type": "code",
   "execution_count": 8,
   "metadata": {},
   "outputs": [],
   "source": [
    "letters = ['s', 'p', 'a', 'm']"
   ]
  },
  {
   "cell_type": "code",
   "execution_count": 9,
   "metadata": {},
   "outputs": [
    {
     "name": "stdout",
     "output_type": "stream",
     "text": [
      "spam\n"
     ]
    }
   ],
   "source": [
    "print(''.join(letters))"
   ]
  },
  {
   "cell_type": "markdown",
   "metadata": {},
   "source": [
    "Now use the `join` method to make one string with all the names from the list `Wheres_Waldo`, which prints each name on a separate line. (HINT: Remember a new line is represented by `\\n`"
   ]
  },
  {
   "cell_type": "code",
   "execution_count": 10,
   "metadata": {},
   "outputs": [
    {
     "name": "stdout",
     "output_type": "stream",
     "text": [
      "Anna\n",
      "Shad\n",
      "Rachel\n",
      "Maura\n",
      "Jason\n",
      "Matt\n",
      "Konrad\n",
      "Justine\n",
      "Sarah\n",
      "Laura\n",
      "Chelsea\n",
      "Nina\n",
      "Dierdre\n",
      "Julian\n",
      "Waldo\n",
      "Naniette\n",
      "Melissa\n",
      "Biz\n",
      "Elsa\n",
      "Demetria\n",
      "Liz\n",
      "Olivia\n",
      "Will\n",
      "Ogi\n",
      "Melanie\n",
      "Jessica\n"
     ]
    }
   ],
   "source": [
    "print('\\n'.join(Wheres_Waldo))"
   ]
  },
  {
   "cell_type": "markdown",
   "metadata": {},
   "source": [
    "Reverse the order of the names:"
   ]
  },
  {
   "cell_type": "code",
   "execution_count": 11,
   "metadata": {
    "scrolled": true
   },
   "outputs": [
    {
     "name": "stdout",
     "output_type": "stream",
     "text": [
      "Jessica\n",
      "Melanie\n",
      "Ogi\n",
      "Will\n",
      "Olivia\n",
      "Liz\n",
      "Demetria\n",
      "Elsa\n",
      "Biz\n",
      "Melissa\n",
      "Naniette\n",
      "Waldo\n",
      "Julian\n",
      "Dierdre\n",
      "Nina\n",
      "Chelsea\n",
      "Laura\n",
      "Sarah\n",
      "Justine\n",
      "Konrad\n",
      "Matt\n",
      "Jason\n",
      "Maura\n",
      "Rachel\n",
      "Shad\n",
      "Anna\n"
     ]
    }
   ],
   "source": [
    "print('\\n'.join(Wheres_Waldo[::-1]))"
   ]
  },
  {
   "cell_type": "markdown",
   "metadata": {},
   "source": [
    "## Challenge 6: Dictionaries - Make your own\n",
    "\n",
    "Dictionaries can be nested, which means that dictionary keys can contain dictionaries themselves.\n",
    "\n",
    "1. Create two dictionaries, each representing one of your favorite musical artist. Each dictionary should have the following keys / value-type: `name`: (string) , `genre`: (string), `songs` (list), `age`: (integer)\n",
    "\n",
    "2. Create an outer dictionary called `musical_artists` that contain the two inner dictionaries."
   ]
  },
  {
   "cell_type": "code",
   "execution_count": 12,
   "metadata": {},
   "outputs": [
    {
     "name": "stdout",
     "output_type": "stream",
     "text": [
      "{'musical_artists': [{'name': 'Journey', 'genre': 'Classic Rock', 'songs': [\"Don't Stop Believin'\", 'Wheel in the Sky'], 'age': 34}, {'name': 'Justin Bieber', 'genre': 'Pop', 'songs': ['Sorry', 'Baby'], 'age': 22}]}\n"
     ]
    }
   ],
   "source": [
    "journey = {\"name\": \"Journey\", \"genre\": \"Classic Rock\", \"songs\": [\"Don't Stop Believin'\", \"Wheel in the Sky\"], \"age\": 34}\n",
    "bieber = {\"name\": \"Justin Bieber\", \"genre\": \"Pop\", \"songs\": [\"Sorry\", \"Baby\"], \"age\": 22}\n",
    "\n",
    "musical_artists = {\"musical_artists\": [journey, bieber]}\n",
    "\n",
    "print(musical_artists)"
   ]
  },
  {
   "cell_type": "code",
   "execution_count": 13,
   "metadata": {},
   "outputs": [
    {
     "data": {
      "text/plain": [
       "{'Journey': {'name': 'Journey',\n",
       "  'genre': 'Classic Rock',\n",
       "  'songs': [\"Don't Stop Believin'\", 'Wheel in the Sky'],\n",
       "  'age': 34},\n",
       " 'Justin Bieber': {'name': 'Justin Bieber',\n",
       "  'genre': 'Pop',\n",
       "  'songs': ['Sorry', 'Baby'],\n",
       "  'age': 22}}"
      ]
     },
     "execution_count": 13,
     "metadata": {},
     "output_type": "execute_result"
    }
   ],
   "source": [
    "musical_artists = {\"Journey\": journey, \"Justin Bieber\": bieber}\n",
    "\n",
    "musical_artists"
   ]
  },
  {
   "cell_type": "markdown",
   "metadata": {},
   "source": [
    "## Challenge 7: More data structures - Array\n",
    "\n",
    "Lists are called arrays when they contain data of the same type, and may be preferred to lists when handling large amounts of data because they are computationally more efficient. Use your numpy library to create a \"numpy array\":"
   ]
  },
  {
   "cell_type": "code",
   "execution_count": 14,
   "metadata": {},
   "outputs": [],
   "source": [
    "import numpy as np"
   ]
  },
  {
   "cell_type": "code",
   "execution_count": 15,
   "metadata": {},
   "outputs": [
    {
     "name": "stdout",
     "output_type": "stream",
     "text": [
      "[ 4  5  6 10]\n",
      "<class 'numpy.ndarray'>\n"
     ]
    }
   ],
   "source": [
    "# Define a numpy array\n",
    "my_array = np.array([4, 5, 6, 10])\n",
    "\n",
    "print(my_array)\n",
    "print(type(my_array))"
   ]
  },
  {
   "cell_type": "markdown",
   "metadata": {},
   "source": [
    "Like lists, we can change an individual value by reassigning its index:"
   ]
  },
  {
   "cell_type": "code",
   "execution_count": 16,
   "metadata": {},
   "outputs": [
    {
     "name": "stdout",
     "output_type": "stream",
     "text": [
      "[42  5  6 10]\n"
     ]
    }
   ],
   "source": [
    "my_array[0] = 42\n",
    "print(my_array)"
   ]
  },
  {
   "cell_type": "code",
   "execution_count": 17,
   "metadata": {},
   "outputs": [
    {
     "name": "stdout",
     "output_type": "stream",
     "text": [
      "[14 15 16 17 18 19 20 21 22 23 24 25 26 27 28]\n"
     ]
    },
    {
     "data": {
      "text/plain": [
       "array([16, 17, 18])"
      ]
     },
     "execution_count": 17,
     "metadata": {},
     "output_type": "execute_result"
    }
   ],
   "source": [
    "# Define an array based on a range of numbers:\n",
    "number_range = np.arange(14,29)\n",
    "print(number_range)\n",
    "\n",
    "# what if I want just the third, fourth and fifth elements of \"number_range\"\n",
    "number_range[2:5]"
   ]
  },
  {
   "cell_type": "markdown",
   "metadata": {},
   "source": [
    "## Challenge 8: More data structures - Tuple\n",
    "\n",
    "Tuples are similar to lists and arrays, but they are unchangeable (\"immutable\"). \n",
    "\n",
    "For example, we cannot change the output of 10 (the dividend) divided by 3 (the divisor) - by definition the quotient is 3 and the remainder is 1 this cannot be changed. \n",
    "\n",
    "> Although they appear similar to lists, note that tuples use round parentheses `()` to store information instead of square brackets."
   ]
  },
  {
   "cell_type": "code",
   "execution_count": 18,
   "metadata": {},
   "outputs": [
    {
     "name": "stdout",
     "output_type": "stream",
     "text": [
      "(3, 1)\n",
      "<class 'tuple'>\n"
     ]
    }
   ],
   "source": [
    "div = divmod(10,3)\n",
    "print(div)\n",
    "print(type(div))"
   ]
  },
  {
   "cell_type": "markdown",
   "metadata": {},
   "source": [
    "Figure out another way to define any tuple below:"
   ]
  },
  {
   "cell_type": "code",
   "execution_count": 19,
   "metadata": {},
   "outputs": [
    {
     "name": "stdout",
     "output_type": "stream",
     "text": [
      "()\n",
      "<class 'tuple'>\n"
     ]
    }
   ],
   "source": [
    "# Empty tuple\n",
    "tuple_empty = ()\n",
    "print(tuple_empty)\n",
    "print(type(tuple_empty))"
   ]
  },
  {
   "cell_type": "code",
   "execution_count": 20,
   "metadata": {},
   "outputs": [
    {
     "name": "stdout",
     "output_type": "stream",
     "text": [
      "(1.12, 2.23, 3.14)\n",
      "<class 'tuple'>\n"
     ]
    }
   ],
   "source": [
    "# Tuple with floats\n",
    "tuple_float = (1.12, 2.23, 3.14)\n",
    "print(tuple_float)\n",
    "print(type(tuple_float))"
   ]
  },
  {
   "cell_type": "code",
   "execution_count": 21,
   "metadata": {},
   "outputs": [
    {
     "name": "stdout",
     "output_type": "stream",
     "text": [
      "([1, 3, 12], True, 'hello!', (3.14, 3.14, 3.15))\n",
      "<class 'tuple'>\n"
     ]
    }
   ],
   "source": [
    "# Complex tuple\n",
    "tuple_complex = ([1, 3, 12], True, \"hello!\", (3.14, 3.14, 3.15))\n",
    "print(tuple_complex)\n",
    "print(type(tuple_complex))"
   ]
  },
  {
   "cell_type": "markdown",
   "metadata": {},
   "source": [
    "How do you think you index or slice a tuple? HINT: You are already familiar with this! Provide one example below."
   ]
  },
  {
   "cell_type": "code",
   "execution_count": 22,
   "metadata": {},
   "outputs": [
    {
     "name": "stdout",
     "output_type": "stream",
     "text": [
      "True\n",
      "3.15\n"
     ]
    }
   ],
   "source": [
    "print(tuple_complex[1])\n",
    "\n",
    "# or\n",
    "\n",
    "print(tuple_complex[3][2])"
   ]
  },
  {
   "cell_type": "markdown",
   "metadata": {},
   "source": [
    "## Challenge 9: More data structures - Series\n",
    "\n",
    "Series are the pandas version of arrays - one dimensional data storage, preferably of the same type."
   ]
  },
  {
   "cell_type": "code",
   "execution_count": 23,
   "metadata": {},
   "outputs": [
    {
     "name": "stdout",
     "output_type": "stream",
     "text": [
      "Object `pd.Series` not found.\n"
     ]
    }
   ],
   "source": [
    "pd.Series?"
   ]
  },
  {
   "cell_type": "markdown",
   "metadata": {},
   "source": [
    "What must you do before you can call the help files for `pd.Series`?"
   ]
  },
  {
   "cell_type": "code",
   "execution_count": 2,
   "metadata": {},
   "outputs": [],
   "source": [
    "import pandas as pd"
   ]
  },
  {
   "cell_type": "code",
   "execution_count": 25,
   "metadata": {},
   "outputs": [],
   "source": [
    "pd.Series?"
   ]
  },
  {
   "cell_type": "markdown",
   "metadata": {},
   "source": [
    "What are the two arguments in the `pd.Series` code below?"
   ]
  },
  {
   "cell_type": "code",
   "execution_count": 3,
   "metadata": {
    "scrolled": false
   },
   "outputs": [
    {
     "name": "stdout",
     "output_type": "stream",
     "text": [
      "a    1\n",
      "b    2\n",
      "c    3\n",
      "d    4\n",
      "e    5\n",
      "dtype: int64\n",
      "<class 'pandas.core.series.Series'>\n"
     ]
    }
   ],
   "source": [
    "pd_series = pd.Series([1, 2, 3, 4, 5], \n",
    "                      index = [\"a\", \"b\", \"c\", \"d\", \"e\"])\n",
    "print(pd_series)\n",
    "print(type(pd_series))"
   ]
  },
  {
   "cell_type": "markdown",
   "metadata": {},
   "source": [
    "## Challenge 10: DataFrame\n",
    "\n",
    "A pandas DataFrame is an ordered group of equal-length series/arrays. This ensures that data are of the same type within each column, but that data can be of different types across rows (think like an MS Excel spreadsheet!)\n",
    "\n",
    "> Remember that pandas will be a large focus in Week 2"
   ]
  },
  {
   "cell_type": "code",
   "execution_count": 4,
   "metadata": {},
   "outputs": [
    {
     "name": "stdout",
     "output_type": "stream",
     "text": [
      "Empty DataFrame\n",
      "Columns: []\n",
      "Index: []\n"
     ]
    }
   ],
   "source": [
    "# Create a DataFrame using lists\n",
    "\n",
    "# Define two lists\n",
    "heroes = [\"Superman\", \"Black Panther\", \"Wonder Woman\", \"Batman\", \"Storm\"]\n",
    "hometown = [\"Krypton\", \"Wakanda\", \"Themyscira\", \"Gotham\", \"Harlem\"]\n",
    "age = [23, 25, 41, 52, 22]\n",
    "\n",
    "# Create an empty DataFrame\n",
    "comics = pd.DataFrame()\n",
    "print(comics)"
   ]
  },
  {
   "cell_type": "code",
   "execution_count": 5,
   "metadata": {},
   "outputs": [
    {
     "data": {
      "text/html": [
       "<div>\n",
       "<style scoped>\n",
       "    .dataframe tbody tr th:only-of-type {\n",
       "        vertical-align: middle;\n",
       "    }\n",
       "\n",
       "    .dataframe tbody tr th {\n",
       "        vertical-align: top;\n",
       "    }\n",
       "\n",
       "    .dataframe thead th {\n",
       "        text-align: right;\n",
       "    }\n",
       "</style>\n",
       "<table border=\"1\" class=\"dataframe\">\n",
       "  <thead>\n",
       "    <tr style=\"text-align: right;\">\n",
       "      <th></th>\n",
       "      <th>Name</th>\n",
       "      <th>Home</th>\n",
       "      <th>Age</th>\n",
       "    </tr>\n",
       "  </thead>\n",
       "  <tbody>\n",
       "    <tr>\n",
       "      <th>0</th>\n",
       "      <td>Superman</td>\n",
       "      <td>Krypton</td>\n",
       "      <td>23</td>\n",
       "    </tr>\n",
       "    <tr>\n",
       "      <th>1</th>\n",
       "      <td>Black Panther</td>\n",
       "      <td>Wakanda</td>\n",
       "      <td>25</td>\n",
       "    </tr>\n",
       "    <tr>\n",
       "      <th>2</th>\n",
       "      <td>Wonder Woman</td>\n",
       "      <td>Themyscira</td>\n",
       "      <td>41</td>\n",
       "    </tr>\n",
       "    <tr>\n",
       "      <th>3</th>\n",
       "      <td>Batman</td>\n",
       "      <td>Gotham</td>\n",
       "      <td>52</td>\n",
       "    </tr>\n",
       "    <tr>\n",
       "      <th>4</th>\n",
       "      <td>Storm</td>\n",
       "      <td>Harlem</td>\n",
       "      <td>22</td>\n",
       "    </tr>\n",
       "  </tbody>\n",
       "</table>\n",
       "</div>"
      ],
      "text/plain": [
       "            Name        Home  Age\n",
       "0       Superman     Krypton   23\n",
       "1  Black Panther     Wakanda   25\n",
       "2   Wonder Woman  Themyscira   41\n",
       "3         Batman      Gotham   52\n",
       "4          Storm      Harlem   22"
      ]
     },
     "execution_count": 5,
     "metadata": {},
     "output_type": "execute_result"
    }
   ],
   "source": [
    "# Use the lists to define the columns\n",
    "comics[\"Name\"] = heroes\n",
    "comics[\"Home\"] = hometown\n",
    "comics[\"Age\"] = age\n",
    "\n",
    "# View the data frame\n",
    "comics"
   ]
  },
  {
   "cell_type": "code",
   "execution_count": 6,
   "metadata": {},
   "outputs": [
    {
     "ename": "NameError",
     "evalue": "name 'list_df' is not defined",
     "output_type": "error",
     "traceback": [
      "\u001b[0;31m----------------------------------------\u001b[0m",
      "\u001b[0;31mNameError\u001b[0mTraceback (most recent call last)",
      "\u001b[0;32m<ipython-input-6-33e30a00ef9d>\u001b[0m in \u001b[0;36m<module>\u001b[0;34m\u001b[0m\n\u001b[0;32m----> 1\u001b[0;31m \u001b[0mprint\u001b[0m\u001b[0;34m(\u001b[0m\u001b[0mtype\u001b[0m\u001b[0;34m(\u001b[0m\u001b[0mlist_df\u001b[0m\u001b[0;34m[\u001b[0m\u001b[0;34m\"AGE\"\u001b[0m\u001b[0;34m]\u001b[0m\u001b[0;34m)\u001b[0m\u001b[0;34m)\u001b[0m\u001b[0;34m\u001b[0m\u001b[0m\n\u001b[0m",
      "\u001b[0;31mNameError\u001b[0m: name 'list_df' is not defined"
     ]
    }
   ],
   "source": [
    "print(type(list_df[\"AGE\"]))"
   ]
  },
  {
   "cell_type": "markdown",
   "metadata": {},
   "source": [
    "### `zip()`\n",
    "\n",
    "The `zip()` function is a handy way to define data frames using tuples. "
   ]
  },
  {
   "cell_type": "code",
   "execution_count": 7,
   "metadata": {},
   "outputs": [],
   "source": [
    "zip?"
   ]
  },
  {
   "cell_type": "code",
   "execution_count": 8,
   "metadata": {
    "scrolled": true
   },
   "outputs": [
    {
     "data": {
      "text/html": [
       "<div>\n",
       "<style scoped>\n",
       "    .dataframe tbody tr th:only-of-type {\n",
       "        vertical-align: middle;\n",
       "    }\n",
       "\n",
       "    .dataframe tbody tr th {\n",
       "        vertical-align: top;\n",
       "    }\n",
       "\n",
       "    .dataframe thead th {\n",
       "        text-align: right;\n",
       "    }\n",
       "</style>\n",
       "<table border=\"1\" class=\"dataframe\">\n",
       "  <thead>\n",
       "    <tr style=\"text-align: right;\">\n",
       "      <th></th>\n",
       "      <th>Day</th>\n",
       "      <th>Temp</th>\n",
       "    </tr>\n",
       "  </thead>\n",
       "  <tbody>\n",
       "    <tr>\n",
       "      <th>0</th>\n",
       "      <td>Monday</td>\n",
       "      <td>88</td>\n",
       "    </tr>\n",
       "    <tr>\n",
       "      <th>1</th>\n",
       "      <td>Tuesday</td>\n",
       "      <td>91</td>\n",
       "    </tr>\n",
       "    <tr>\n",
       "      <th>2</th>\n",
       "      <td>Friday</td>\n",
       "      <td>67</td>\n",
       "    </tr>\n",
       "  </tbody>\n",
       "</table>\n",
       "</div>"
      ],
      "text/plain": [
       "       Day  Temp\n",
       "0   Monday    88\n",
       "1  Tuesday    91\n",
       "2   Friday    67"
      ]
     },
     "execution_count": 8,
     "metadata": {},
     "output_type": "execute_result"
    }
   ],
   "source": [
    "# Using zip()\n",
    "\n",
    "# Define lists to be the columns in our data frame\n",
    "day = [\"Monday\", \"Tuesday\", \"Friday\"]\n",
    "temp = [88, 91, 67]\n",
    "\n",
    "# Convert our two separate lists into a list of tuples\n",
    "tuples = list(zip(day, temp))\n",
    "tuples\n",
    "\n",
    "# Create the data frame \n",
    "pd.DataFrame(tuples, columns=[\"Day\", \"Temp\"])"
   ]
  },
  {
   "cell_type": "markdown",
   "metadata": {},
   "source": [
    "Create a small data frame like the ones above from scratch. Be creative! "
   ]
  },
  {
   "cell_type": "code",
   "execution_count": 9,
   "metadata": {},
   "outputs": [
    {
     "data": {
      "text/html": [
       "<div>\n",
       "<style scoped>\n",
       "    .dataframe tbody tr th:only-of-type {\n",
       "        vertical-align: middle;\n",
       "    }\n",
       "\n",
       "    .dataframe tbody tr th {\n",
       "        vertical-align: top;\n",
       "    }\n",
       "\n",
       "    .dataframe thead th {\n",
       "        text-align: right;\n",
       "    }\n",
       "</style>\n",
       "<table border=\"1\" class=\"dataframe\">\n",
       "  <thead>\n",
       "    <tr style=\"text-align: right;\">\n",
       "      <th></th>\n",
       "      <th>Reading</th>\n",
       "      <th>Math</th>\n",
       "      <th>Science</th>\n",
       "      <th>Art</th>\n",
       "    </tr>\n",
       "  </thead>\n",
       "  <tbody>\n",
       "    <tr>\n",
       "      <th>Student A</th>\n",
       "      <td>88</td>\n",
       "      <td>99</td>\n",
       "      <td>92</td>\n",
       "      <td>78</td>\n",
       "    </tr>\n",
       "    <tr>\n",
       "      <th>Student B</th>\n",
       "      <td>100</td>\n",
       "      <td>95</td>\n",
       "      <td>77</td>\n",
       "      <td>99</td>\n",
       "    </tr>\n",
       "    <tr>\n",
       "      <th>Student C</th>\n",
       "      <td>78</td>\n",
       "      <td>88</td>\n",
       "      <td>85</td>\n",
       "      <td>80</td>\n",
       "    </tr>\n",
       "    <tr>\n",
       "      <th>Student D</th>\n",
       "      <td>68</td>\n",
       "      <td>88</td>\n",
       "      <td>90</td>\n",
       "      <td>100</td>\n",
       "    </tr>\n",
       "  </tbody>\n",
       "</table>\n",
       "</div>"
      ],
      "text/plain": [
       "           Reading  Math  Science  Art\n",
       "Student A       88    99       92   78\n",
       "Student B      100    95       77   99\n",
       "Student C       78    88       85   80\n",
       "Student D       68    88       90  100"
      ]
     },
     "execution_count": 9,
     "metadata": {},
     "output_type": "execute_result"
    }
   ],
   "source": [
    "Name = [\"Student A\", \"Student B\", \"Student C\", \"Student D\"]\n",
    "Reading = [88, 99, 92, 78]\n",
    "Math = [100, 95, 77, 99]\n",
    "Science = [78, 88, 85, 80]\n",
    "Art = [68, 88, 90, 100]\n",
    "\n",
    "students = pd.DataFrame([Reading, Math, Science, Art],  \n",
    "                        index = Name,\n",
    "                        columns = [\"Reading\", \"Math\", \"Science\", \"Art\"])\n",
    "students"
   ]
  },
  {
   "cell_type": "markdown",
   "metadata": {},
   "source": [
    "In `pd.DataFrame`, what does index and columns do?"
   ]
  },
  {
   "cell_type": "markdown",
   "metadata": {},
   "source": [
    "# The remaining challenges are designed to challenge you beyond what we have covered so far. If you feel frustrated and do not understand, that is normal! \n",
    "\n",
    "> Challenges 12, 13, 14, and 15 are a preview of week 3."
   ]
  },
  {
   "cell_type": "markdown",
   "metadata": {},
   "source": [
    "## Challenge 11\n",
    "\n",
    "1. [Visit www.mockaroo.com](https://mockaroo.com/) and click the \"Download Data\" button to generate a simulated dataset.\n",
    "\n",
    "2. Import this example data into a Pandas DataFrame.\n",
    "\n",
    "> HINT: First, copy your new .csv file into your working directory! "
   ]
  },
  {
   "cell_type": "code",
   "execution_count": 33,
   "metadata": {},
   "outputs": [],
   "source": [
    "## YOUR CODE HERE"
   ]
  },
  {
   "cell_type": "markdown",
   "metadata": {},
   "source": [
    "## Challenge 12: XML\n",
    "\n",
    ".csv files are nice when we know the structure of the data (rows and columns) that we can quickly perform operations on. However, we are limited to this format, which can be difficult to incorporate into nested, hierarchical data structures. \n",
    "\n",
    "[Extensible Markup Language (.xml)](https://www.sitepoint.com/really-good-introduction-xml/) is good for representing data that have a hierarchical structure. Large, web-based datasets might be stored this way, and we can use their human readable format to select tags that we want to extract for analysis. However, these data are larger than .csv files because of the opening and closing \"tags\". \n",
    "\n",
    "There are a few libraries in Python that will parse XML for you, but we'll stick to the standard `xml` library in this course. Let's start out with a simple example. Suppose we want to store the metadata for the books in our library in an XML file. It might look something like this:"
   ]
  },
  {
   "cell_type": "code",
   "execution_count": 34,
   "metadata": {},
   "outputs": [
    {
     "data": {
      "text/plain": [
       "'/Users/evan.admin/Desktop/DIGHUM101-2020/Notebooks/Challenges/Solutions/Week1'"
      ]
     },
     "execution_count": 34,
     "metadata": {},
     "output_type": "execute_result"
    }
   ],
   "source": [
    "pwd"
   ]
  },
  {
   "cell_type": "code",
   "execution_count": 37,
   "metadata": {},
   "outputs": [],
   "source": [
    "import os\n",
    "os.chdir(\"../../../../Data\")"
   ]
  },
  {
   "cell_type": "code",
   "execution_count": 38,
   "metadata": {},
   "outputs": [
    {
     "data": {
      "text/plain": [
       "'/Users/evan.admin/Desktop/DIGHUM101-2020/Data'"
      ]
     },
     "execution_count": 38,
     "metadata": {},
     "output_type": "execute_result"
    }
   ],
   "source": [
    "os.getcwd()"
   ]
  },
  {
   "cell_type": "code",
   "execution_count": 39,
   "metadata": {},
   "outputs": [
    {
     "name": "stdout",
     "output_type": "stream",
     "text": [
      "childrens_lit.csv             frankenstein.txt\r\n",
      "correspondence-data-1585.csv  gapminder-FiveYearData.csv\r\n",
      "example.json                  \u001b[34mhuman-rights\u001b[m\u001b[m/\r\n",
      "example.xml                   iris.csv\r\n",
      "feminism.json                 music_reviews.csv\r\n",
      "feminism.xml\r\n"
     ]
    }
   ],
   "source": [
    "ls"
   ]
  },
  {
   "cell_type": "code",
   "execution_count": 40,
   "metadata": {},
   "outputs": [
    {
     "name": "stdout",
     "output_type": "stream",
     "text": [
      "<my-library>\r\n",
      "    <book>\r\n",
      "        <title>The Lion, the Witch and the Wardrobe</title>\r\n",
      "        <author>C. S. Lewis</author>\r\n",
      "        <date>1950</date>\r\n",
      "        <publisher>Geoffrey Bles</publisher>\r\n",
      "    </book>\r\n",
      "    <book>\r\n",
      "        <title>The Hobbit</title>\r\n",
      "        <author>J. R. R. Tolkien</author>\r\n",
      "        <date>1937</date>\r\n",
      "        <publisher>George Allen and Unwin</publisher>\r\n",
      "    </book>\r\n",
      "    <book>\r\n",
      "        <title>To Kill A Mockingbird</title>\r\n",
      "        <author>Harper Lee</author>\r\n",
      "        <date>1960</date>\r\n",
      "        <publisher>J. B. Lippincott and Co.</publisher>\r\n",
      "    </book>\r\n",
      "</my-library>"
     ]
    }
   ],
   "source": [
    "!cat example.xml"
   ]
  },
  {
   "cell_type": "markdown",
   "metadata": {},
   "source": [
    "To parse this in Python, we'll need to import the `xml` library and then build the tree. From the `tree` object, we can get the root of the tree, and then traverse the tree like we would our filesystem paths."
   ]
  },
  {
   "cell_type": "code",
   "execution_count": 41,
   "metadata": {},
   "outputs": [
    {
     "name": "stdout",
     "output_type": "stream",
     "text": [
      "b'<my-library>\\n    <book>\\n        <title>The Lion, the Witch and the Wardrobe</title>\\n        <author>C. S. Lewis</author>\\n        <date>1950</date>\\n        <publisher>Geoffrey Bles</publisher>\\n    </book>\\n    <book>\\n        <title>The Hobbit</title>\\n        <author>J. R. R. Tolkien</author>\\n        <date>1937</date>\\n        <publisher>George Allen and Unwin</publisher>\\n    </book>\\n    <book>\\n        <title>To Kill A Mockingbird</title>\\n        <author>Harper Lee</author>\\n        <date>1960</date>\\n        <publisher>J. B. Lippincott and Co.</publisher>\\n    </book>\\n</my-library>'\n"
     ]
    }
   ],
   "source": [
    "import xml.etree.ElementTree as ET # loads functions from `xml` library under the name `ET`\n",
    "\n",
    "tree = ET.parse(\"example.xml\")\n",
    "root = tree.getroot()\n",
    "print(ET.tostring(root))"
   ]
  },
  {
   "cell_type": "markdown",
   "metadata": {},
   "source": [
    "This is how it would look if we typed it out:"
   ]
  },
  {
   "cell_type": "code",
   "execution_count": 42,
   "metadata": {},
   "outputs": [],
   "source": [
    "xml_string = '''\n",
    "<my-library>\n",
    "    <book>\n",
    "        <title>The Lion, the Witch and the Wardrobe</title>\n",
    "        <author>C. S. Lewis</author>\n",
    "        <date>1950</date>\n",
    "        <publisher>Geoffrey Bles</publisher>\n",
    "    </book>\n",
    "    <book>\n",
    "        <title>The Hobbit</title>\n",
    "        <author>J. R. R. Tolkien</author>\n",
    "        <date>1937</date>\n",
    "        <publisher>George Allen and Unwin</publisher>\n",
    "    </book>\n",
    "    <book>\n",
    "        <title>To Kill A Mockingbird</title>\n",
    "        <author>Harper Lee</author>\n",
    "        <date>1960</date>\n",
    "        <publisher>J. B. Lippincott and Co.</publisher>\n",
    "    </book>\n",
    "</my-library>\n",
    "'''"
   ]
  },
  {
   "cell_type": "code",
   "execution_count": 43,
   "metadata": {},
   "outputs": [
    {
     "name": "stdout",
     "output_type": "stream",
     "text": [
      "b'<my-library>\\n    <book>\\n        <title>The Lion, the Witch and the Wardrobe</title>\\n        <author>C. S. Lewis</author>\\n        <date>1950</date>\\n        <publisher>Geoffrey Bles</publisher>\\n    </book>\\n    <book>\\n        <title>The Hobbit</title>\\n        <author>J. R. R. Tolkien</author>\\n        <date>1937</date>\\n        <publisher>George Allen and Unwin</publisher>\\n    </book>\\n    <book>\\n        <title>To Kill A Mockingbird</title>\\n        <author>Harper Lee</author>\\n        <date>1960</date>\\n        <publisher>J. B. Lippincott and Co.</publisher>\\n    </book>\\n</my-library>'\n"
     ]
    }
   ],
   "source": [
    "root = ET.fromstring(xml_string)\n",
    "print(ET.tostring(root))"
   ]
  },
  {
   "cell_type": "markdown",
   "metadata": {},
   "source": [
    "We can get the direct children of the root with the `getchildren()` method:"
   ]
  },
  {
   "cell_type": "code",
   "execution_count": 44,
   "metadata": {},
   "outputs": [
    {
     "name": "stderr",
     "output_type": "stream",
     "text": [
      "/anaconda3/lib/python3.7/site-packages/ipykernel_launcher.py:1: DeprecationWarning: This method will be removed in future versions.  Use 'list(elem)' or iteration over elem instead.\n",
      "  \"\"\"Entry point for launching an IPython kernel.\n"
     ]
    },
    {
     "data": {
      "text/plain": [
       "[<Element 'book' at 0x11903c2c8>,\n",
       " <Element 'book' at 0x11903c458>,\n",
       " <Element 'book' at 0x11903c5e8>]"
      ]
     },
     "execution_count": 44,
     "metadata": {},
     "output_type": "execute_result"
    }
   ],
   "source": [
    "root.getchildren()"
   ]
  },
  {
   "cell_type": "markdown",
   "metadata": {},
   "source": [
    "`getchildren()` will always yield the elements subordinate to the parent element in a hierarchy. If we look at the XML string above, we can get the children of a `book` elements as well:"
   ]
  },
  {
   "cell_type": "code",
   "execution_count": 45,
   "metadata": {},
   "outputs": [
    {
     "name": "stderr",
     "output_type": "stream",
     "text": [
      "/anaconda3/lib/python3.7/site-packages/ipykernel_launcher.py:1: DeprecationWarning: This method will be removed in future versions.  Use 'list(elem)' or iteration over elem instead.\n",
      "  \"\"\"Entry point for launching an IPython kernel.\n",
      "/anaconda3/lib/python3.7/site-packages/ipykernel_launcher.py:2: DeprecationWarning: This method will be removed in future versions.  Use 'list(elem)' or iteration over elem instead.\n",
      "  \n"
     ]
    },
    {
     "data": {
      "text/plain": [
       "[<Element 'title' at 0x11903c318>,\n",
       " <Element 'author' at 0x11903c368>,\n",
       " <Element 'date' at 0x11903c3b8>,\n",
       " <Element 'publisher' at 0x11903c408>]"
      ]
     },
     "execution_count": 45,
     "metadata": {},
     "output_type": "execute_result"
    }
   ],
   "source": [
    "first_book = root.getchildren()[0]\n",
    "first_book.getchildren()"
   ]
  },
  {
   "cell_type": "markdown",
   "metadata": {},
   "source": [
    "We can also use the `find` to quickly find an element. We'll use a for-loop to print the author for each book, which we get with the `find` method for each of the elements in the children above, and we get the text with the `text` property:"
   ]
  },
  {
   "cell_type": "code",
   "execution_count": 46,
   "metadata": {},
   "outputs": [
    {
     "name": "stdout",
     "output_type": "stream",
     "text": [
      "C. S. Lewis\n",
      "J. R. R. Tolkien\n",
      "Harper Lee\n"
     ]
    }
   ],
   "source": [
    "# More on for-loops in Week 2\n",
    "for book in root:\n",
    "    print(book.find('author').text)"
   ]
  },
  {
   "cell_type": "markdown",
   "metadata": {},
   "source": [
    "Remember that in XML you can have elements which are usually between the two `< >` signs and can be found using the `find` or `getchildren` methods. To get the actual information, or text, from that element you can use the `.text` property."
   ]
  },
  {
   "cell_type": "markdown",
   "metadata": {},
   "source": [
    "Find an .xml dataset on the web and import it into your Jupyter Notebook:"
   ]
  },
  {
   "cell_type": "code",
   "execution_count": 47,
   "metadata": {},
   "outputs": [],
   "source": [
    "## YOUR CODE HERE"
   ]
  },
  {
   "cell_type": "markdown",
   "metadata": {},
   "source": [
    "## Challenge 13: XML Wikipedia data\n",
    "\n",
    "Let's work with a real-world dataset. We're going to work with the revision history of a Wikipedia page. You can get this through Wikipedia's [API](https://www.mediawiki.org/wiki/API:Revisions) or [download](https://en.wikipedia.org/wiki/Wikipedia:Database_download) data directly. We'll look at the API more in a later module, so we've downloaded a page of revisions and saved it to the XML file in `../data/WIKIPEDIA/feminism.xml`"
   ]
  },
  {
   "cell_type": "code",
   "execution_count": 48,
   "metadata": {},
   "outputs": [
    {
     "name": "stdout",
     "output_type": "stream",
     "text": [
      "<?xml version=\"1.0\" ?>\r\n",
      "<api>\r\n",
      "\t<continue continue=\"||\" rvcontinue=\"20141129143034|635898159\"/>\r\n",
      "\t<query>\r\n",
      "\t\t<pages>\r\n",
      "\t\t\t<page _idx=\"11185\" ns=\"0\" pageid=\"11185\" title=\"Feminism\">\r\n",
      "\t\t\t\t<revisions>\r\n",
      "\t\t\t\t\t<rev comment=\"Undid revision 788682640 by [[Special:Contributions/N0n3up|N0n3up]] ([[User talk:N0n3up|talk]]) sigh\" parsedcomment=\"Undid revision 788682640 by &lt;a href=&quot;/wiki/Special:Contributions/N0n3up&quot; title=&quot;Special:Contributions/N0n3up&quot;&gt;N0n3up&lt;/a&gt; (&lt;a href=&quot;/wiki/User_talk:N0n3up&quot; title=&quot;User talk:N0n3up&quot;&gt;talk&lt;/a&gt;) sigh\" size=\"138368\" timestamp=\"2017-07-02T21:35:12Z\" user=\"N0n3up\">\r\n",
      "\t\t\t\t\t\t<tags/>\r\n",
      "\t\t\t\t\t</rev>\r\n"
     ]
    }
   ],
   "source": [
    "!head feminism.xml"
   ]
  },
  {
   "cell_type": "markdown",
   "metadata": {},
   "source": [
    "We can start off by parsing it like we did above with our books:"
   ]
  },
  {
   "cell_type": "code",
   "execution_count": 49,
   "metadata": {},
   "outputs": [],
   "source": [
    "import xml.etree.ElementTree as ET\n",
    "tree = ET.parse(\"feminism.xml\")\n",
    "root = tree.getroot()"
   ]
  },
  {
   "cell_type": "markdown",
   "metadata": {},
   "source": [
    "At this point, you can either look in the XML in a text editor, or start the process of looking through the tree manually to find the actual metadata of each revision. You'll have to do this when we work with JSON in a later challange, so don't be afraid if none of this makes sense at this point!"
   ]
  },
  {
   "cell_type": "code",
   "execution_count": 50,
   "metadata": {},
   "outputs": [
    {
     "name": "stderr",
     "output_type": "stream",
     "text": [
      "/anaconda3/lib/python3.7/site-packages/ipykernel_launcher.py:1: DeprecationWarning: This method will be removed in future versions.  Use 'list(elem)' or iteration over elem instead.\n",
      "  \"\"\"Entry point for launching an IPython kernel.\n"
     ]
    },
    {
     "data": {
      "text/plain": [
       "[<Element 'continue' at 0x11903cd68>,\n",
       " <Element 'query' at 0x11903cf98>,\n",
       " <Element 'limits' at 0x119138ef8>]"
      ]
     },
     "execution_count": 50,
     "metadata": {},
     "output_type": "execute_result"
    }
   ],
   "source": [
    "root.getchildren()"
   ]
  },
  {
   "cell_type": "code",
   "execution_count": 51,
   "metadata": {},
   "outputs": [
    {
     "name": "stderr",
     "output_type": "stream",
     "text": [
      "/anaconda3/lib/python3.7/site-packages/ipykernel_launcher.py:1: DeprecationWarning: This method will be removed in future versions.  Use 'list(elem)' or iteration over elem instead.\n",
      "  \"\"\"Entry point for launching an IPython kernel.\n"
     ]
    },
    {
     "data": {
      "text/plain": [
       "[<Element 'pages' at 0x119040048>]"
      ]
     },
     "execution_count": 51,
     "metadata": {},
     "output_type": "execute_result"
    }
   ],
   "source": [
    "root.find('query').getchildren()"
   ]
  },
  {
   "cell_type": "code",
   "execution_count": 52,
   "metadata": {},
   "outputs": [
    {
     "name": "stderr",
     "output_type": "stream",
     "text": [
      "/anaconda3/lib/python3.7/site-packages/ipykernel_launcher.py:1: DeprecationWarning: This method will be removed in future versions.  Use 'list(elem)' or iteration over elem instead.\n",
      "  \"\"\"Entry point for launching an IPython kernel.\n"
     ]
    },
    {
     "data": {
      "text/plain": [
       "[<Element 'page' at 0x119040098>]"
      ]
     },
     "execution_count": 52,
     "metadata": {},
     "output_type": "execute_result"
    }
   ],
   "source": [
    "root.find('query/pages').getchildren()"
   ]
  },
  {
   "cell_type": "code",
   "execution_count": 53,
   "metadata": {},
   "outputs": [
    {
     "name": "stderr",
     "output_type": "stream",
     "text": [
      "/anaconda3/lib/python3.7/site-packages/ipykernel_launcher.py:1: DeprecationWarning: This method will be removed in future versions.  Use 'list(elem)' or iteration over elem instead.\n",
      "  \"\"\"Entry point for launching an IPython kernel.\n"
     ]
    },
    {
     "data": {
      "text/plain": [
       "[<Element 'revisions' at 0x1190400e8>]"
      ]
     },
     "execution_count": 53,
     "metadata": {},
     "output_type": "execute_result"
    }
   ],
   "source": [
    "root.find('query/pages/page').getchildren()"
   ]
  },
  {
   "cell_type": "code",
   "execution_count": 54,
   "metadata": {},
   "outputs": [
    {
     "name": "stderr",
     "output_type": "stream",
     "text": [
      "/anaconda3/lib/python3.7/site-packages/ipykernel_launcher.py:1: DeprecationWarning: This method will be removed in future versions.  Use 'list(elem)' or iteration over elem instead.\n",
      "  \"\"\"Entry point for launching an IPython kernel.\n"
     ]
    },
    {
     "data": {
      "text/plain": [
       "[<Element 'rev' at 0x119040138>,\n",
       " <Element 'rev' at 0x1190401d8>,\n",
       " <Element 'rev' at 0x119040278>,\n",
       " <Element 'rev' at 0x119040318>,\n",
       " <Element 'rev' at 0x1190403b8>,\n",
       " <Element 'rev' at 0x119040458>,\n",
       " <Element 'rev' at 0x1190404f8>,\n",
       " <Element 'rev' at 0x119040598>,\n",
       " <Element 'rev' at 0x119040638>,\n",
       " <Element 'rev' at 0x119040728>,\n",
       " <Element 'rev' at 0x1190407c8>,\n",
       " <Element 'rev' at 0x119040908>,\n",
       " <Element 'rev' at 0x1190409a8>,\n",
       " <Element 'rev' at 0x119040a48>,\n",
       " <Element 'rev' at 0x119040ae8>,\n",
       " <Element 'rev' at 0x119040b88>,\n",
       " <Element 'rev' at 0x119040c28>,\n",
       " <Element 'rev' at 0x119040cc8>,\n",
       " <Element 'rev' at 0x119040db8>,\n",
       " <Element 'rev' at 0x119040e58>,\n",
       " <Element 'rev' at 0x119040f98>,\n",
       " <Element 'rev' at 0x119048098>,\n",
       " <Element 'rev' at 0x119048188>,\n",
       " <Element 'rev' at 0x119048318>,\n",
       " <Element 'rev' at 0x119048458>,\n",
       " <Element 'rev' at 0x1190484f8>,\n",
       " <Element 'rev' at 0x119048598>,\n",
       " <Element 'rev' at 0x119048638>,\n",
       " <Element 'rev' at 0x1190486d8>,\n",
       " <Element 'rev' at 0x119048778>,\n",
       " <Element 'rev' at 0x119048818>,\n",
       " <Element 'rev' at 0x1190488b8>,\n",
       " <Element 'rev' at 0x119048958>,\n",
       " <Element 'rev' at 0x1190489f8>,\n",
       " <Element 'rev' at 0x119048a98>,\n",
       " <Element 'rev' at 0x119048b38>,\n",
       " <Element 'rev' at 0x119048bd8>,\n",
       " <Element 'rev' at 0x119048cc8>,\n",
       " <Element 'rev' at 0x119048d68>,\n",
       " <Element 'rev' at 0x119048e08>,\n",
       " <Element 'rev' at 0x119048ea8>,\n",
       " <Element 'rev' at 0x119048f48>,\n",
       " <Element 'rev' at 0x11904f048>,\n",
       " <Element 'rev' at 0x11904f0e8>,\n",
       " <Element 'rev' at 0x11904f188>,\n",
       " <Element 'rev' at 0x11904f228>,\n",
       " <Element 'rev' at 0x11904f2c8>,\n",
       " <Element 'rev' at 0x11904f368>,\n",
       " <Element 'rev' at 0x11904f458>,\n",
       " <Element 'rev' at 0x11904f4f8>,\n",
       " <Element 'rev' at 0x11904f598>,\n",
       " <Element 'rev' at 0x11904f638>,\n",
       " <Element 'rev' at 0x11902d0e8>,\n",
       " <Element 'rev' at 0x1190207c8>,\n",
       " <Element 'rev' at 0x1190205e8>,\n",
       " <Element 'rev' at 0x1190204a8>,\n",
       " <Element 'rev' at 0x1190209a8>,\n",
       " <Element 'rev' at 0x11904f6d8>,\n",
       " <Element 'rev' at 0x11904f778>,\n",
       " <Element 'rev' at 0x11904f818>,\n",
       " <Element 'rev' at 0x11904f8b8>,\n",
       " <Element 'rev' at 0x11904f958>,\n",
       " <Element 'rev' at 0x11904f9f8>,\n",
       " <Element 'rev' at 0x11904fa98>,\n",
       " <Element 'rev' at 0x11904fb38>,\n",
       " <Element 'rev' at 0x11904fbd8>,\n",
       " <Element 'rev' at 0x11904fc78>,\n",
       " <Element 'rev' at 0x11904fd68>,\n",
       " <Element 'rev' at 0x11904fe58>,\n",
       " <Element 'rev' at 0x11904fef8>,\n",
       " <Element 'rev' at 0x11904ff98>,\n",
       " <Element 'rev' at 0x11905a098>,\n",
       " <Element 'rev' at 0x11905a138>,\n",
       " <Element 'rev' at 0x11905a1d8>,\n",
       " <Element 'rev' at 0x11905a278>,\n",
       " <Element 'rev' at 0x11905a318>,\n",
       " <Element 'rev' at 0x11905a3b8>,\n",
       " <Element 'rev' at 0x11905a4a8>,\n",
       " <Element 'rev' at 0x11905a598>,\n",
       " <Element 'rev' at 0x11905a638>,\n",
       " <Element 'rev' at 0x11905a6d8>,\n",
       " <Element 'rev' at 0x11905a778>,\n",
       " <Element 'rev' at 0x11905a818>,\n",
       " <Element 'rev' at 0x11905a8b8>,\n",
       " <Element 'rev' at 0x11905a958>,\n",
       " <Element 'rev' at 0x11905a9f8>,\n",
       " <Element 'rev' at 0x11905aa98>,\n",
       " <Element 'rev' at 0x11905ab38>,\n",
       " <Element 'rev' at 0x11905ac28>,\n",
       " <Element 'rev' at 0x11905ad18>,\n",
       " <Element 'rev' at 0x11905adb8>,\n",
       " <Element 'rev' at 0x11905ae58>,\n",
       " <Element 'rev' at 0x11905aef8>,\n",
       " <Element 'rev' at 0x11905af98>,\n",
       " <Element 'rev' at 0x119061098>,\n",
       " <Element 'rev' at 0x119061138>,\n",
       " <Element 'rev' at 0x1190611d8>,\n",
       " <Element 'rev' at 0x119061278>,\n",
       " <Element 'rev' at 0x119061458>,\n",
       " <Element 'rev' at 0x1190614f8>,\n",
       " <Element 'rev' at 0x119061598>,\n",
       " <Element 'rev' at 0x119061638>,\n",
       " <Element 'rev' at 0x1190616d8>,\n",
       " <Element 'rev' at 0x119061778>,\n",
       " <Element 'rev' at 0x119061818>,\n",
       " <Element 'rev' at 0x1190618b8>,\n",
       " <Element 'rev' at 0x119061958>,\n",
       " <Element 'rev' at 0x1190619f8>,\n",
       " <Element 'rev' at 0x119061a98>,\n",
       " <Element 'rev' at 0x119061b38>,\n",
       " <Element 'rev' at 0x119061bd8>,\n",
       " <Element 'rev' at 0x119061c78>,\n",
       " <Element 'rev' at 0x119061d68>,\n",
       " <Element 'rev' at 0x119061e58>,\n",
       " <Element 'rev' at 0x119061ef8>,\n",
       " <Element 'rev' at 0x119061f98>,\n",
       " <Element 'rev' at 0x1190b0098>,\n",
       " <Element 'rev' at 0x1190b0138>,\n",
       " <Element 'rev' at 0x1190b01d8>,\n",
       " <Element 'rev' at 0x1190b0278>,\n",
       " <Element 'rev' at 0x1190b0318>,\n",
       " <Element 'rev' at 0x1190b03b8>,\n",
       " <Element 'rev' at 0x1190b0458>,\n",
       " <Element 'rev' at 0x1190b04f8>,\n",
       " <Element 'rev' at 0x1190b0598>,\n",
       " <Element 'rev' at 0x1190b0638>,\n",
       " <Element 'rev' at 0x1190b06d8>,\n",
       " <Element 'rev' at 0x1190b0778>,\n",
       " <Element 'rev' at 0x1190b0818>,\n",
       " <Element 'rev' at 0x1190b08b8>,\n",
       " <Element 'rev' at 0x1190b0958>,\n",
       " <Element 'rev' at 0x1190b09f8>,\n",
       " <Element 'rev' at 0x1190b0a98>,\n",
       " <Element 'rev' at 0x1190b0b38>,\n",
       " <Element 'rev' at 0x1190b0bd8>,\n",
       " <Element 'rev' at 0x1190b0d18>,\n",
       " <Element 'rev' at 0x1190b0db8>,\n",
       " <Element 'rev' at 0x1190b0e58>,\n",
       " <Element 'rev' at 0x1190b0ef8>,\n",
       " <Element 'rev' at 0x1190b6138>,\n",
       " <Element 'rev' at 0x1190b61d8>,\n",
       " <Element 'rev' at 0x1190b6278>,\n",
       " <Element 'rev' at 0x1190b6318>,\n",
       " <Element 'rev' at 0x1190b63b8>,\n",
       " <Element 'rev' at 0x1190b6458>,\n",
       " <Element 'rev' at 0x1190b64f8>,\n",
       " <Element 'rev' at 0x1190b6598>,\n",
       " <Element 'rev' at 0x1190b6688>,\n",
       " <Element 'rev' at 0x1190b6728>,\n",
       " <Element 'rev' at 0x1190b67c8>,\n",
       " <Element 'rev' at 0x1190b6868>,\n",
       " <Element 'rev' at 0x1190b6908>,\n",
       " <Element 'rev' at 0x1190b69a8>,\n",
       " <Element 'rev' at 0x1190b6a48>,\n",
       " <Element 'rev' at 0x1190b6ae8>,\n",
       " <Element 'rev' at 0x1190b6b88>,\n",
       " <Element 'rev' at 0x1190b6c28>,\n",
       " <Element 'rev' at 0x1190b6cc8>,\n",
       " <Element 'rev' at 0x1190b6d68>,\n",
       " <Element 'rev' at 0x10a805f48>,\n",
       " <Element 'rev' at 0x1190b6ef8>,\n",
       " <Element 'rev' at 0x1190b6f98>,\n",
       " <Element 'rev' at 0x1190bf098>,\n",
       " <Element 'rev' at 0x1190bf138>,\n",
       " <Element 'rev' at 0x1190bf1d8>,\n",
       " <Element 'rev' at 0x1190bf2c8>,\n",
       " <Element 'rev' at 0x1190bf368>,\n",
       " <Element 'rev' at 0x1190bf408>,\n",
       " <Element 'rev' at 0x1190bf4a8>,\n",
       " <Element 'rev' at 0x1190bf548>,\n",
       " <Element 'rev' at 0x1190bf5e8>,\n",
       " <Element 'rev' at 0x1190bf688>,\n",
       " <Element 'rev' at 0x1190bf728>,\n",
       " <Element 'rev' at 0x1190bf7c8>,\n",
       " <Element 'rev' at 0x1190bf868>,\n",
       " <Element 'rev' at 0x1190bf908>,\n",
       " <Element 'rev' at 0x1190bf9a8>,\n",
       " <Element 'rev' at 0x1190bfa48>,\n",
       " <Element 'rev' at 0x1190bfae8>,\n",
       " <Element 'rev' at 0x1190bfb88>,\n",
       " <Element 'rev' at 0x1190bfc28>,\n",
       " <Element 'rev' at 0x1190bfcc8>,\n",
       " <Element 'rev' at 0x1190bfd68>,\n",
       " <Element 'rev' at 0x1190bfe08>,\n",
       " <Element 'rev' at 0x1190bfea8>,\n",
       " <Element 'rev' at 0x1190bff48>,\n",
       " <Element 'rev' at 0x1190c7048>,\n",
       " <Element 'rev' at 0x1190c70e8>,\n",
       " <Element 'rev' at 0x1190c71d8>,\n",
       " <Element 'rev' at 0x1190c72c8>,\n",
       " <Element 'rev' at 0x1190c7368>,\n",
       " <Element 'rev' at 0x1190c7408>,\n",
       " <Element 'rev' at 0x1190c74a8>,\n",
       " <Element 'rev' at 0x1190c7548>,\n",
       " <Element 'rev' at 0x1190c7688>,\n",
       " <Element 'rev' at 0x1190c7728>,\n",
       " <Element 'rev' at 0x1190c7868>,\n",
       " <Element 'rev' at 0x1190c7908>,\n",
       " <Element 'rev' at 0x1190c79a8>,\n",
       " <Element 'rev' at 0x1190c7a48>,\n",
       " <Element 'rev' at 0x1190c7ae8>,\n",
       " <Element 'rev' at 0x1190c7b88>,\n",
       " <Element 'rev' at 0x1190c7c28>,\n",
       " <Element 'rev' at 0x1190c7d18>,\n",
       " <Element 'rev' at 0x1190c7db8>,\n",
       " <Element 'rev' at 0x1190c7e58>,\n",
       " <Element 'rev' at 0x1190c7ef8>,\n",
       " <Element 'rev' at 0x1190c7f98>,\n",
       " <Element 'rev' at 0x1190d0098>,\n",
       " <Element 'rev' at 0x1190d0138>,\n",
       " <Element 'rev' at 0x1190d0278>,\n",
       " <Element 'rev' at 0x1190d0318>,\n",
       " <Element 'rev' at 0x1190d03b8>,\n",
       " <Element 'rev' at 0x1190d0458>,\n",
       " <Element 'rev' at 0x1190d04f8>,\n",
       " <Element 'rev' at 0x1190d0598>,\n",
       " <Element 'rev' at 0x1190d0688>,\n",
       " <Element 'rev' at 0x1190d0728>,\n",
       " <Element 'rev' at 0x1190d0818>,\n",
       " <Element 'rev' at 0x1190d08b8>,\n",
       " <Element 'rev' at 0x1190d0958>,\n",
       " <Element 'rev' at 0x1190d09f8>,\n",
       " <Element 'rev' at 0x1190d0a98>,\n",
       " <Element 'rev' at 0x1190d0b38>,\n",
       " <Element 'rev' at 0x1190d0bd8>,\n",
       " <Element 'rev' at 0x1190d0c78>,\n",
       " <Element 'rev' at 0x1190d0d18>,\n",
       " <Element 'rev' at 0x1190d0db8>,\n",
       " <Element 'rev' at 0x1190d0e58>,\n",
       " <Element 'rev' at 0x1190d0ef8>,\n",
       " <Element 'rev' at 0x1190d0f98>,\n",
       " <Element 'rev' at 0x1190da098>,\n",
       " <Element 'rev' at 0x1190da138>,\n",
       " <Element 'rev' at 0x1190da1d8>,\n",
       " <Element 'rev' at 0x1190da278>,\n",
       " <Element 'rev' at 0x1190da318>,\n",
       " <Element 'rev' at 0x1190da3b8>,\n",
       " <Element 'rev' at 0x1190da458>,\n",
       " <Element 'rev' at 0x1190da4f8>,\n",
       " <Element 'rev' at 0x1190da598>,\n",
       " <Element 'rev' at 0x1190da638>,\n",
       " <Element 'rev' at 0x1190da6d8>,\n",
       " <Element 'rev' at 0x1190da778>,\n",
       " <Element 'rev' at 0x1190da818>,\n",
       " <Element 'rev' at 0x1190da8b8>,\n",
       " <Element 'rev' at 0x1190da958>,\n",
       " <Element 'rev' at 0x1190da9f8>,\n",
       " <Element 'rev' at 0x1190daa98>,\n",
       " <Element 'rev' at 0x1190dab38>,\n",
       " <Element 'rev' at 0x1190dabd8>,\n",
       " <Element 'rev' at 0x1190dac78>,\n",
       " <Element 'rev' at 0x1190dad18>,\n",
       " <Element 'rev' at 0x1190dadb8>,\n",
       " <Element 'rev' at 0x1190dae58>,\n",
       " <Element 'rev' at 0x1190daef8>,\n",
       " <Element 'rev' at 0x1190e5098>,\n",
       " <Element 'rev' at 0x1190e5138>,\n",
       " <Element 'rev' at 0x1190e51d8>,\n",
       " <Element 'rev' at 0x1190e5278>,\n",
       " <Element 'rev' at 0x1190e5318>,\n",
       " <Element 'rev' at 0x1190e53b8>,\n",
       " <Element 'rev' at 0x1190e5458>,\n",
       " <Element 'rev' at 0x1190e54f8>,\n",
       " <Element 'rev' at 0x1190e5598>,\n",
       " <Element 'rev' at 0x1190e5638>,\n",
       " <Element 'rev' at 0x1190e56d8>,\n",
       " <Element 'rev' at 0x1190e57c8>,\n",
       " <Element 'rev' at 0x1190e5868>,\n",
       " <Element 'rev' at 0x1190e5908>,\n",
       " <Element 'rev' at 0x1190e59f8>,\n",
       " <Element 'rev' at 0x1190e5a98>,\n",
       " <Element 'rev' at 0x1190e5b38>,\n",
       " <Element 'rev' at 0x1190e5bd8>,\n",
       " <Element 'rev' at 0x1190e5c78>,\n",
       " <Element 'rev' at 0x1190e5d18>,\n",
       " <Element 'rev' at 0x1190e5db8>,\n",
       " <Element 'rev' at 0x1190e5ea8>,\n",
       " <Element 'rev' at 0x1190e5f48>,\n",
       " <Element 'rev' at 0x1190ec098>,\n",
       " <Element 'rev' at 0x1190ec138>,\n",
       " <Element 'rev' at 0x1190ec1d8>,\n",
       " <Element 'rev' at 0x1190ec278>,\n",
       " <Element 'rev' at 0x1190ec318>,\n",
       " <Element 'rev' at 0x1190ec3b8>,\n",
       " <Element 'rev' at 0x1190ec458>,\n",
       " <Element 'rev' at 0x1190ec4f8>,\n",
       " <Element 'rev' at 0x1190ec598>,\n",
       " <Element 'rev' at 0x1190ec638>,\n",
       " <Element 'rev' at 0x1190ec728>,\n",
       " <Element 'rev' at 0x1190ec7c8>,\n",
       " <Element 'rev' at 0x1190ec868>,\n",
       " <Element 'rev' at 0x1190ec908>,\n",
       " <Element 'rev' at 0x1190ec9a8>,\n",
       " <Element 'rev' at 0x1190eca48>,\n",
       " <Element 'rev' at 0x1190ecae8>,\n",
       " <Element 'rev' at 0x1190ecb88>,\n",
       " <Element 'rev' at 0x1190ecc28>,\n",
       " <Element 'rev' at 0x1190eccc8>,\n",
       " <Element 'rev' at 0x1190ecd68>,\n",
       " <Element 'rev' at 0x1190ece08>,\n",
       " <Element 'rev' at 0x1190ecea8>,\n",
       " <Element 'rev' at 0x1190ecf48>,\n",
       " <Element 'rev' at 0x1190f5048>,\n",
       " <Element 'rev' at 0x1190f5138>,\n",
       " <Element 'rev' at 0x1190f51d8>,\n",
       " <Element 'rev' at 0x1190f5278>,\n",
       " <Element 'rev' at 0x1190f5318>,\n",
       " <Element 'rev' at 0x1190f53b8>,\n",
       " <Element 'rev' at 0x1190f5458>,\n",
       " <Element 'rev' at 0x1190f54f8>,\n",
       " <Element 'rev' at 0x1190f5598>,\n",
       " <Element 'rev' at 0x1190f5638>,\n",
       " <Element 'rev' at 0x1190f56d8>,\n",
       " <Element 'rev' at 0x1190f5778>,\n",
       " <Element 'rev' at 0x1190f5818>,\n",
       " <Element 'rev' at 0x1190f58b8>,\n",
       " <Element 'rev' at 0x1190f5958>,\n",
       " <Element 'rev' at 0x1190f59f8>,\n",
       " <Element 'rev' at 0x1190f5a98>,\n",
       " <Element 'rev' at 0x1190f5b38>,\n",
       " <Element 'rev' at 0x1190f5bd8>,\n",
       " <Element 'rev' at 0x1190f5c78>,\n",
       " <Element 'rev' at 0x1190f5d18>,\n",
       " <Element 'rev' at 0x1190f5db8>,\n",
       " <Element 'rev' at 0x1190f5e58>,\n",
       " <Element 'rev' at 0x1190f5ef8>,\n",
       " <Element 'rev' at 0x1190f5f98>,\n",
       " <Element 'rev' at 0x1190fc098>,\n",
       " <Element 'rev' at 0x1190fc1d8>,\n",
       " <Element 'rev' at 0x1190fc278>,\n",
       " <Element 'rev' at 0x1190fc318>,\n",
       " <Element 'rev' at 0x1190fc3b8>,\n",
       " <Element 'rev' at 0x1190fc4a8>,\n",
       " <Element 'rev' at 0x1190fc548>,\n",
       " <Element 'rev' at 0x1190fc5e8>,\n",
       " <Element 'rev' at 0x1190fc688>,\n",
       " <Element 'rev' at 0x1190fc728>,\n",
       " <Element 'rev' at 0x1190fc7c8>,\n",
       " <Element 'rev' at 0x1190fc868>,\n",
       " <Element 'rev' at 0x1190fc908>,\n",
       " <Element 'rev' at 0x1190fc9a8>,\n",
       " <Element 'rev' at 0x1190fca48>,\n",
       " <Element 'rev' at 0x1190fcae8>,\n",
       " <Element 'rev' at 0x1190fcb88>,\n",
       " <Element 'rev' at 0x1190fcc28>,\n",
       " <Element 'rev' at 0x1190fccc8>,\n",
       " <Element 'rev' at 0x1190fcd68>,\n",
       " <Element 'rev' at 0x1190fce08>,\n",
       " <Element 'rev' at 0x1190fcea8>,\n",
       " <Element 'rev' at 0x1190fcf48>,\n",
       " <Element 'rev' at 0x119103048>,\n",
       " <Element 'rev' at 0x1191030e8>,\n",
       " <Element 'rev' at 0x1191031d8>,\n",
       " <Element 'rev' at 0x119103278>,\n",
       " <Element 'rev' at 0x119103318>,\n",
       " <Element 'rev' at 0x1191033b8>,\n",
       " <Element 'rev' at 0x119103458>,\n",
       " <Element 'rev' at 0x119103548>,\n",
       " <Element 'rev' at 0x1191035e8>,\n",
       " <Element 'rev' at 0x119103688>,\n",
       " <Element 'rev' at 0x119103728>,\n",
       " <Element 'rev' at 0x1191037c8>,\n",
       " <Element 'rev' at 0x119103868>,\n",
       " <Element 'rev' at 0x119103908>,\n",
       " <Element 'rev' at 0x1191039a8>,\n",
       " <Element 'rev' at 0x119103a48>,\n",
       " <Element 'rev' at 0x119103ae8>,\n",
       " <Element 'rev' at 0x119103b88>,\n",
       " <Element 'rev' at 0x119103c28>,\n",
       " <Element 'rev' at 0x119103cc8>,\n",
       " <Element 'rev' at 0x119103d68>,\n",
       " <Element 'rev' at 0x119103e08>,\n",
       " <Element 'rev' at 0x119103ea8>,\n",
       " <Element 'rev' at 0x119103f48>,\n",
       " <Element 'rev' at 0x11910b048>,\n",
       " <Element 'rev' at 0x11910b0e8>,\n",
       " <Element 'rev' at 0x11910b188>,\n",
       " <Element 'rev' at 0x11910b228>,\n",
       " <Element 'rev' at 0x11910b2c8>,\n",
       " <Element 'rev' at 0x11910b368>,\n",
       " <Element 'rev' at 0x11910b408>,\n",
       " <Element 'rev' at 0x11910b4a8>,\n",
       " <Element 'rev' at 0x11910b548>,\n",
       " <Element 'rev' at 0x11910b5e8>,\n",
       " <Element 'rev' at 0x11910b688>,\n",
       " <Element 'rev' at 0x11910b728>,\n",
       " <Element 'rev' at 0x11910b7c8>,\n",
       " <Element 'rev' at 0x11910b868>,\n",
       " <Element 'rev' at 0x11910b908>,\n",
       " <Element 'rev' at 0x11910b9a8>,\n",
       " <Element 'rev' at 0x11910ba48>,\n",
       " <Element 'rev' at 0x11910bae8>,\n",
       " <Element 'rev' at 0x11910bb88>,\n",
       " <Element 'rev' at 0x11910bc28>,\n",
       " <Element 'rev' at 0x11910bcc8>,\n",
       " <Element 'rev' at 0x11910bd68>,\n",
       " <Element 'rev' at 0x11910be08>,\n",
       " <Element 'rev' at 0x11910bea8>,\n",
       " <Element 'rev' at 0x11910bf48>,\n",
       " <Element 'rev' at 0x119115048>,\n",
       " <Element 'rev' at 0x1191150e8>,\n",
       " <Element 'rev' at 0x119115188>,\n",
       " <Element 'rev' at 0x119115228>,\n",
       " <Element 'rev' at 0x1191152c8>,\n",
       " <Element 'rev' at 0x119115368>,\n",
       " <Element 'rev' at 0x119115408>,\n",
       " <Element 'rev' at 0x1191154a8>,\n",
       " <Element 'rev' at 0x119115548>,\n",
       " <Element 'rev' at 0x1191155e8>,\n",
       " <Element 'rev' at 0x119115688>,\n",
       " <Element 'rev' at 0x119115728>,\n",
       " <Element 'rev' at 0x1191157c8>,\n",
       " <Element 'rev' at 0x119115908>,\n",
       " <Element 'rev' at 0x119115a48>,\n",
       " <Element 'rev' at 0x119115b88>,\n",
       " <Element 'rev' at 0x119115cc8>,\n",
       " <Element 'rev' at 0x119115e08>,\n",
       " <Element 'rev' at 0x119115f48>,\n",
       " <Element 'rev' at 0x11911c0e8>,\n",
       " <Element 'rev' at 0x11911c228>,\n",
       " <Element 'rev' at 0x11911c368>,\n",
       " <Element 'rev' at 0x11911c4a8>,\n",
       " <Element 'rev' at 0x11911c5e8>,\n",
       " <Element 'rev' at 0x11911c728>,\n",
       " <Element 'rev' at 0x11911c868>,\n",
       " <Element 'rev' at 0x11911c9a8>,\n",
       " <Element 'rev' at 0x11911cae8>,\n",
       " <Element 'rev' at 0x11911cc28>,\n",
       " <Element 'rev' at 0x11911cd68>,\n",
       " <Element 'rev' at 0x11911cea8>,\n",
       " <Element 'rev' at 0x119122048>,\n",
       " <Element 'rev' at 0x119122188>,\n",
       " <Element 'rev' at 0x1191222c8>,\n",
       " <Element 'rev' at 0x119122408>,\n",
       " <Element 'rev' at 0x119122548>,\n",
       " <Element 'rev' at 0x1191225e8>,\n",
       " <Element 'rev' at 0x119122728>,\n",
       " <Element 'rev' at 0x1191227c8>,\n",
       " <Element 'rev' at 0x119122868>,\n",
       " <Element 'rev' at 0x119122908>,\n",
       " <Element 'rev' at 0x1191229a8>,\n",
       " <Element 'rev' at 0x119122a48>,\n",
       " <Element 'rev' at 0x119122ae8>,\n",
       " <Element 'rev' at 0x119122b88>,\n",
       " <Element 'rev' at 0x119122c28>,\n",
       " <Element 'rev' at 0x119122cc8>,\n",
       " <Element 'rev' at 0x119122d68>,\n",
       " <Element 'rev' at 0x119122e08>,\n",
       " <Element 'rev' at 0x119122ea8>,\n",
       " <Element 'rev' at 0x119122f48>,\n",
       " <Element 'rev' at 0x119128048>,\n",
       " <Element 'rev' at 0x1191280e8>,\n",
       " <Element 'rev' at 0x119128188>,\n",
       " <Element 'rev' at 0x119128228>,\n",
       " <Element 'rev' at 0x1191282c8>,\n",
       " <Element 'rev' at 0x1191283b8>,\n",
       " <Element 'rev' at 0x119128458>,\n",
       " <Element 'rev' at 0x1191284f8>,\n",
       " <Element 'rev' at 0x119128598>,\n",
       " <Element 'rev' at 0x1191286d8>,\n",
       " <Element 'rev' at 0x119128818>,\n",
       " <Element 'rev' at 0x119128908>,\n",
       " <Element 'rev' at 0x1191289f8>,\n",
       " <Element 'rev' at 0x119128ae8>,\n",
       " <Element 'rev' at 0x119128bd8>,\n",
       " <Element 'rev' at 0x119128cc8>,\n",
       " <Element 'rev' at 0x119128db8>,\n",
       " <Element 'rev' at 0x119128ea8>,\n",
       " <Element 'rev' at 0x119128f98>,\n",
       " <Element 'rev' at 0x1191310e8>,\n",
       " <Element 'rev' at 0x119131228>,\n",
       " <Element 'rev' at 0x119131368>,\n",
       " <Element 'rev' at 0x119131458>,\n",
       " <Element 'rev' at 0x119131548>,\n",
       " <Element 'rev' at 0x119131638>,\n",
       " <Element 'rev' at 0x119131728>,\n",
       " <Element 'rev' at 0x119131818>,\n",
       " <Element 'rev' at 0x119131908>,\n",
       " <Element 'rev' at 0x1191319f8>,\n",
       " <Element 'rev' at 0x119131ae8>,\n",
       " <Element 'rev' at 0x119131c28>,\n",
       " <Element 'rev' at 0x119131d18>,\n",
       " <Element 'rev' at 0x119131e08>,\n",
       " <Element 'rev' at 0x119131ef8>,\n",
       " <Element 'rev' at 0x119138048>,\n",
       " <Element 'rev' at 0x119138138>,\n",
       " <Element 'rev' at 0x119138228>,\n",
       " <Element 'rev' at 0x119138318>,\n",
       " <Element 'rev' at 0x119138408>,\n",
       " <Element 'rev' at 0x1191384a8>,\n",
       " <Element 'rev' at 0x119138598>,\n",
       " <Element 'rev' at 0x119138688>,\n",
       " <Element 'rev' at 0x1191387c8>,\n",
       " <Element 'rev' at 0x1191388b8>,\n",
       " <Element 'rev' at 0x119138958>,\n",
       " <Element 'rev' at 0x119138ae8>,\n",
       " <Element 'rev' at 0x119138c28>,\n",
       " <Element 'rev' at 0x119138d18>,\n",
       " <Element 'rev' at 0x119138db8>,\n",
       " <Element 'rev' at 0x119138e58>]"
      ]
     },
     "execution_count": 54,
     "metadata": {},
     "output_type": "execute_result"
    }
   ],
   "source": [
    "root.find('query/pages/page/revisions').getchildren()"
   ]
  },
  {
   "cell_type": "markdown",
   "metadata": {},
   "source": [
    "Found it! Those are the revision items we want. Let's assign that list to a variable:"
   ]
  },
  {
   "cell_type": "code",
   "execution_count": 55,
   "metadata": {},
   "outputs": [],
   "source": [
    "revisions = root.find('query/pages/page/revisions')"
   ]
  },
  {
   "cell_type": "markdown",
   "metadata": {},
   "source": [
    "Now we can loop through and ask for some of the specific metadata about each revision, the `timestamp` for example:"
   ]
  },
  {
   "cell_type": "code",
   "execution_count": 56,
   "metadata": {},
   "outputs": [
    {
     "name": "stdout",
     "output_type": "stream",
     "text": [
      "2017-07-02T21:35:12Z\n",
      "2017-07-02T21:34:35Z\n",
      "2017-07-02T21:31:04Z\n",
      "2017-07-02T21:29:14Z\n",
      "2017-07-02T21:28:30Z\n",
      "2017-07-02T21:26:40Z\n",
      "2017-06-28T20:16:32Z\n",
      "2017-06-21T20:15:26Z\n",
      "2017-06-18T14:28:12Z\n",
      "2017-06-13T21:37:46Z\n",
      "2017-06-13T19:41:07Z\n",
      "2017-06-12T06:45:52Z\n",
      "2017-06-12T04:41:26Z\n",
      "2017-06-11T12:23:22Z\n",
      "2017-06-09T23:12:53Z\n",
      "2017-06-08T23:03:01Z\n",
      "2017-06-01T23:54:45Z\n",
      "2017-05-29T23:42:59Z\n",
      "2017-05-29T20:56:42Z\n",
      "2017-05-28T04:12:54Z\n",
      "2017-05-22T14:57:32Z\n",
      "2017-05-21T20:29:07Z\n",
      "2017-05-21T20:25:58Z\n",
      "2017-05-20T14:41:12Z\n",
      "2017-05-10T19:06:42Z\n",
      "2017-05-10T17:02:20Z\n",
      "2017-05-10T16:35:32Z\n",
      "2017-05-10T15:39:50Z\n",
      "2017-05-10T15:34:40Z\n",
      "2017-05-05T22:30:15Z\n",
      "2017-05-05T22:21:05Z\n",
      "2017-05-02T17:25:46Z\n",
      "2017-04-28T20:53:51Z\n",
      "2017-04-28T19:57:52Z\n",
      "2017-04-24T00:06:57Z\n",
      "2017-04-23T23:14:31Z\n",
      "2017-04-23T20:40:59Z\n",
      "2017-04-23T03:51:24Z\n",
      "2017-04-23T01:45:02Z\n",
      "2017-04-20T20:23:10Z\n",
      "2017-04-20T04:35:14Z\n",
      "2017-04-17T15:11:31Z\n",
      "2017-04-17T15:03:51Z\n",
      "2017-04-10T08:04:38Z\n",
      "2017-04-10T02:20:31Z\n",
      "2017-04-10T02:11:03Z\n",
      "2017-04-06T11:06:54Z\n",
      "2017-04-06T04:58:13Z\n",
      "2017-03-18T23:09:34Z\n",
      "2017-03-18T17:12:21Z\n",
      "2017-03-17T03:04:48Z\n",
      "2017-03-16T00:12:00Z\n",
      "2017-03-07T04:10:55Z\n",
      "2017-03-06T23:49:30Z\n",
      "2017-03-04T14:00:10Z\n",
      "2017-03-03T16:35:05Z\n",
      "2017-02-07T13:00:01Z\n",
      "2017-02-01T17:10:27Z\n",
      "2017-02-01T17:07:32Z\n",
      "2017-01-27T22:32:06Z\n",
      "2017-01-27T22:04:53Z\n",
      "2016-12-29T04:10:42Z\n",
      "2016-12-29T04:08:32Z\n",
      "2016-12-29T04:05:28Z\n",
      "2016-12-29T04:00:46Z\n",
      "2016-12-14T12:57:40Z\n",
      "2016-12-02T09:20:00Z\n",
      "2016-12-02T09:17:52Z\n",
      "2016-11-20T23:41:24Z\n",
      "2016-11-10T16:21:14Z\n",
      "2016-11-04T01:16:59Z\n",
      "2016-11-04T01:15:35Z\n",
      "2016-11-04T01:15:03Z\n",
      "2016-11-04T01:14:19Z\n",
      "2016-10-30T14:48:23Z\n",
      "2016-10-24T08:41:38Z\n",
      "2016-10-20T22:48:47Z\n",
      "2016-10-20T22:33:27Z\n",
      "2016-10-13T15:49:59Z\n",
      "2016-10-10T13:26:47Z\n",
      "2016-10-10T12:50:14Z\n",
      "2016-10-10T11:44:36Z\n",
      "2016-10-10T11:37:12Z\n",
      "2016-10-10T11:36:12Z\n",
      "2016-09-30T10:11:47Z\n",
      "2016-09-30T10:10:12Z\n",
      "2016-09-02T12:45:04Z\n",
      "2016-09-02T10:44:57Z\n",
      "2016-09-02T10:07:40Z\n",
      "2016-08-29T13:48:50Z\n",
      "2016-08-29T11:21:35Z\n",
      "2016-08-26T13:10:08Z\n",
      "2016-08-26T08:04:23Z\n",
      "2016-08-25T15:43:19Z\n",
      "2016-08-25T13:11:42Z\n",
      "2016-08-24T23:10:06Z\n",
      "2016-08-19T19:57:19Z\n",
      "2016-08-19T19:56:29Z\n",
      "2016-08-19T06:53:59Z\n",
      "2016-08-16T14:20:09Z\n",
      "2016-08-16T14:05:12Z\n",
      "2016-08-09T14:49:30Z\n",
      "2016-07-27T14:40:47Z\n",
      "2016-07-27T14:38:56Z\n",
      "2016-07-27T14:38:31Z\n",
      "2016-07-26T07:02:19Z\n",
      "2016-07-26T06:59:06Z\n",
      "2016-07-23T11:12:47Z\n",
      "2016-07-22T07:41:17Z\n",
      "2016-07-17T17:38:40Z\n",
      "2016-07-08T14:39:42Z\n",
      "2016-07-08T05:33:21Z\n",
      "2016-06-28T15:18:54Z\n",
      "2016-06-28T15:14:47Z\n",
      "2016-06-28T15:14:03Z\n",
      "2016-06-28T15:09:11Z\n",
      "2016-06-22T13:11:04Z\n",
      "2016-06-22T12:54:13Z\n",
      "2016-06-22T12:52:35Z\n",
      "2016-06-22T11:22:45Z\n",
      "2016-06-22T11:20:16Z\n",
      "2016-06-22T10:57:56Z\n",
      "2016-06-22T10:56:21Z\n",
      "2016-06-21T16:22:37Z\n",
      "2016-06-21T15:51:28Z\n",
      "2016-06-21T12:08:15Z\n",
      "2016-06-20T15:56:48Z\n",
      "2016-06-19T14:17:17Z\n",
      "2016-06-17T00:12:12Z\n",
      "2016-06-16T23:55:33Z\n",
      "2016-06-16T23:52:14Z\n",
      "2016-06-16T22:51:12Z\n",
      "2016-06-13T13:40:31Z\n",
      "2016-06-13T13:07:21Z\n",
      "2016-06-13T12:12:38Z\n",
      "2016-06-11T15:58:55Z\n",
      "2016-06-09T17:40:03Z\n",
      "2016-06-09T17:39:05Z\n",
      "2016-06-08T14:04:18Z\n",
      "2016-05-31T01:49:17Z\n",
      "2016-05-30T21:18:25Z\n",
      "2016-05-29T01:17:43Z\n",
      "2016-05-28T22:49:15Z\n",
      "2016-05-04T13:46:18Z\n",
      "2016-05-04T07:03:42Z\n",
      "2016-05-04T07:02:40Z\n",
      "2016-04-23T10:09:23Z\n",
      "2016-04-21T04:12:21Z\n",
      "2016-04-20T19:37:57Z\n",
      "2016-04-15T18:09:53Z\n",
      "2016-04-15T17:57:59Z\n",
      "2016-04-15T17:56:13Z\n",
      "2016-04-15T17:54:27Z\n",
      "2016-04-15T17:52:37Z\n",
      "2016-04-15T17:50:54Z\n",
      "2016-04-15T17:32:37Z\n",
      "2016-04-15T17:31:18Z\n",
      "2016-04-15T17:12:01Z\n",
      "2016-04-15T17:09:13Z\n",
      "2016-04-15T14:21:41Z\n",
      "2016-04-15T14:20:16Z\n",
      "2016-04-15T14:19:44Z\n",
      "2016-04-15T14:04:30Z\n",
      "2016-04-15T13:53:57Z\n",
      "2016-04-14T13:06:59Z\n",
      "2016-04-06T20:33:29Z\n",
      "2016-04-05T17:28:04Z\n",
      "2016-03-31T14:15:11Z\n",
      "2016-03-27T03:33:26Z\n",
      "2016-03-24T01:08:10Z\n",
      "2016-03-24T01:04:55Z\n",
      "2016-03-24T01:03:41Z\n",
      "2016-03-22T17:08:42Z\n",
      "2016-03-22T16:54:35Z\n",
      "2016-03-08T20:13:00Z\n",
      "2016-03-07T19:23:18Z\n",
      "2016-03-07T19:21:58Z\n",
      "2016-03-07T19:20:50Z\n",
      "2016-03-07T01:42:47Z\n",
      "2016-03-05T16:56:23Z\n",
      "2016-03-01T21:50:45Z\n",
      "2016-03-01T21:20:58Z\n",
      "2016-02-23T23:40:08Z\n",
      "2016-02-11T17:40:57Z\n",
      "2016-02-11T17:40:01Z\n",
      "2016-02-10T22:20:16Z\n",
      "2016-02-10T22:18:22Z\n",
      "2016-02-10T22:16:10Z\n",
      "2016-02-10T05:12:30Z\n",
      "2016-02-09T18:49:57Z\n",
      "2016-01-31T17:51:18Z\n",
      "2016-01-30T05:03:49Z\n",
      "2016-01-28T16:12:06Z\n",
      "2016-01-28T16:10:58Z\n",
      "2016-01-28T16:08:43Z\n",
      "2016-01-28T16:08:30Z\n",
      "2016-01-13T14:55:55Z\n",
      "2016-01-13T14:46:34Z\n",
      "2016-01-13T14:43:24Z\n",
      "2016-01-13T00:53:58Z\n",
      "2016-01-13T00:52:37Z\n",
      "2016-01-13T00:48:58Z\n",
      "2016-01-10T00:34:09Z\n",
      "2016-01-03T21:40:27Z\n",
      "2016-01-03T21:39:03Z\n",
      "2015-12-30T18:39:07Z\n",
      "2015-12-21T08:56:36Z\n",
      "2015-12-21T08:40:36Z\n",
      "2015-12-17T19:06:10Z\n",
      "2015-12-17T19:02:57Z\n",
      "2015-12-17T18:55:34Z\n",
      "2015-12-17T18:30:31Z\n",
      "2015-12-17T18:27:07Z\n",
      "2015-12-17T18:09:02Z\n",
      "2015-12-17T18:06:01Z\n",
      "2015-12-17T18:02:12Z\n",
      "2015-12-17T17:59:33Z\n",
      "2015-12-17T17:58:05Z\n",
      "2015-12-17T17:53:01Z\n",
      "2015-12-17T17:48:43Z\n",
      "2015-12-17T17:37:42Z\n",
      "2015-12-17T17:22:28Z\n",
      "2015-12-17T17:15:54Z\n",
      "2015-12-17T17:06:00Z\n",
      "2015-12-17T07:04:47Z\n",
      "2015-12-17T06:56:38Z\n",
      "2015-12-17T06:47:16Z\n",
      "2015-12-17T06:20:10Z\n",
      "2015-12-17T06:06:44Z\n",
      "2015-12-17T05:54:10Z\n",
      "2015-12-17T05:47:42Z\n",
      "2015-12-17T05:45:40Z\n",
      "2015-12-17T05:44:19Z\n",
      "2015-12-17T05:41:14Z\n",
      "2015-12-17T05:37:11Z\n",
      "2015-12-17T05:34:54Z\n",
      "2015-12-17T04:41:33Z\n",
      "2015-12-17T04:36:56Z\n",
      "2015-12-17T04:32:19Z\n",
      "2015-12-17T04:30:08Z\n",
      "2015-12-17T04:22:37Z\n",
      "2015-12-17T03:47:56Z\n",
      "2015-12-17T03:46:56Z\n",
      "2015-12-17T03:34:12Z\n",
      "2015-12-17T03:21:08Z\n",
      "2015-12-17T02:45:28Z\n",
      "2015-12-17T02:42:08Z\n",
      "2015-12-17T02:34:08Z\n",
      "2015-12-17T02:31:32Z\n",
      "2015-12-17T00:09:20Z\n",
      "2015-12-17T00:06:43Z\n",
      "2015-12-17T00:00:54Z\n",
      "2015-12-16T23:58:50Z\n",
      "2015-12-14T21:50:14Z\n",
      "2015-12-13T18:33:02Z\n",
      "2015-12-13T18:32:18Z\n",
      "2015-12-13T18:30:45Z\n",
      "2015-12-11T16:57:06Z\n",
      "2015-12-11T16:53:19Z\n",
      "2015-12-11T16:51:50Z\n",
      "2015-12-11T16:48:10Z\n",
      "2015-12-11T16:06:48Z\n",
      "2015-12-09T21:04:56Z\n",
      "2015-12-09T20:54:34Z\n",
      "2015-11-20T18:51:44Z\n",
      "2015-11-19T17:20:41Z\n",
      "2015-11-09T05:26:48Z\n",
      "2015-11-09T05:25:20Z\n",
      "2015-11-09T05:19:11Z\n",
      "2015-11-09T05:16:57Z\n",
      "2015-11-09T05:15:34Z\n",
      "2015-11-09T05:12:25Z\n",
      "2015-11-09T05:07:13Z\n",
      "2015-11-09T05:03:45Z\n",
      "2015-11-09T05:00:42Z\n",
      "2015-11-09T04:59:54Z\n",
      "2015-11-09T04:57:27Z\n",
      "2015-11-07T22:00:05Z\n",
      "2015-11-06T19:42:46Z\n",
      "2015-11-06T19:40:43Z\n",
      "2015-11-04T03:45:30Z\n",
      "2015-11-04T03:44:12Z\n",
      "2015-11-04T03:41:32Z\n",
      "2015-10-29T16:27:41Z\n",
      "2015-10-29T16:27:09Z\n",
      "2015-10-14T01:23:22Z\n",
      "2015-10-13T15:54:17Z\n",
      "2015-10-12T17:08:21Z\n",
      "2015-10-12T16:30:21Z\n",
      "2015-09-18T15:24:36Z\n",
      "2015-09-16T16:19:25Z\n",
      "2015-09-16T16:14:39Z\n",
      "2015-09-14T04:09:17Z\n",
      "2015-09-14T04:05:04Z\n",
      "2015-09-14T03:58:25Z\n",
      "2015-09-14T03:56:04Z\n",
      "2015-09-14T03:54:29Z\n",
      "2015-09-14T03:52:36Z\n",
      "2015-09-04T07:43:11Z\n",
      "2015-08-26T16:09:42Z\n",
      "2015-08-11T22:25:41Z\n",
      "2015-08-11T22:22:12Z\n",
      "2015-07-28T19:30:39Z\n",
      "2015-07-28T19:30:20Z\n",
      "2015-07-26T12:08:21Z\n",
      "2015-07-23T17:53:27Z\n",
      "2015-07-23T17:52:30Z\n",
      "2015-07-18T20:47:04Z\n",
      "2015-07-18T20:15:31Z\n",
      "2015-07-18T20:11:50Z\n",
      "2015-07-18T20:10:52Z\n",
      "2015-07-15T13:14:00Z\n",
      "2015-07-14T16:14:41Z\n",
      "2015-07-12T04:34:00Z\n",
      "2015-07-12T04:13:54Z\n",
      "2015-07-12T04:04:34Z\n",
      "2015-07-12T04:01:01Z\n",
      "2015-07-02T08:09:52Z\n",
      "2015-06-22T03:55:47Z\n",
      "2015-06-05T21:41:15Z\n",
      "2015-06-05T09:14:00Z\n",
      "2015-06-05T01:15:18Z\n",
      "2015-06-01T12:35:39Z\n",
      "2015-06-01T09:04:09Z\n",
      "2015-06-01T09:03:01Z\n",
      "2015-06-01T06:13:15Z\n",
      "2015-06-01T03:08:20Z\n",
      "2015-06-01T03:07:52Z\n",
      "2015-06-01T03:01:26Z\n",
      "2015-06-01T03:00:27Z\n",
      "2015-06-01T02:56:22Z\n",
      "2015-06-01T02:48:47Z\n",
      "2015-05-31T11:41:24Z\n",
      "2015-05-31T07:35:46Z\n",
      "2015-05-27T20:01:31Z\n",
      "2015-05-27T20:00:36Z\n",
      "2015-05-23T18:56:45Z\n",
      "2015-05-23T18:55:22Z\n",
      "2015-05-23T08:37:25Z\n",
      "2015-05-22T08:20:10Z\n",
      "2015-05-22T08:19:14Z\n",
      "2015-05-22T08:18:32Z\n",
      "2015-05-22T07:33:30Z\n",
      "2015-05-22T07:32:32Z\n",
      "2015-05-21T11:50:59Z\n",
      "2015-05-21T10:57:17Z\n",
      "2015-05-21T10:55:39Z\n",
      "2015-05-21T10:51:17Z\n",
      "2015-05-19T10:30:48Z\n",
      "2015-05-19T00:54:37Z\n",
      "2015-05-12T23:19:26Z\n",
      "2015-05-12T23:05:46Z\n",
      "2015-05-08T03:35:10Z\n",
      "2015-05-05T07:52:10Z\n",
      "2015-04-28T12:38:26Z\n",
      "2015-04-17T23:29:33Z\n",
      "2015-04-17T23:27:29Z\n",
      "2015-04-17T22:47:56Z\n",
      "2015-04-17T22:46:20Z\n",
      "2015-04-15T21:16:04Z\n",
      "2015-04-15T21:10:43Z\n",
      "2015-04-11T11:32:59Z\n",
      "2015-04-08T11:21:33Z\n",
      "2015-04-08T10:07:45Z\n",
      "2015-03-31T00:40:47Z\n",
      "2015-03-21T10:27:56Z\n",
      "2015-03-18T23:50:18Z\n",
      "2015-03-18T08:44:30Z\n",
      "2015-03-18T02:14:09Z\n",
      "2015-03-18T02:02:00Z\n",
      "2015-03-18T00:07:33Z\n",
      "2015-03-18T00:05:57Z\n",
      "2015-03-18T00:04:38Z\n",
      "2015-03-17T23:57:56Z\n",
      "2015-03-17T23:55:09Z\n",
      "2015-03-17T08:37:47Z\n",
      "2015-03-17T08:27:14Z\n",
      "2015-03-17T08:24:28Z\n",
      "2015-03-17T08:18:20Z\n",
      "2015-03-17T07:59:23Z\n",
      "2015-03-17T07:51:25Z\n",
      "2015-03-17T07:43:51Z\n",
      "2015-03-14T12:00:17Z\n",
      "2015-03-14T01:31:18Z\n",
      "2015-03-14T00:39:12Z\n",
      "2015-03-13T15:10:45Z\n",
      "2015-03-13T14:49:05Z\n",
      "2015-03-13T14:44:33Z\n",
      "2015-03-13T14:33:24Z\n",
      "2015-03-12T02:02:51Z\n",
      "2015-03-11T23:32:52Z\n",
      "2015-03-11T21:17:28Z\n",
      "2015-03-11T19:49:47Z\n",
      "2015-03-11T13:41:11Z\n",
      "2015-03-11T12:48:37Z\n",
      "2015-02-21T00:22:43Z\n",
      "2015-02-21T00:14:45Z\n",
      "2015-02-21T00:13:36Z\n",
      "2015-02-21T00:00:19Z\n",
      "2015-02-18T01:02:41Z\n",
      "2015-02-18T00:56:02Z\n",
      "2015-02-16T16:53:17Z\n",
      "2015-02-11T22:15:33Z\n",
      "2015-02-10T21:41:44Z\n",
      "2015-02-10T19:40:44Z\n",
      "2015-02-10T18:56:57Z\n",
      "2015-02-10T18:10:21Z\n",
      "2015-02-10T18:07:37Z\n",
      "2015-02-10T18:05:12Z\n",
      "2015-02-07T23:32:27Z\n",
      "2015-02-07T08:14:23Z\n",
      "2015-02-07T06:53:15Z\n",
      "2015-02-07T06:51:58Z\n",
      "2015-02-07T06:50:43Z\n",
      "2015-02-07T06:47:33Z\n",
      "2015-02-07T06:44:48Z\n",
      "2015-02-07T06:36:50Z\n",
      "2015-02-07T06:33:33Z\n",
      "2015-02-07T06:30:15Z\n",
      "2015-02-07T06:20:16Z\n",
      "2015-02-07T06:17:56Z\n",
      "2015-02-07T06:11:40Z\n",
      "2015-02-07T05:59:53Z\n",
      "2015-02-07T05:54:01Z\n",
      "2015-02-07T05:52:59Z\n",
      "2015-02-07T05:50:39Z\n",
      "2015-02-07T05:45:41Z\n",
      "2015-02-07T05:43:58Z\n",
      "2015-02-07T05:41:17Z\n",
      "2015-02-07T05:39:44Z\n",
      "2015-02-07T05:30:59Z\n",
      "2015-02-07T05:28:19Z\n",
      "2015-02-07T05:26:49Z\n",
      "2015-02-07T05:16:03Z\n",
      "2015-02-07T05:13:29Z\n",
      "2015-02-07T05:11:56Z\n",
      "2015-02-01T11:47:58Z\n",
      "2015-01-29T12:37:49Z\n",
      "2015-01-17T01:51:43Z\n",
      "2015-01-17T01:48:43Z\n",
      "2015-01-17T01:47:59Z\n",
      "2015-01-17T01:47:19Z\n",
      "2015-01-17T01:40:52Z\n",
      "2015-01-17T01:25:03Z\n",
      "2015-01-17T01:05:24Z\n",
      "2015-01-16T23:26:20Z\n",
      "2015-01-12T20:07:47Z\n",
      "2015-01-09T20:05:59Z\n",
      "2015-01-09T20:05:55Z\n",
      "2015-01-09T02:47:22Z\n",
      "2015-01-08T18:51:17Z\n",
      "2015-01-08T15:33:46Z\n",
      "2014-12-24T09:47:40Z\n",
      "2014-12-24T09:43:08Z\n",
      "2014-12-24T09:41:57Z\n",
      "2014-12-20T05:31:08Z\n",
      "2014-12-17T17:28:18Z\n",
      "2014-12-14T02:12:38Z\n",
      "2014-12-14T02:05:16Z\n",
      "2014-12-09T05:08:17Z\n",
      "2014-12-09T04:55:47Z\n",
      "2014-12-09T04:51:13Z\n",
      "2014-12-09T04:35:28Z\n",
      "2014-12-09T04:24:07Z\n",
      "2014-12-09T03:08:56Z\n",
      "2014-12-08T05:45:30Z\n",
      "2014-12-08T03:21:32Z\n",
      "2014-12-06T06:47:14Z\n",
      "2014-12-06T06:41:35Z\n",
      "2014-12-06T06:37:44Z\n",
      "2014-12-06T06:33:16Z\n",
      "2014-12-06T06:31:35Z\n",
      "2014-12-06T05:51:17Z\n",
      "2014-12-06T05:36:02Z\n",
      "2014-12-05T14:31:15Z\n",
      "2014-12-05T03:08:13Z\n",
      "2014-12-04T07:19:40Z\n",
      "2014-12-04T06:52:37Z\n",
      "2014-12-04T04:48:53Z\n",
      "2014-12-04T03:47:37Z\n",
      "2014-12-04T02:41:51Z\n",
      "2014-12-04T01:47:26Z\n",
      "2014-12-04T01:34:22Z\n",
      "2014-12-03T04:29:30Z\n",
      "2014-12-03T04:25:41Z\n",
      "2014-12-02T18:39:13Z\n",
      "2014-12-02T18:37:02Z\n",
      "2014-12-02T18:33:43Z\n",
      "2014-12-02T18:32:09Z\n",
      "2014-12-02T18:30:40Z\n",
      "2014-12-02T18:28:30Z\n",
      "2014-12-02T18:16:27Z\n",
      "2014-12-02T18:12:29Z\n",
      "2014-12-02T03:24:28Z\n",
      "2014-12-01T10:49:48Z\n",
      "2014-11-30T21:11:34Z\n",
      "2014-11-30T21:09:10Z\n",
      "2014-11-30T21:06:55Z\n",
      "2014-11-29T15:24:56Z\n",
      "2014-11-29T15:14:00Z\n"
     ]
    },
    {
     "name": "stderr",
     "output_type": "stream",
     "text": [
      "/anaconda3/lib/python3.7/site-packages/ipykernel_launcher.py:1: DeprecationWarning: This method will be removed in future versions.  Use 'list(elem)' or iteration over elem instead.\n",
      "  \"\"\"Entry point for launching an IPython kernel.\n"
     ]
    }
   ],
   "source": [
    "for rev in revisions.getchildren():\n",
    "    print(rev.get('timestamp'))"
   ]
  },
  {
   "cell_type": "markdown",
   "metadata": {},
   "source": [
    "You will visualize these data next week! :) "
   ]
  },
  {
   "cell_type": "markdown",
   "metadata": {},
   "source": [
    "## Challenge 14: JSON\n",
    "\n",
    "As a Pythonista, after dealing with XML you'll be happy to see [JSON](https://en.wikipedia.org/wiki/JSON). JavaScript Object Notation (JSON) is preferred because it looks exactly like a Python `dictionary`. The `json` library takes care of the few differences between the two so that we don't have to ourselves. Let's take a look at the same data about the books in our library from the XML notebook in JSON format:"
   ]
  },
  {
   "cell_type": "code",
   "execution_count": 57,
   "metadata": {},
   "outputs": [
    {
     "name": "stdout",
     "output_type": "stream",
     "text": [
      "{\"my_library\": [{\"title\": \"The Lion, the Witch and the Wardrobe\",\r\n",
      "                 \"author\": \"C. S. Lewis\",\r\n",
      "                 \"date\": \"1950\",\r\n",
      "                 \"publisher\": \"Geoffrey Bles\"},\r\n",
      "                {\"title\": \"The Hobbit\",\r\n",
      "                 \"author\": \"J. R. R. Tolkien\",\r\n",
      "                 \"date\": \"1937\",\r\n",
      "                 \"publisher\": \"George Allen and Unwin\"},\r\n",
      "                {\"title\": \"To Kill A Mockingbird\",\r\n",
      "                 \"author\": \"Harper Lee\",\r\n",
      "                 \"date\": \"1960\",\r\n",
      "                 \"publisher\": \"J. B. Lippincott and Co.\"}\r\n",
      "            ]\r\n",
      "}\r\n"
     ]
    }
   ],
   "source": [
    "!cat example.json"
   ]
  },
  {
   "cell_type": "markdown",
   "metadata": {},
   "source": [
    "Looks much nicer than XML and its many tags! In Python, it looks like a `dictionary` with a key of `my_library` and a value of a `list` of `dictionary` objects. Each of these `dictionary` objects in the list contains the metadata. We can use the `json` library to make it exactly that!"
   ]
  },
  {
   "cell_type": "code",
   "execution_count": 58,
   "metadata": {},
   "outputs": [
    {
     "data": {
      "text/plain": [
       "{'my_library': [{'title': 'The Lion, the Witch and the Wardrobe',\n",
       "   'author': 'C. S. Lewis',\n",
       "   'date': '1950',\n",
       "   'publisher': 'Geoffrey Bles'},\n",
       "  {'title': 'The Hobbit',\n",
       "   'author': 'J. R. R. Tolkien',\n",
       "   'date': '1937',\n",
       "   'publisher': 'George Allen and Unwin'},\n",
       "  {'title': 'To Kill A Mockingbird',\n",
       "   'author': 'Harper Lee',\n",
       "   'date': '1960',\n",
       "   'publisher': 'J. B. Lippincott and Co.'}]}"
      ]
     },
     "execution_count": 58,
     "metadata": {},
     "output_type": "execute_result"
    }
   ],
   "source": [
    "import json\n",
    "\n",
    "my_library = json.load(open(\"example.json\"))\n",
    "my_library"
   ]
  },
  {
   "cell_type": "code",
   "execution_count": 66,
   "metadata": {},
   "outputs": [
    {
     "name": "stdout",
     "output_type": "stream",
     "text": [
      "<class 'dict'>\n"
     ]
    }
   ],
   "source": [
    "print(type(my_library))"
   ]
  },
  {
   "cell_type": "markdown",
   "metadata": {},
   "source": [
    "Index `my_library` to return only the year \"The Hobbit\" was published."
   ]
  },
  {
   "cell_type": "code",
   "execution_count": 67,
   "metadata": {
    "scrolled": true
   },
   "outputs": [
    {
     "data": {
      "text/plain": [
       "'1937'"
      ]
     },
     "execution_count": 67,
     "metadata": {},
     "output_type": "execute_result"
    }
   ],
   "source": [
    "my_library[\"my_library\"][1][\"date\"]"
   ]
  },
  {
   "cell_type": "markdown",
   "metadata": {},
   "source": [
    "## Challenge 15: JSON Wikipedia Data\n",
    "\n",
    "Let's go back to that revision history data. Wikipedia actually prefers that you get the data in JSON format, so we've downloaded some more data for you in JSON, it's located at `../data/WIKIPEDIA/feminism.json`:"
   ]
  },
  {
   "cell_type": "code",
   "execution_count": 68,
   "metadata": {
    "scrolled": true
   },
   "outputs": [
    {
     "data": {
      "text/plain": [
       "{'user': 'N0n3up',\n",
       " 'timestamp': '2017-07-02T21:35:12Z',\n",
       " 'size': 138368,\n",
       " 'comment': 'Undid revision 788682640 by [[Special:Contributions/N0n3up|N0n3up]] ([[User talk:N0n3up|talk]]) sigh',\n",
       " 'parsedcomment': 'Undid revision 788682640 by <a href=\"/wiki/Special:Contributions/N0n3up\" title=\"Special:Contributions/N0n3up\">N0n3up</a> (<a href=\"/wiki/User_talk:N0n3up\" title=\"User talk:N0n3up\">talk</a>) sigh',\n",
       " 'tags': []}"
      ]
     },
     "execution_count": 68,
     "metadata": {},
     "output_type": "execute_result"
    }
   ],
   "source": [
    "feminism_json = json.load(open(\"feminism.json\"))\n",
    "feminism_json[0]"
   ]
  },
  {
   "cell_type": "code",
   "execution_count": 69,
   "metadata": {},
   "outputs": [
    {
     "data": {
      "text/plain": [
       "dict_keys(['user', 'timestamp', 'size', 'comment', 'parsedcomment', 'tags'])"
      ]
     },
     "execution_count": 69,
     "metadata": {},
     "output_type": "execute_result"
    }
   ],
   "source": [
    "feminism_json[0].keys()"
   ]
  },
  {
   "cell_type": "code",
   "execution_count": 70,
   "metadata": {},
   "outputs": [
    {
     "data": {
      "text/plain": [
       "'2017-07-02T21:35:12Z'"
      ]
     },
     "execution_count": 70,
     "metadata": {},
     "output_type": "execute_result"
    }
   ],
   "source": [
    "feminism_json[0]['timestamp']"
   ]
  },
  {
   "cell_type": "markdown",
   "metadata": {},
   "source": [
    "Find another JSON dataset on the Internet and load it into your Jupyter Notebook:"
   ]
  },
  {
   "cell_type": "code",
   "execution_count": 157,
   "metadata": {},
   "outputs": [],
   "source": [
    "## YOUR CODE HERE"
   ]
  }
 ],
 "metadata": {
  "kernelspec": {
   "display_name": "Python 3",
   "language": "python",
   "name": "python3"
  },
  "language_info": {
   "codemirror_mode": {
    "name": "ipython",
    "version": 3
   },
   "file_extension": ".py",
   "mimetype": "text/x-python",
   "name": "python",
   "nbconvert_exporter": "python",
   "pygments_lexer": "ipython3",
   "version": "3.7.0"
  }
 },
 "nbformat": 4,
 "nbformat_minor": 2
}
