{
 "cells": [
  {
   "cell_type": "markdown",
   "metadata": {},
   "source": [
    "## Challenge 1: Making and Printing Variables\n",
    "\n",
    "1. Make 3 variables: `my_name` (with your full name), `city` (where you were born) and `year` (when you were born.)\n",
    "2. Print these three variables so that it prints `[your name] was born in [city] in [year].`"
   ]
  },
  {
   "cell_type": "code",
   "execution_count": 2,
   "metadata": {},
   "outputs": [
    {
     "name": "stdout",
     "output_type": "stream",
     "text": [
      "Oski Bear was born in Grizzly Peak in 1868 .\n",
      "Oski Bear was born in Grizzly Peak in 1868.\n"
     ]
    }
   ],
   "source": [
    "my_name = \"Oski Bear\" # https://en.wikipedia.org/wiki/Oski_the_Bear\n",
    "city = \"Grizzly Peak\" # https://en.wikipedia.org/wiki/Grizzly_Peak_(Berkeley_Hills)\n",
    "year = 1868 # https://en.wikipedia.org/wiki/University_of_California,_Berkeley\n",
    "\n",
    "# Concatenate with print() function\n",
    "print(my_name, \"was born in\", city, \"in\", year, \".\")\n",
    "\n",
    "# Or, using string addition\n",
    "\n",
    "print(my_name + \" \" + \"was born in\" + \" \" + city + \" \" + \"in\" + \" \" + str(year) + \".\")"
   ]
  },
  {
   "cell_type": "markdown",
   "metadata": {},
   "source": [
    "## Challenge 2: Swapping Values\n",
    "\n",
    "Draw a table showing the values of the variables in this program after each statement is executed.\n",
    "\n",
    "In simple terms, what do the last three lines of this program do?"
   ]
  },
  {
   "cell_type": "code",
   "execution_count": 3,
   "metadata": {},
   "outputs": [],
   "source": [
    "lowest = 1.0\n",
    "highest = 3.0\n",
    "temp = lowest\n",
    "lowest = highest\n",
    "highest = temp"
   ]
  },
  {
   "cell_type": "code",
   "execution_count": 4,
   "metadata": {},
   "outputs": [
    {
     "name": "stdout",
     "output_type": "stream",
     "text": [
      "1.0\n",
      "3.0\n",
      "1.0\n"
     ]
    }
   ],
   "source": [
    "print(temp)\n",
    "print(lowest)\n",
    "print(highest)"
   ]
  },
  {
   "cell_type": "markdown",
   "metadata": {},
   "source": [
    "## Challenge 3: Predicting Values\n",
    "\n",
    "What is the final value of `position` in the program below?\n",
    "\n",
    "(Try to predict the value without running the program, then check your prediction.)\n"
   ]
  },
  {
   "cell_type": "code",
   "execution_count": 5,
   "metadata": {},
   "outputs": [],
   "source": [
    "initial = \"left\"\n",
    "position = initial\n",
    "initial = \"right\""
   ]
  },
  {
   "cell_type": "code",
   "execution_count": 6,
   "metadata": {},
   "outputs": [
    {
     "data": {
      "text/plain": [
       "'left'"
      ]
     },
     "execution_count": 6,
     "metadata": {},
     "output_type": "execute_result"
    }
   ],
   "source": [
    "position"
   ]
  },
  {
   "cell_type": "markdown",
   "metadata": {},
   "source": [
    "## Challenge 4: Syntax"
   ]
  },
  {
   "cell_type": "markdown",
   "metadata": {},
   "source": [
    "Why does the following code fail? What is it probably supposed to do, and what is it actually doing?"
   ]
  },
  {
   "cell_type": "code",
   "execution_count": 7,
   "metadata": {},
   "outputs": [
    {
     "ename": "NameError",
     "evalue": "name 'age' is not defined",
     "output_type": "error",
     "traceback": [
      "\u001b[0;31m----------------------------------------\u001b[0m",
      "\u001b[0;31mNameError\u001b[0mTraceback (most recent call last)",
      "\u001b[0;32m<ipython-input-7-7cc9e246a967>\u001b[0m in \u001b[0;36m<module>\u001b[0;34m\u001b[0m\n\u001b[0;32m----> 1\u001b[0;31m \u001b[0mage\u001b[0m \u001b[0;34m==\u001b[0m \u001b[0;36m31\u001b[0m\u001b[0;34m\u001b[0m\u001b[0m\n\u001b[0m",
      "\u001b[0;31mNameError\u001b[0m: name 'age' is not defined"
     ]
    }
   ],
   "source": [
    "age == 31"
   ]
  },
  {
   "cell_type": "markdown",
   "metadata": {},
   "source": [
    "And the following?"
   ]
  },
  {
   "cell_type": "code",
   "execution_count": 8,
   "metadata": {},
   "outputs": [
    {
     "ename": "SyntaxError",
     "evalue": "can't assign to literal (<ipython-input-8-b781bc34195b>, line 1)",
     "output_type": "error",
     "traceback": [
      "\u001b[0;36m  File \u001b[0;32m\"<ipython-input-8-b781bc34195b>\"\u001b[0;36m, line \u001b[0;32m1\u001b[0m\n\u001b[0;31m    31 = age\u001b[0m\n\u001b[0m            ^\u001b[0m\n\u001b[0;31mSyntaxError\u001b[0m\u001b[0;31m:\u001b[0m can't assign to literal\n"
     ]
    }
   ],
   "source": [
    "31 = age"
   ]
  },
  {
   "cell_type": "markdown",
   "metadata": {},
   "source": [
    "Fix the above cells."
   ]
  },
  {
   "cell_type": "code",
   "execution_count": 9,
   "metadata": {},
   "outputs": [
    {
     "name": "stdout",
     "output_type": "stream",
     "text": [
      "31\n"
     ]
    }
   ],
   "source": [
    "age = 31\n",
    "print(age)"
   ]
  },
  {
   "cell_type": "markdown",
   "metadata": {},
   "source": [
    "## Challenge 5: Making and Casting Variables\n",
    "\n",
    "1. Make a variable `year` and [assign](https://github.com/dlab-berkeley/python-intensive/blob/master/Glossary.md#assign) it as the year you were born\n",
    "2. Cast that variable to a float, and assign it to a new variable `year_float`\n",
    "3. Cast `year_float` to a string, and assign it to a new variable `year_string`\n",
    "4. Someone in your class says they were born in 1997. Find out what your age difference is, using only `year_string`.\n",
    "\n",
    "Some of the steps in this challenge might seem redundant or unnecessary, and they are. The idea is just to give you practice with coercing variables, even if it's unlikely you'll ever need to do it so many times in a row."
   ]
  },
  {
   "cell_type": "code",
   "execution_count": 10,
   "metadata": {},
   "outputs": [
    {
     "name": "stdout",
     "output_type": "stream",
     "text": [
      "7\n"
     ]
    }
   ],
   "source": [
    "year = 1990\n",
    "year_float = float(year)\n",
    "year_string = str(year_float)\n",
    "diff = 1997 - int(float(year_string))\n",
    "print(diff)"
   ]
  },
  {
   "cell_type": "markdown",
   "metadata": {},
   "source": [
    "## Challenge 6: Division Types\n",
    "\n",
    "The `//` operator calculates the whole-number result of division, while the '%' operator calculates the remainder from division. Run the cell below to see an example of each."
   ]
  },
  {
   "cell_type": "code",
   "execution_count": 11,
   "metadata": {},
   "outputs": [
    {
     "name": "stdout",
     "output_type": "stream",
     "text": [
      "5 // 3: 1\n",
      "5 % 3: 2\n"
     ]
    }
   ],
   "source": [
    "print('5 // 3:', 5//3)\n",
    "print('5 % 3:', 5%3)"
   ]
  },
  {
   "cell_type": "markdown",
   "metadata": {},
   "source": [
    "You are ordering pizza for a campus event.\n",
    "\n",
    "You have ordered 8 pizzas, with 8 slices each, for a total of 64 slices.\n",
    "\n",
    "You know that everyone attending will eat exactly 3 slices of pizza. You want to make sure that everyone who comes gets enough pizza, even if that means a slice or two will be left over.\n",
    "\n",
    "Write an expression that calculates how many students you can satisfactorily feed with 64 slices of pizza, provided that each will eat 3 slices."
   ]
  },
  {
   "cell_type": "code",
   "execution_count": 12,
   "metadata": {},
   "outputs": [
    {
     "data": {
      "text/plain": [
       "21"
      ]
     },
     "execution_count": 12,
     "metadata": {},
     "output_type": "execute_result"
    }
   ],
   "source": [
    "slices = 64\n",
    "slices_per_student = 3\n",
    "\n",
    "# YOUR CODE HERE\n",
    "\n",
    "slices // slices_per_student"
   ]
  },
  {
   "cell_type": "markdown",
   "metadata": {},
   "source": [
    "## Challenge 7: Strings to Numbers\n",
    "\n",
    " `float` will convert a string to a floating point number, and `int` will convert a floating point number to an integer:\n"
   ]
  },
  {
   "cell_type": "code",
   "execution_count": 13,
   "metadata": {},
   "outputs": [
    {
     "name": "stdout",
     "output_type": "stream",
     "text": [
      "string to float: 3.4\n",
      "float to int: 3\n"
     ]
    }
   ],
   "source": [
    "print(\"string to float:\", float(\"3.4\"))\n",
    "print(\"float to int:\", int(3.4))"
   ]
  },
  {
   "cell_type": "markdown",
   "metadata": {},
   "source": [
    "Given that, what do you expect this program to do? What does it actually do? Why do you think it does that?"
   ]
  },
  {
   "cell_type": "code",
   "execution_count": 14,
   "metadata": {},
   "outputs": [
    {
     "ename": "ValueError",
     "evalue": "invalid literal for int() with base 10: '3.4'",
     "output_type": "error",
     "traceback": [
      "\u001b[0;31m----------------------------------------\u001b[0m",
      "\u001b[0;31mValueError\u001b[0mTraceback (most recent call last)",
      "\u001b[0;32m<ipython-input-14-617dc59d7f19>\u001b[0m in \u001b[0;36m<module>\u001b[0;34m\u001b[0m\n\u001b[0;32m----> 1\u001b[0;31m \u001b[0mprint\u001b[0m\u001b[0;34m(\u001b[0m\u001b[0;34m\"fractional string to int:\"\u001b[0m\u001b[0;34m,\u001b[0m \u001b[0mint\u001b[0m\u001b[0;34m(\u001b[0m\u001b[0;34m\"3.4\"\u001b[0m\u001b[0;34m)\u001b[0m\u001b[0;34m)\u001b[0m\u001b[0;34m\u001b[0m\u001b[0m\n\u001b[0m",
      "\u001b[0;31mValueError\u001b[0m: invalid literal for int() with base 10: '3.4'"
     ]
    }
   ],
   "source": [
    "print(\"fractional string to int:\", int(\"3.4\"))"
   ]
  },
  {
   "cell_type": "code",
   "execution_count": 15,
   "metadata": {},
   "outputs": [
    {
     "name": "stdout",
     "output_type": "stream",
     "text": [
      "fractional string to int: 3\n"
     ]
    }
   ],
   "source": [
    "print(\"fractional string to int:\", int(float(\"3.4\")))"
   ]
  },
  {
   "cell_type": "markdown",
   "metadata": {},
   "source": [
    "## Challenge 8: More data type conversions\n",
    "\n",
    "More data type conversion practice. "
   ]
  },
  {
   "cell_type": "code",
   "execution_count": 16,
   "metadata": {},
   "outputs": [],
   "source": [
    "# Define a float, an integer, and a string:\n",
    "Float = 3.84\n",
    "Integer = 5\n",
    "String = \"Text\""
   ]
  },
  {
   "cell_type": "code",
   "execution_count": 17,
   "metadata": {},
   "outputs": [
    {
     "name": "stdout",
     "output_type": "stream",
     "text": [
      "3\n",
      "<class 'int'>\n"
     ]
    }
   ],
   "source": [
    "# Convert Float to integer type. Did any rounding occur here, or did something else happen? \n",
    "Float_Integer = int(Float)\n",
    "print(Float_Integer)\n",
    "print(type(Float_Integer))"
   ]
  },
  {
   "cell_type": "code",
   "execution_count": 18,
   "metadata": {},
   "outputs": [
    {
     "name": "stdout",
     "output_type": "stream",
     "text": [
      "5.0\n",
      "<class 'float'>\n"
     ]
    }
   ],
   "source": [
    "# Convert integer to float\n",
    "Integer_Float = float(Integer)\n",
    "print(Integer_Float)\n",
    "print(type(Integer_Float))"
   ]
  },
  {
   "cell_type": "code",
   "execution_count": 19,
   "metadata": {},
   "outputs": [
    {
     "name": "stdout",
     "output_type": "stream",
     "text": [
      "5\n",
      "<class 'str'>\n",
      "\n",
      "3.84\n",
      "<class 'str'>\n"
     ]
    }
   ],
   "source": [
    "# Convert integer or float to string\n",
    "Integer_String = str(Integer)\n",
    "Float_String = str(Float)\n",
    "print(Integer_String)\n",
    "print(type(Integer_String))\n",
    "\n",
    "# what does print() do? \n",
    "print() \n",
    "\n",
    "print(Float_String)\n",
    "print(type(Float_String))"
   ]
  },
  {
   "cell_type": "markdown",
   "metadata": {},
   "source": [
    "## Challenge 9: Arithmetic with Different Types\n",
    "\n",
    "Which of the following will print 2.0?\n",
    "\n",
    "Note: there may be more than one right answer."
   ]
  },
  {
   "cell_type": "code",
   "execution_count": 20,
   "metadata": {},
   "outputs": [],
   "source": [
    "first = 1.0\n",
    "second = \"1\"\n",
    "third = \"1.1\""
   ]
  },
  {
   "cell_type": "markdown",
   "metadata": {},
   "source": [
    "1. `first + float(second)`\n",
    "2. `float(second) + float(third)`\n",
    "3. `first + int(third)`\n",
    "4. `first + int(float(third))`\n",
    "5. `int(first) + int(float(third))`\n",
    "6. `2.0 * second`"
   ]
  },
  {
   "cell_type": "code",
   "execution_count": 21,
   "metadata": {},
   "outputs": [
    {
     "name": "stdout",
     "output_type": "stream",
     "text": [
      "2.0\n",
      "2.1\n",
      "2.0\n",
      "2\n"
     ]
    }
   ],
   "source": [
    "print(first + float(second))\n",
    "print(float(second) + float(third))\n",
    "# print(first + int(third))  # error!\n",
    "print(first + int(float(third)))\n",
    "print(int(first) + int(float(third)))\n",
    "# print(2.0 * second)  # error!"
   ]
  },
  {
   "cell_type": "markdown",
   "metadata": {},
   "source": [
    "Does `first == second` ?"
   ]
  },
  {
   "cell_type": "markdown",
   "metadata": {},
   "source": [
    "No"
   ]
  },
  {
   "cell_type": "markdown",
   "metadata": {},
   "source": [
    "Change the code below to yield `True` by casting the variable(s)."
   ]
  },
  {
   "cell_type": "code",
   "execution_count": 22,
   "metadata": {},
   "outputs": [
    {
     "data": {
      "text/plain": [
       "True"
      ]
     },
     "execution_count": 22,
     "metadata": {},
     "output_type": "execute_result"
    }
   ],
   "source": [
    "first == int(float(second))"
   ]
  },
  {
   "cell_type": "markdown",
   "metadata": {},
   "source": [
    "## Challenge 10: Math expressions on different data types\n",
    "\n",
    "More practice with math expression on different data types."
   ]
  },
  {
   "cell_type": "code",
   "execution_count": 23,
   "metadata": {},
   "outputs": [
    {
     "name": "stdout",
     "output_type": "stream",
     "text": [
      "8.84\n",
      "<class 'float'>\n"
     ]
    }
   ],
   "source": [
    "# You can mix floats and integers, which will always produce a float:\n",
    "print(Float + Integer)\n",
    "print(type(Float + Integer))"
   ]
  },
  {
   "cell_type": "code",
   "execution_count": 24,
   "metadata": {},
   "outputs": [
    {
     "name": "stdout",
     "output_type": "stream",
     "text": [
      "OskiwasborninBerkeley.\n"
     ]
    }
   ],
   "source": [
    "# What happens when you perform string addition?\n",
    "print(\"Oski\" + \"was\" + \"born\" + \"in\" + \"Berkeley\" + \".\")"
   ]
  },
  {
   "cell_type": "code",
   "execution_count": 25,
   "metadata": {},
   "outputs": [
    {
     "name": "stdout",
     "output_type": "stream",
     "text": [
      "Oski was born in Berkeley.\n"
     ]
    }
   ],
   "source": [
    "# If we want spaces in string addition, we should code them.\n",
    "print(\"Oski\" + \" \" + \"was\" + \" \" + \"born\" + \" \" + \"in\" + \" \" + \"Berkeley\" + \".\")"
   ]
  },
  {
   "cell_type": "code",
   "execution_count": 26,
   "metadata": {},
   "outputs": [
    {
     "ename": "TypeError",
     "evalue": "can only concatenate str (not \"int\") to str",
     "output_type": "error",
     "traceback": [
      "\u001b[0;31m----------------------------------------\u001b[0m",
      "\u001b[0;31mTypeError\u001b[0mTraceback (most recent call last)",
      "\u001b[0;32m<ipython-input-26-046ae0aaad2f>\u001b[0m in \u001b[0;36m<module>\u001b[0;34m\u001b[0m\n\u001b[1;32m      1\u001b[0m \u001b[0;31m# Can you mix strings and floats/integers?\u001b[0m\u001b[0;34m\u001b[0m\u001b[0;34m\u001b[0m\u001b[0m\n\u001b[0;32m----> 2\u001b[0;31m \u001b[0mprint\u001b[0m\u001b[0;34m(\u001b[0m\u001b[0;34m\"1\"\u001b[0m \u001b[0;34m+\u001b[0m \u001b[0;36m5\u001b[0m\u001b[0;34m)\u001b[0m\u001b[0;34m\u001b[0m\u001b[0m\n\u001b[0m",
      "\u001b[0;31mTypeError\u001b[0m: can only concatenate str (not \"int\") to str"
     ]
    }
   ],
   "source": [
    "# Can you mix strings and floats/integers?\n",
    "print(\"1\" + 5)"
   ]
  },
  {
   "cell_type": "code",
   "execution_count": 27,
   "metadata": {},
   "outputs": [
    {
     "name": "stdout",
     "output_type": "stream",
     "text": [
      "3\n",
      "12\n"
     ]
    }
   ],
   "source": [
    "# How does string addition differ from float/integer addition?\n",
    "print(1 + 2)\n",
    "print(\"1\" + \"2\")"
   ]
  },
  {
   "cell_type": "markdown",
   "metadata": {},
   "source": [
    "## Challenge 11: More Number Types"
   ]
  },
  {
   "cell_type": "markdown",
   "metadata": {},
   "source": [
    "Predict the output of the following:"
   ]
  },
  {
   "cell_type": "code",
   "execution_count": 28,
   "metadata": {},
   "outputs": [
    {
     "name": "stdout",
     "output_type": "stream",
     "text": [
      "2.0\n"
     ]
    },
    {
     "data": {
      "text/plain": [
       "float"
      ]
     },
     "execution_count": 28,
     "metadata": {},
     "output_type": "execute_result"
    }
   ],
   "source": [
    "print(8/4)\n",
    "type(8/4)"
   ]
  },
  {
   "cell_type": "code",
   "execution_count": 29,
   "metadata": {},
   "outputs": [
    {
     "name": "stdout",
     "output_type": "stream",
     "text": [
      "1.6\n"
     ]
    },
    {
     "data": {
      "text/plain": [
       "float"
      ]
     },
     "execution_count": 29,
     "metadata": {},
     "output_type": "execute_result"
    }
   ],
   "source": [
    "print(8/5)\n",
    "type(8/5)"
   ]
  },
  {
   "cell_type": "code",
   "execution_count": 30,
   "metadata": {},
   "outputs": [
    {
     "name": "stdout",
     "output_type": "stream",
     "text": [
      "32\n"
     ]
    },
    {
     "data": {
      "text/plain": [
       "int"
      ]
     },
     "execution_count": 30,
     "metadata": {},
     "output_type": "execute_result"
    }
   ],
   "source": [
    "print(8*4)\n",
    "type(8*4)"
   ]
  },
  {
   "cell_type": "code",
   "execution_count": 31,
   "metadata": {},
   "outputs": [
    {
     "name": "stdout",
     "output_type": "stream",
     "text": [
      "36.0\n"
     ]
    },
    {
     "data": {
      "text/plain": [
       "float"
      ]
     },
     "execution_count": 31,
     "metadata": {},
     "output_type": "execute_result"
    }
   ],
   "source": [
    "print(8*4.5)\n",
    "type(8*4.5)"
   ]
  },
  {
   "cell_type": "markdown",
   "metadata": {},
   "source": [
    "Change the following code to make the output `True`"
   ]
  },
  {
   "cell_type": "code",
   "execution_count": 32,
   "metadata": {},
   "outputs": [
    {
     "data": {
      "text/plain": [
       "True"
      ]
     },
     "execution_count": 32,
     "metadata": {},
     "output_type": "execute_result"
    }
   ],
   "source": [
    "num1 = 30\n",
    "num2 = 35.0\n",
    "\n",
    "type(num1) == type(int(num2))"
   ]
  },
  {
   "cell_type": "markdown",
   "metadata": {},
   "source": [
    "## Challenge 12: String Syntax"
   ]
  },
  {
   "cell_type": "markdown",
   "metadata": {},
   "source": [
    "Why does the following code produce an error?"
   ]
  },
  {
   "cell_type": "code",
   "execution_count": 33,
   "metadata": {},
   "outputs": [
    {
     "name": "stdout",
     "output_type": "stream",
     "text": [
      "Hello World!\n"
     ]
    }
   ],
   "source": [
    "print(\"Hello World!\")"
   ]
  },
  {
   "cell_type": "markdown",
   "metadata": {},
   "source": [
    "And this one?"
   ]
  },
  {
   "cell_type": "code",
   "execution_count": 34,
   "metadata": {},
   "outputs": [
    {
     "name": "stdout",
     "output_type": "stream",
     "text": [
      "I am 27 years old.\n"
     ]
    }
   ],
   "source": [
    "print(\"I am \" + str(27) + \" years old.\")"
   ]
  },
  {
   "cell_type": "markdown",
   "metadata": {},
   "source": [
    "Fix the above cells."
   ]
  },
  {
   "cell_type": "markdown",
   "metadata": {},
   "source": [
    "## Challenge 13: Write your name\n",
    "\n",
    "1. Make two string variables, one with your first name and one with your last name.\n",
    "2. Concatenate both strings to form your full name and [assign](https://github.com/dlab-berkeley/python-intensive/blob/master/Glossary.md#assign) it to a variable.\n",
    "3. Assign a new variable that has your full name in all upper case.\n",
    "4. Slice that string to get your first name again."
   ]
  },
  {
   "cell_type": "code",
   "execution_count": 35,
   "metadata": {},
   "outputs": [
    {
     "name": "stdout",
     "output_type": "stream",
     "text": [
      "JOHN\n"
     ]
    }
   ],
   "source": [
    "first_name = \"John\"\n",
    "last_name = \"Doe\"\n",
    "full_name = first_name + \" \" + last_name\n",
    "full_name_upper = full_name.upper()\n",
    "print(full_name_upper[:len(first_name)])"
   ]
  },
  {
   "cell_type": "markdown",
   "metadata": {},
   "source": [
    "## Challenge 14: Try seeing what the following string methods do:\n",
    "\n",
    "    * `split`\n",
    "    * `join`\n",
    "    * `replace`\n",
    "    * `strip`\n",
    "    * `find`"
   ]
  },
  {
   "cell_type": "code",
   "execution_count": null,
   "metadata": {},
   "outputs": [],
   "source": []
  },
  {
   "cell_type": "markdown",
   "metadata": {},
   "source": [
    "## Challenge 15: Working with strings"
   ]
  },
  {
   "cell_type": "markdown",
   "metadata": {},
   "source": [
    "Below is a string of Edgar Allen Poe's \"A Dream Within a Dream\":"
   ]
  },
  {
   "cell_type": "code",
   "execution_count": 36,
   "metadata": {},
   "outputs": [],
   "source": [
    "poem = '''Take this kiss upon the brow!\n",
    "And, in parting from you now,\n",
    "Thus much let me avow —\n",
    "You are not wrong, who deem\n",
    "That my days have been a dream;\n",
    "Yet if hope has flown away\n",
    "In a night, or in a day,\n",
    "In a vision, or in none,\n",
    "Is it therefore the less gone?  \n",
    "All that we see or seem\n",
    "Is but a dream within a dream.\n",
    "\n",
    "I stand amid the roar\n",
    "Of a surf-tormented shore,\n",
    "And I hold within my hand\n",
    "Grains of the golden sand —\n",
    "How few! yet how they creep\n",
    "Through my fingers to the deep,\n",
    "While I weep — while I weep!\n",
    "O God! Can I not grasp \n",
    "Them with a tighter clasp?\n",
    "O God! can I not save\n",
    "One from the pitiless wave?\n",
    "Is all that we see or seem\n",
    "But a dream within a dream?'''"
   ]
  },
  {
   "cell_type": "markdown",
   "metadata": {},
   "source": [
    "What is the difference between `poem.strip(\"?\")` and `poem.replace(\"?\", \"\")` ?"
   ]
  },
  {
   "cell_type": "code",
   "execution_count": 37,
   "metadata": {},
   "outputs": [
    {
     "name": "stdout",
     "output_type": "stream",
     "text": [
      "657 656 653\n"
     ]
    }
   ],
   "source": [
    "print(len(poem), len(poem.strip(\"?\")), len(poem.replace(\"?\", \"\")) )"
   ]
  },
  {
   "cell_type": "markdown",
   "metadata": {},
   "source": [
    "At what index does the word \"*and*\" first appear? Where does it last appear?"
   ]
  },
  {
   "cell_type": "code",
   "execution_count": 38,
   "metadata": {},
   "outputs": [
    {
     "name": "stdout",
     "output_type": "stream",
     "text": [
      "314\n",
      "407\n"
     ]
    }
   ],
   "source": [
    "print(poem.find(\"and\"))\n",
    "print(poem.rfind(\"and\"))"
   ]
  },
  {
   "cell_type": "markdown",
   "metadata": {},
   "source": [
    "How can you answer the above accounting for upper- and lowercase?"
   ]
  },
  {
   "cell_type": "code",
   "execution_count": 39,
   "metadata": {},
   "outputs": [
    {
     "name": "stdout",
     "output_type": "stream",
     "text": [
      "30\n",
      "407\n"
     ]
    }
   ],
   "source": [
    "print(poem.lower().find(\"and\"))\n",
    "print(poem.lower().rfind(\"and\"))"
   ]
  },
  {
   "cell_type": "markdown",
   "metadata": {},
   "source": [
    "## Challenge 16: What Happens When\n",
    "\n",
    "1. Explain in simple terms the order of operations in the following program:\n",
    "    when does the addition happen, when does the subtraction happen,\n",
    "    when is each function called, etc.\n",
    "2. What is the final value of `radiance`?"
   ]
  },
  {
   "cell_type": "code",
   "execution_count": 40,
   "metadata": {},
   "outputs": [],
   "source": [
    "radiance = 1.0\n",
    "radiance = max(2.1, 2.0 + min(radiance, 1.1 * radiance - 0.5))"
   ]
  },
  {
   "cell_type": "code",
   "execution_count": 41,
   "metadata": {},
   "outputs": [
    {
     "name": "stdout",
     "output_type": "stream",
     "text": [
      "2.6\n"
     ]
    }
   ],
   "source": [
    "print(radiance)"
   ]
  },
  {
   "cell_type": "markdown",
   "metadata": {},
   "source": [
    "## Challenge 17: Why Not?\n",
    "\n",
    "Why don't `max` and `min` return `None` when they are given no arguments?"
   ]
  },
  {
   "cell_type": "code",
   "execution_count": 42,
   "metadata": {},
   "outputs": [
    {
     "ename": "TypeError",
     "evalue": "max expected 1 arguments, got 0",
     "output_type": "error",
     "traceback": [
      "\u001b[0;31m----------------------------------------\u001b[0m",
      "\u001b[0;31mTypeError\u001b[0mTraceback (most recent call last)",
      "\u001b[0;32m<ipython-input-42-3a6e25e0e1b7>\u001b[0m in \u001b[0;36m<module>\u001b[0;34m\u001b[0m\n\u001b[0;32m----> 1\u001b[0;31m \u001b[0mprint\u001b[0m\u001b[0;34m(\u001b[0m\u001b[0mmax\u001b[0m\u001b[0;34m(\u001b[0m\u001b[0;34m)\u001b[0m\u001b[0;34m)\u001b[0m\u001b[0;34m\u001b[0m\u001b[0m\n\u001b[0m",
      "\u001b[0;31mTypeError\u001b[0m: max expected 1 arguments, got 0"
     ]
    }
   ],
   "source": [
    "print(max())"
   ]
  },
  {
   "cell_type": "code",
   "execution_count": 43,
   "metadata": {},
   "outputs": [
    {
     "ename": "TypeError",
     "evalue": "min expected 1 arguments, got 0",
     "output_type": "error",
     "traceback": [
      "\u001b[0;31m----------------------------------------\u001b[0m",
      "\u001b[0;31mTypeError\u001b[0mTraceback (most recent call last)",
      "\u001b[0;32m<ipython-input-43-ea232343b3db>\u001b[0m in \u001b[0;36m<module>\u001b[0;34m\u001b[0m\n\u001b[0;32m----> 1\u001b[0;31m \u001b[0mprint\u001b[0m\u001b[0;34m(\u001b[0m\u001b[0mmin\u001b[0m\u001b[0;34m(\u001b[0m\u001b[0;34m)\u001b[0m\u001b[0;34m)\u001b[0m\u001b[0;34m\u001b[0m\u001b[0m\n\u001b[0m",
      "\u001b[0;31mTypeError\u001b[0m: min expected 1 arguments, got 0"
     ]
    }
   ],
   "source": [
    "print(min())"
   ]
  },
  {
   "cell_type": "markdown",
   "metadata": {},
   "source": [
    "## Challenge 18: Counting Text"
   ]
  },
  {
   "cell_type": "markdown",
   "metadata": {},
   "source": [
    "Below is a string of Robert Frost's \"The Road Not Taken\". This is a preview of what we will cover in week 2:"
   ]
  },
  {
   "cell_type": "code",
   "execution_count": 44,
   "metadata": {},
   "outputs": [],
   "source": [
    "poem = '''Two roads diverged in a yellow wood,\n",
    "And sorry I could not travel both\n",
    "And be one traveler, long I stood\n",
    "And looked down one as far as I could\n",
    "To where it bent in the undergrowth;\n",
    "\n",
    "Then took the other, as just as fair,\n",
    "And having perhaps the better claim,\n",
    "Because it was grassy and wanted wear;\n",
    "Though as for that the passing there\n",
    "Had worn them really about the same,\n",
    "\n",
    "And both that morning equally lay\n",
    "In leaves no step had trodden black.\n",
    "Oh, I kept the first for another day!\n",
    "Yet knowing how way leads on to way,\n",
    "I doubted if I should ever come back.\n",
    "\n",
    "I shall be telling this with a sigh\n",
    "Somewhere ages and ages hence:\n",
    "Two roads diverged in a wood, and I—\n",
    "I took the one less traveled by,\n",
    "And that has made all the difference.'''"
   ]
  },
  {
   "cell_type": "markdown",
   "metadata": {},
   "source": [
    "Using the `len` function and the string methods, answer the following questions:\n",
    "\n",
    "How many characters (letters) are in the poem?"
   ]
  },
  {
   "cell_type": "code",
   "execution_count": 45,
   "metadata": {},
   "outputs": [
    {
     "data": {
      "text/plain": [
       "729"
      ]
     },
     "execution_count": 45,
     "metadata": {},
     "output_type": "execute_result"
    }
   ],
   "source": [
    "len(poem)"
   ]
  },
  {
   "cell_type": "markdown",
   "metadata": {},
   "source": [
    "How many words?"
   ]
  },
  {
   "cell_type": "code",
   "execution_count": 46,
   "metadata": {},
   "outputs": [
    {
     "data": {
      "text/plain": [
       "144"
      ]
     },
     "execution_count": 46,
     "metadata": {},
     "output_type": "execute_result"
    }
   ],
   "source": [
    "len(poem.split())"
   ]
  },
  {
   "cell_type": "markdown",
   "metadata": {},
   "source": [
    "How many lines? (HINT: A line break is represented as  `\\n`  )"
   ]
  },
  {
   "cell_type": "code",
   "execution_count": 47,
   "metadata": {},
   "outputs": [
    {
     "data": {
      "text/plain": [
       "20"
      ]
     },
     "execution_count": 47,
     "metadata": {},
     "output_type": "execute_result"
    }
   ],
   "source": [
    "len(poem.split(\"\\n\")) - poem.count(\"\\n\\n\")"
   ]
  },
  {
   "cell_type": "markdown",
   "metadata": {},
   "source": [
    "How many stanzas?"
   ]
  },
  {
   "cell_type": "code",
   "execution_count": 48,
   "metadata": {},
   "outputs": [
    {
     "data": {
      "text/plain": [
       "['Two roads diverged in a yellow wood,\\nAnd sorry I could not travel both\\nAnd be one traveler, long I stood\\nAnd looked down one as far as I could\\nTo where it bent in the undergrowth;',\n",
       " 'Then took the other, as just as fair,\\nAnd having perhaps the better claim,\\nBecause it was grassy and wanted wear;\\nThough as for that the passing there\\nHad worn them really about the same,',\n",
       " 'And both that morning equally lay\\nIn leaves no step had trodden black.\\nOh, I kept the first for another day!\\nYet knowing how way leads on to way,\\nI doubted if I should ever come back.',\n",
       " 'I shall be telling this with a sigh\\nSomewhere ages and ages hence:\\nTwo roads diverged in a wood, and I—\\nI took the one less traveled by,\\nAnd that has made all the difference.']"
      ]
     },
     "execution_count": 48,
     "metadata": {},
     "output_type": "execute_result"
    }
   ],
   "source": [
    "poem.split(\"\\n\\n\")"
   ]
  },
  {
   "cell_type": "code",
   "execution_count": 49,
   "metadata": {},
   "outputs": [
    {
     "data": {
      "text/plain": [
       "4"
      ]
     },
     "execution_count": 49,
     "metadata": {},
     "output_type": "execute_result"
    }
   ],
   "source": [
    "len(poem.split(\"\\n\\n\"))"
   ]
  },
  {
   "cell_type": "markdown",
   "metadata": {},
   "source": [
    "How many unique words? (HINT: look up what `set` does)"
   ]
  },
  {
   "cell_type": "code",
   "execution_count": 50,
   "metadata": {},
   "outputs": [
    {
     "data": {
      "text/plain": [
       "96"
      ]
     },
     "execution_count": 50,
     "metadata": {},
     "output_type": "execute_result"
    }
   ],
   "source": [
    "len(set(poem.lower().split()))"
   ]
  },
  {
   "cell_type": "markdown",
   "metadata": {},
   "source": [
    "Remove commas and check the number of unique words again. Why is it different?"
   ]
  },
  {
   "cell_type": "code",
   "execution_count": 51,
   "metadata": {},
   "outputs": [
    {
     "data": {
      "text/plain": [
       "95"
      ]
     },
     "execution_count": 51,
     "metadata": {},
     "output_type": "execute_result"
    }
   ],
   "source": [
    "len(set(poem.lower().replace(\",\",\"\").split()))"
   ]
  },
  {
   "cell_type": "code",
   "execution_count": 52,
   "metadata": {},
   "outputs": [],
   "source": [
    "# What is going on in this cell?\n",
    "from string import punctuation"
   ]
  },
  {
   "cell_type": "code",
   "execution_count": 53,
   "metadata": {},
   "outputs": [
    {
     "data": {
      "text/plain": [
       "'!\"#$%&\\'()*+,-./:;<=>?@[\\\\]^_`{|}~'"
      ]
     },
     "execution_count": 53,
     "metadata": {},
     "output_type": "execute_result"
    }
   ],
   "source": [
    "punctuation"
   ]
  },
  {
   "cell_type": "code",
   "execution_count": 54,
   "metadata": {},
   "outputs": [
    {
     "name": "stdout",
     "output_type": "stream",
     "text": [
      "Two roads diverged in a yellow wood\n",
      "And sorry I could not travel both\n",
      "And be one traveler long I stood\n",
      "And looked down one as far as I could\n",
      "To where it bent in the undergrowth\n",
      "\n",
      "Then took the other as just as fair\n",
      "And having perhaps the better claim\n",
      "Because it was grassy and wanted wear\n",
      "Though as for that the passing there\n",
      "Had worn them really about the same\n",
      "\n",
      "And both that morning equally lay\n",
      "In leaves no step had trodden black\n",
      "Oh I kept the first for another day\n",
      "Yet knowing how way leads on to way\n",
      "I doubted if I should ever come back\n",
      "\n",
      "I shall be telling this with a sigh\n",
      "Somewhere ages and ages hence\n",
      "Two roads diverged in a wood and I—\n",
      "I took the one less traveled by\n",
      "And that has made all the difference\n"
     ]
    }
   ],
   "source": [
    "for char in punctuation:\n",
    "    poem = poem.replace(char, \"\")\n",
    "    \n",
    "print(poem)"
   ]
  },
  {
   "cell_type": "markdown",
   "metadata": {},
   "source": [
    "Repeat this once more after converting everything to lowercase - what changed?"
   ]
  },
  {
   "cell_type": "code",
   "execution_count": 55,
   "metadata": {},
   "outputs": [],
   "source": [
    "poem_lower = poem.lower()"
   ]
  },
  {
   "cell_type": "code",
   "execution_count": 56,
   "metadata": {},
   "outputs": [
    {
     "data": {
      "text/plain": [
       "144"
      ]
     },
     "execution_count": 56,
     "metadata": {},
     "output_type": "execute_result"
    }
   ],
   "source": [
    "len(poem_lower.split())"
   ]
  },
  {
   "cell_type": "code",
   "execution_count": 57,
   "metadata": {},
   "outputs": [
    {
     "data": {
      "text/plain": [
       "95"
      ]
     },
     "execution_count": 57,
     "metadata": {},
     "output_type": "execute_result"
    }
   ],
   "source": [
    "len(set(poem.lower().split()))"
   ]
  }
 ],
 "metadata": {
  "kernelspec": {
   "display_name": "Python 3",
   "language": "python",
   "name": "python3"
  },
  "language_info": {
   "codemirror_mode": {
    "name": "ipython",
    "version": 3
   },
   "file_extension": ".py",
   "mimetype": "text/x-python",
   "name": "python",
   "nbconvert_exporter": "python",
   "pygments_lexer": "ipython3",
   "version": "3.7.0"
  }
 },
 "nbformat": 4,
 "nbformat_minor": 2
}
