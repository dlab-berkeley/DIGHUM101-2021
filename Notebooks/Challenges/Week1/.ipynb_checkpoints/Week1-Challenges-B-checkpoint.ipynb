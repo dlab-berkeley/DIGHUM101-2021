{
 "cells": [
  {
   "cell_type": "markdown",
   "metadata": {},
   "source": [
    "## Challenge 1: Lists - Slice It!\n",
    "\n",
    "If `thing` is a list and `low` and `high` are both non-negative integers:\n",
    "\n",
    "1. What does `thing[low:high]` do?\n",
    "2. What does `thing[low:]` (without a value after the colon) do?\n",
    "3. What does `thing[:high]` (without a value before the colon) do?\n",
    "4. What does `thing[:]` (just a colon) do?\n",
    "5. How long is the list `thing[low:high]`?"
   ]
  },
  {
   "cell_type": "code",
   "execution_count": null,
   "metadata": {},
   "outputs": [],
   "source": [
    "thing = [1, 4, 3, 6, 3, 6, 7]\n",
    "\n",
    "low = 2\n",
    "high = 5\n",
    "\n",
    "## YOUR CODE HERE"
   ]
  },
  {
   "cell_type": "markdown",
   "metadata": {},
   "source": [
    "## Challenge 2: Lists - Making Strides\n",
    "\n",
    "What does the following program print?\n",
    "\n",
    "1. If we write a slice as low:high:stride, what does stride do?"
   ]
  },
  {
   "cell_type": "code",
   "execution_count": null,
   "metadata": {},
   "outputs": [],
   "source": [
    "city = 'Berkeley'\n",
    "print(city[::2])\n",
    "print(city[::-1])"
   ]
  },
  {
   "cell_type": "markdown",
   "metadata": {},
   "source": [
    "2. What expression would select all of the even-numbered items from a collection?"
   ]
  },
  {
   "cell_type": "code",
   "execution_count": null,
   "metadata": {},
   "outputs": [],
   "source": [
    "numbers = list(range(1,51))\n",
    "print(numbers)"
   ]
  },
  {
   "cell_type": "code",
   "execution_count": null,
   "metadata": {},
   "outputs": [],
   "source": [
    "## YOUR CODE HERE"
   ]
  },
  {
   "cell_type": "markdown",
   "metadata": {},
   "source": [
    "## Challenge 3: Lists - Append vs. Extend\n",
    "\n",
    "Using the program below, can you tell the difference between the `append` method and the `extend` method?"
   ]
  },
  {
   "cell_type": "code",
   "execution_count": null,
   "metadata": {},
   "outputs": [],
   "source": [
    "pantry_1 = ['bread', 'pasta', 'beans', 'cereal']\n",
    "pantry_2 = ['bread', 'pasta', 'beans', 'cereal']\n",
    "new_items = ['granola bars', 'cookies']\n",
    "## YOUR CODE HERE\n",
    "## YOUR CODE HERE\n",
    "print('append does this:', pantry_1)\n",
    "print('extend does this:', pantry_2)"
   ]
  },
  {
   "cell_type": "markdown",
   "metadata": {},
   "source": [
    "## Challenge 4: Lists - Index\n",
    "\n",
    "I've created a (long) list for you below. Use the `.index()` method to find out what the index number is for `Waldo`"
   ]
  },
  {
   "cell_type": "code",
   "execution_count": null,
   "metadata": {},
   "outputs": [],
   "source": [
    "Wheres_Waldo = [\"Anna\", \"Shad\", \"Rachel\", \"Maura\", \"Jason\", \"Matt\", \"Konrad\", \"Justine\", \"Sarah\", \"Laura\", \\\n",
    "                \"Chelsea\", \"Nina\", \"Dierdre\", \"Julian\", \"Waldo\", \"Naniette\", \"Melissa\", \"Biz\", \"Elsa\", \"Demetria\",\\\n",
    "                \"Liz\", \"Olivia\", \"Will\", \"Ogi\", \"Melanie\", \"Jessica\"]"
   ]
  },
  {
   "cell_type": "code",
   "execution_count": null,
   "metadata": {},
   "outputs": [],
   "source": [
    "## YOUR CODE HERE"
   ]
  },
  {
   "cell_type": "markdown",
   "metadata": {},
   "source": [
    "## Challenge 5:  Lists - join\n",
    "\n",
    "Read the help file for the `join` method. \n",
    "\n",
    "Using the join method, concatenate all the values in this list into one string:"
   ]
  },
  {
   "cell_type": "code",
   "execution_count": null,
   "metadata": {},
   "outputs": [],
   "source": [
    "letters = ['s', 'p', 'a', 'm']"
   ]
  },
  {
   "cell_type": "code",
   "execution_count": null,
   "metadata": {},
   "outputs": [],
   "source": [
    "## YOUR CODE HERE"
   ]
  },
  {
   "cell_type": "markdown",
   "metadata": {},
   "source": [
    "Now use the `join` method to make one string with all the names from the list `Wheres_Waldo`, which prints each name on a separate line. (HINT: Remember a new line is represented by `\\n`"
   ]
  },
  {
   "cell_type": "code",
   "execution_count": null,
   "metadata": {},
   "outputs": [],
   "source": [
    "## YOUR CODE HERE"
   ]
  },
  {
   "cell_type": "markdown",
   "metadata": {},
   "source": [
    "Reverse the order of the names:"
   ]
  },
  {
   "cell_type": "code",
   "execution_count": null,
   "metadata": {
    "scrolled": true
   },
   "outputs": [],
   "source": [
    "## YOUR CODE HERE"
   ]
  },
  {
   "cell_type": "markdown",
   "metadata": {},
   "source": [
    "## Challenge 6: Dictionaries - Make your own\n",
    "\n",
    "Dictionaries can be nested, which means that dictionary keys can contain dictionaries themselves.\n",
    "\n",
    "1. Create two dictionaries, each representing one of your favorite musical artist. Each dictionary should have the following keys / value-type: `name`: (string) , `genre`: (string), `songs` (list), `age`: (integer)\n",
    "\n",
    "2. Create an outer dictionary called `musical_artists` that contain the two inner dictionaries."
   ]
  },
  {
   "cell_type": "code",
   "execution_count": null,
   "metadata": {},
   "outputs": [],
   "source": [
    "## 1. YOUR CODE HERE"
   ]
  },
  {
   "cell_type": "code",
   "execution_count": null,
   "metadata": {},
   "outputs": [],
   "source": [
    "## 2. YOUR CODE HERE"
   ]
  },
  {
   "cell_type": "markdown",
   "metadata": {},
   "source": [
    "## Challenge 7: More data structures - Array\n",
    "\n",
    "Lists are called arrays when they contain data of the same type, and may be preferred to lists when handling large amounts of data because they are computationally more efficient. Use your numpy library to create a \"numpy array\":"
   ]
  },
  {
   "cell_type": "code",
   "execution_count": null,
   "metadata": {},
   "outputs": [],
   "source": [
    "import numpy as np"
   ]
  },
  {
   "cell_type": "code",
   "execution_count": null,
   "metadata": {},
   "outputs": [],
   "source": [
    "# Define a numpy array\n",
    "my_array = np.array([4, 5, 6, 10])\n",
    "\n",
    "print(my_array)\n",
    "print(type(my_array))"
   ]
  },
  {
   "cell_type": "markdown",
   "metadata": {},
   "source": [
    "Like lists, we can change an individual value by reassigning its index:"
   ]
  },
  {
   "cell_type": "code",
   "execution_count": null,
   "metadata": {},
   "outputs": [],
   "source": [
    "my_array[0] = 42\n",
    "print(my_array)"
   ]
  },
  {
   "cell_type": "markdown",
   "metadata": {},
   "source": [
    "Define an array based on a range of numbers:"
   ]
  },
  {
   "cell_type": "code",
   "execution_count": null,
   "metadata": {},
   "outputs": [],
   "source": [
    "## YOUR CODE HERE"
   ]
  },
  {
   "cell_type": "markdown",
   "metadata": {},
   "source": [
    "What if I want just the third, fourth and fifth elements of \"number_range\""
   ]
  },
  {
   "cell_type": "code",
   "execution_count": null,
   "metadata": {},
   "outputs": [],
   "source": [
    "## YOUR CODE HERE"
   ]
  },
  {
   "cell_type": "markdown",
   "metadata": {},
   "source": [
    "## Challenge 8: More data structures - Tuple\n",
    "\n",
    "Tuples are similar to lists and arrays, but they are unchangeable (\"immutable\"). \n",
    "\n",
    "For example, we cannot change the output of 10 (the dividend) divided by 3 (the divisor) - by definition the quotient is 3 and the remainder is 1 this cannot be changed. \n",
    "\n",
    "> Although they appear similar to lists, note that tuples use round parentheses `()` to store information instead of square brackets."
   ]
  },
  {
   "cell_type": "code",
   "execution_count": 5,
   "metadata": {},
   "outputs": [
    {
     "data": {
      "text/plain": [
       "dict"
      ]
     },
     "execution_count": 5,
     "metadata": {},
     "output_type": "execute_result"
    }
   ],
   "source": [
    "my_var = {}\n",
    "type(my_var)"
   ]
  },
  {
   "cell_type": "code",
   "execution_count": null,
   "metadata": {},
   "outputs": [],
   "source": [
    "div = divmod(10,3)\n",
    "print(div)\n",
    "print(type(div))"
   ]
  },
  {
   "cell_type": "markdown",
   "metadata": {},
   "source": [
    "Figure out another way to define any tuple below:"
   ]
  },
  {
   "cell_type": "code",
   "execution_count": null,
   "metadata": {},
   "outputs": [],
   "source": [
    "# Empty tuple\n",
    "tuple_empty = ()\n",
    "print(tuple_empty)\n",
    "print(type(tuple_empty))"
   ]
  },
  {
   "cell_type": "code",
   "execution_count": null,
   "metadata": {},
   "outputs": [],
   "source": [
    "# Tuple with floats\n",
    "tuple_float = (1.12, 2.23, 3.14)\n",
    "print(tuple_float)\n",
    "print(type(tuple_float))"
   ]
  },
  {
   "cell_type": "code",
   "execution_count": null,
   "metadata": {},
   "outputs": [],
   "source": [
    "# Complex tuple\n",
    "tuple_complex = ([1, 3, 12], True, \"hello!\", (3.14, 3.14, 3.15))\n",
    "print(tuple_complex)\n",
    "print(type(tuple_complex))"
   ]
  },
  {
   "cell_type": "markdown",
   "metadata": {},
   "source": [
    "How do you think you index or slice a tuple? HINT: You are already familiar with this! Provide one example below."
   ]
  },
  {
   "cell_type": "code",
   "execution_count": null,
   "metadata": {},
   "outputs": [],
   "source": [
    "## YOUR CODE HERE"
   ]
  },
  {
   "cell_type": "markdown",
   "metadata": {},
   "source": [
    "## Challenge 9: More data structures - Series\n",
    "\n",
    "Series are the pandas version of arrays - one dimensional data storage, preferably of the same type."
   ]
  },
  {
   "cell_type": "code",
   "execution_count": null,
   "metadata": {},
   "outputs": [],
   "source": [
    "pd.Series?"
   ]
  },
  {
   "cell_type": "markdown",
   "metadata": {},
   "source": [
    "What must you do before you can call the help files for `pd.Series`?"
   ]
  },
  {
   "cell_type": "code",
   "execution_count": null,
   "metadata": {},
   "outputs": [],
   "source": [
    "import pandas as pd"
   ]
  },
  {
   "cell_type": "code",
   "execution_count": null,
   "metadata": {},
   "outputs": [],
   "source": [
    "pd.Series?"
   ]
  },
  {
   "cell_type": "markdown",
   "metadata": {},
   "source": [
    "What are the two arguments in the `pd.Series` code below?"
   ]
  },
  {
   "cell_type": "code",
   "execution_count": null,
   "metadata": {
    "scrolled": false
   },
   "outputs": [],
   "source": [
    "pd_series = pd.Series([1, 2, 3, 4, 5], \n",
    "                      index = [\"a\", \"b\", \"c\", \"D\", \"E\"])\n",
    "print(pd_series)\n",
    "print(type(pd_series))"
   ]
  },
  {
   "cell_type": "markdown",
   "metadata": {},
   "source": [
    "## Challenge 10: DataFrame\n",
    "\n",
    "A pandas DataFrame is an ordered group of equal-length series/arrays. This ensures that data are of the same type within each column, but that data can be of different types across rows (think like an MS Excel spreadsheet!)\n",
    "\n",
    "> Remember that pandas will be a large focus in Week 2"
   ]
  },
  {
   "cell_type": "code",
   "execution_count": null,
   "metadata": {},
   "outputs": [],
   "source": [
    "# Create a DataFrame using lists\n",
    "\n",
    "# Define two lists\n",
    "heroes = [\"Superman\", \"Black Panther\", \"Wonder Woman\", \"Batman\", \"Storm\"]\n",
    "hometown = [\"Krypton\", \"Wakanda\", \"Themyscira\", \"Gotham\", \"Harlem\"]\n",
    "age = [23, 25, 41, 52, 22]\n",
    "\n",
    "# Create an empty DataFrame\n",
    "comics = pd.DataFrame()\n",
    "print(comics)"
   ]
  },
  {
   "cell_type": "code",
   "execution_count": null,
   "metadata": {},
   "outputs": [],
   "source": [
    "# Use the lists to define the columns\n",
    "comics[\"Name\"] = heroes\n",
    "comics[\"Home\"] = hometown\n",
    "comics[\"Age\"] = age\n",
    "\n",
    "# View the data frame\n",
    "comics"
   ]
  },
  {
   "cell_type": "code",
   "execution_count": null,
   "metadata": {},
   "outputs": [],
   "source": [
    "print(type(list_df[\"AGE\"]))"
   ]
  },
  {
   "cell_type": "markdown",
   "metadata": {},
   "source": [
    "### `zip()`\n",
    "\n",
    "The `zip()` function is a handy way to define data frames using tuples. "
   ]
  },
  {
   "cell_type": "code",
   "execution_count": null,
   "metadata": {},
   "outputs": [],
   "source": [
    "zip?"
   ]
  },
  {
   "cell_type": "code",
   "execution_count": null,
   "metadata": {
    "scrolled": true
   },
   "outputs": [],
   "source": [
    "# Using zip()\n",
    "\n",
    "# Define lists to be the columns in our data frame\n",
    "day = [\"Monday\", \"Tuesday\", \"Friday\"]\n",
    "temp = [88, 91, 67]\n",
    "\n",
    "# Convert our two separate lists into a list of tuples\n",
    "tuples = list(zip(day, temp))\n",
    "tuples\n",
    "\n",
    "# Create the data frame \n",
    "pd.DataFrame(tuples, columns=[\"Day\", \"Temp\"])"
   ]
  },
  {
   "cell_type": "markdown",
   "metadata": {},
   "source": [
    "Create a small data frame like the ones above from scratch. Be creative! "
   ]
  },
  {
   "cell_type": "code",
   "execution_count": null,
   "metadata": {},
   "outputs": [],
   "source": [
    "## YOUR CODE HERE"
   ]
  },
  {
   "cell_type": "markdown",
   "metadata": {},
   "source": [
    "In `pd.DataFrame`, what does index and columns do?"
   ]
  },
  {
   "cell_type": "markdown",
   "metadata": {},
   "source": [
    "# The remaining challenges are designed to challenge you beyond what we have covered so far. If you feel frustrated and do not understand, that is normal! \n",
    "\n",
    "> Challenges 12, 13, 14, and 15 are a preview of week 3."
   ]
  },
  {
   "cell_type": "markdown",
   "metadata": {},
   "source": [
    "## Challenge 11\n",
    "\n",
    "1. [Visit www.mockaroo.com](https://mockaroo.com/) and click the \"Download Data\" button to generate a simulated dataset.\n",
    "\n",
    "2. Import this example data into a Pandas DataFrame.\n",
    "\n",
    "> HINT: First, copy your new .csv file into your working directory! "
   ]
  },
  {
   "cell_type": "code",
   "execution_count": null,
   "metadata": {},
   "outputs": [],
   "source": [
    "## YOUR CODE HERE"
   ]
  },
  {
   "cell_type": "markdown",
   "metadata": {},
   "source": [
    "## Challenge 12: XML\n",
    "\n",
    ".csv files are nice when we know the structure of the data (rows and columns) that we can quickly perform operations on. However, we are limited to this format, which can be difficult to incorporate into nested, hierarchical data structures. \n",
    "\n",
    "[Extensible Markup Language (.xml)](https://www.sitepoint.com/really-good-introduction-xml/) is good for representing data that have a hierarchical structure. Large, web-based datasets might be stored this way, and we can use their human readable format to select tags that we want to extract for analysis. However, these data are larger than .csv files because of the opening and closing \"tags\". \n",
    "\n",
    "There are a few libraries in Python that will parse XML for you, but we'll stick to the standard `xml` library in this course. Let's start out with a simple example. Suppose we want to store the metadata for the books in our library in an XML file. It might look something like this:"
   ]
  },
  {
   "cell_type": "code",
   "execution_count": null,
   "metadata": {},
   "outputs": [],
   "source": [
    "pwd"
   ]
  },
  {
   "cell_type": "code",
   "execution_count": null,
   "metadata": {},
   "outputs": [],
   "source": [
    "import os\n",
    "os.chdir(\"../../../Data\")"
   ]
  },
  {
   "cell_type": "code",
   "execution_count": null,
   "metadata": {},
   "outputs": [],
   "source": [
    "os.getcwd()"
   ]
  },
  {
   "cell_type": "code",
   "execution_count": null,
   "metadata": {},
   "outputs": [],
   "source": [
    "ls"
   ]
  },
  {
   "cell_type": "code",
   "execution_count": null,
   "metadata": {},
   "outputs": [],
   "source": [
    "!cat example.xml"
   ]
  },
  {
   "cell_type": "markdown",
   "metadata": {},
   "source": [
    "To parse this in Python, we'll need to import the `xml` library and then build the tree. From the `tree` object, we can get the root of the tree, and then traverse the tree like we would our filesystem paths."
   ]
  },
  {
   "cell_type": "code",
   "execution_count": null,
   "metadata": {},
   "outputs": [],
   "source": [
    "import xml.etree.ElementTree as ET # loads functions from `xml` library under the name `ET`\n",
    "\n",
    "tree = ET.parse(\"example.xml\")\n",
    "root = tree.getroot()\n",
    "print(ET.tostring(root))"
   ]
  },
  {
   "cell_type": "markdown",
   "metadata": {},
   "source": [
    "This is how it would look if we typed it out:"
   ]
  },
  {
   "cell_type": "code",
   "execution_count": null,
   "metadata": {},
   "outputs": [],
   "source": [
    "xml_string = '''\n",
    "<my-library>\n",
    "    <book>\n",
    "        <title>The Lion, the Witch and the Wardrobe</title>\n",
    "        <author>C. S. Lewis</author>\n",
    "        <date>1950</date>\n",
    "        <publisher>Geoffrey Bles</publisher>\n",
    "    </book>\n",
    "    <book>\n",
    "        <title>The Hobbit</title>\n",
    "        <author>J. R. R. Tolkien</author>\n",
    "        <date>1937</date>\n",
    "        <publisher>George Allen and Unwin</publisher>\n",
    "    </book>\n",
    "    <book>\n",
    "        <title>To Kill A Mockingbird</title>\n",
    "        <author>Harper Lee</author>\n",
    "        <date>1960</date>\n",
    "        <publisher>J. B. Lippincott and Co.</publisher>\n",
    "    </book>\n",
    "</my-library>\n",
    "'''"
   ]
  },
  {
   "cell_type": "code",
   "execution_count": null,
   "metadata": {},
   "outputs": [],
   "source": [
    "root = ET.fromstring(xml_string)\n",
    "print(ET.tostring(root))"
   ]
  },
  {
   "cell_type": "markdown",
   "metadata": {},
   "source": [
    "We can get the direct children of the root with the `getchildren()` method:"
   ]
  },
  {
   "cell_type": "code",
   "execution_count": null,
   "metadata": {},
   "outputs": [],
   "source": [
    "root.getchildren()"
   ]
  },
  {
   "cell_type": "markdown",
   "metadata": {},
   "source": [
    "`getchildren()` will always yield the elements subordinate to the parent element in a hierarchy. If we look at the XML string above, we can get the children of a `book` elements as well:"
   ]
  },
  {
   "cell_type": "code",
   "execution_count": null,
   "metadata": {},
   "outputs": [],
   "source": [
    "first_book = root.getchildren()[0]\n",
    "first_book.getchildren()"
   ]
  },
  {
   "cell_type": "markdown",
   "metadata": {},
   "source": [
    "We can also use the `find` to quickly find an element. We'll use a for-loop to print the author for each book, which we get with the `find` method for each of the elements in the children above, and we get the text with the `text` property:"
   ]
  },
  {
   "cell_type": "code",
   "execution_count": null,
   "metadata": {},
   "outputs": [],
   "source": [
    "# More on for-loops in Week 2\n",
    "for book in root:\n",
    "    print(book.find('author').text)"
   ]
  },
  {
   "cell_type": "markdown",
   "metadata": {},
   "source": [
    "Remember that in XML you can have elements which are usually between the two `< >` signs and can be found using the `find` or `getchildren` methods. To get the actual information, or text, from that element you can use the `.text` property."
   ]
  },
  {
   "cell_type": "markdown",
   "metadata": {},
   "source": [
    "Find an .xml dataset on the web and import it into your Jupyter Notebook:"
   ]
  },
  {
   "cell_type": "code",
   "execution_count": null,
   "metadata": {},
   "outputs": [],
   "source": [
    "## YOUR CODE HERE"
   ]
  },
  {
   "cell_type": "markdown",
   "metadata": {},
   "source": [
    "## Challenge 13: XML Wikipedia data\n",
    "\n",
    "Let's work with a real-world dataset. We're going to work with the revision history of a Wikipedia page. You can get this through Wikipedia's [API](https://www.mediawiki.org/wiki/API:Revisions) or [download](https://en.wikipedia.org/wiki/Wikipedia:Database_download) data directly. We'll look at the API more in a later module, so we've downloaded a page of revisions and saved it to the XML file in `../data/WIKIPEDIA/feminism.xml`"
   ]
  },
  {
   "cell_type": "code",
   "execution_count": null,
   "metadata": {},
   "outputs": [],
   "source": [
    "!head feminism.xml"
   ]
  },
  {
   "cell_type": "markdown",
   "metadata": {},
   "source": [
    "We can start off by parsing it like we did above with our books:"
   ]
  },
  {
   "cell_type": "code",
   "execution_count": null,
   "metadata": {},
   "outputs": [],
   "source": [
    "import xml.etree.ElementTree as ET\n",
    "tree = ET.parse(\"feminism.xml\")\n",
    "root = tree.getroot()"
   ]
  },
  {
   "cell_type": "markdown",
   "metadata": {},
   "source": [
    "At this point, you can either look in the XML in a text editor, or start the process of looking through the tree manually to find the actual metadata of each revision. You'll have to do this when we work with JSON in a later challange, so don't be afraid if none of this makes sense at this point!"
   ]
  },
  {
   "cell_type": "code",
   "execution_count": null,
   "metadata": {},
   "outputs": [],
   "source": [
    "root.getchildren()"
   ]
  },
  {
   "cell_type": "code",
   "execution_count": null,
   "metadata": {},
   "outputs": [],
   "source": [
    "root.find('query').getchildren()"
   ]
  },
  {
   "cell_type": "code",
   "execution_count": null,
   "metadata": {},
   "outputs": [],
   "source": [
    "root.find('query/pages').getchildren()"
   ]
  },
  {
   "cell_type": "code",
   "execution_count": null,
   "metadata": {},
   "outputs": [],
   "source": [
    "root.find('query/pages/page').getchildren()"
   ]
  },
  {
   "cell_type": "code",
   "execution_count": null,
   "metadata": {},
   "outputs": [],
   "source": [
    "root.find('query/pages/page/revisions').getchildren()"
   ]
  },
  {
   "cell_type": "markdown",
   "metadata": {},
   "source": [
    "Found it! Those are the revision items we want. Let's assign that list to a variable:"
   ]
  },
  {
   "cell_type": "code",
   "execution_count": null,
   "metadata": {},
   "outputs": [],
   "source": [
    "revisions = root.find('query/pages/page/revisions')"
   ]
  },
  {
   "cell_type": "markdown",
   "metadata": {},
   "source": [
    "Now we can loop through and ask for some of the specific metadata about each revision, the `timestamp` for example:"
   ]
  },
  {
   "cell_type": "code",
   "execution_count": null,
   "metadata": {},
   "outputs": [],
   "source": [
    "for rev in revisions.getchildren():\n",
    "    print(rev.get('timestamp'))"
   ]
  },
  {
   "cell_type": "markdown",
   "metadata": {},
   "source": [
    "## Challenge 14: JSON\n",
    "\n",
    "As a Pythonista, after dealing with XML you'll be happy to see [JSON](https://en.wikipedia.org/wiki/JSON). JavaScript Object Notation (JSON) is preferred because it looks exactly like a Python `dictionary`. The `json` library takes care of the few differences between the two so that we don't have to ourselves. Let's take a look at the same data about the books in our library from the XML notebook in JSON format:"
   ]
  },
  {
   "cell_type": "code",
   "execution_count": null,
   "metadata": {},
   "outputs": [],
   "source": [
    "!cat example.json"
   ]
  },
  {
   "cell_type": "markdown",
   "metadata": {},
   "source": [
    "Looks much nicer than XML and its many tags! In Python, it looks like a `dictionary` with a key of `my_library` and a value of a `list` of `dictionary` objects. Each of these `dictionary` objects in the list contains the metadata. We can use the `json` library to make it exactly that!"
   ]
  },
  {
   "cell_type": "code",
   "execution_count": null,
   "metadata": {},
   "outputs": [],
   "source": [
    "import json\n",
    "\n",
    "my_library = json.load(open(\"example.json\"))\n",
    "my_library"
   ]
  },
  {
   "cell_type": "code",
   "execution_count": null,
   "metadata": {},
   "outputs": [],
   "source": [
    "print(type(my_library))"
   ]
  },
  {
   "cell_type": "markdown",
   "metadata": {},
   "source": [
    "Index `my_library` to return only the year \"The Hobbit\" was published."
   ]
  },
  {
   "cell_type": "code",
   "execution_count": null,
   "metadata": {
    "scrolled": true
   },
   "outputs": [],
   "source": [
    "## YOUR CODE HERE"
   ]
  },
  {
   "cell_type": "markdown",
   "metadata": {},
   "source": [
    "You will visualize some XML and JSON data next week!"
   ]
  },
  {
   "cell_type": "markdown",
   "metadata": {},
   "source": [
    "## Challenge 15: JSON Wikipedia Data\n",
    "\n",
    "Let's go back to that revision history data. Wikipedia actually prefers that you get the data in JSON format, so we've downloaded some more data for you in JSON, it's located at `../data/WIKIPEDIA/feminism.json`:"
   ]
  },
  {
   "cell_type": "code",
   "execution_count": null,
   "metadata": {
    "scrolled": true
   },
   "outputs": [],
   "source": [
    "feminism_json = json.load(open(\"feminism.json\"))\n",
    "feminism_json[0]"
   ]
  },
  {
   "cell_type": "code",
   "execution_count": null,
   "metadata": {},
   "outputs": [],
   "source": [
    "feminism_json[0].keys()"
   ]
  },
  {
   "cell_type": "code",
   "execution_count": null,
   "metadata": {},
   "outputs": [],
   "source": [
    "feminism_json[0]['timestamp']"
   ]
  },
  {
   "cell_type": "markdown",
   "metadata": {},
   "source": [
    "Find another JSON dataset on the Internet and load it into your Jupyter Notebook:"
   ]
  },
  {
   "cell_type": "code",
   "execution_count": null,
   "metadata": {},
   "outputs": [],
   "source": [
    "## YOUR CODE HERE"
   ]
  }
 ],
 "metadata": {
  "kernelspec": {
   "display_name": "Python 3",
   "language": "python",
   "name": "python3"
  },
  "language_info": {
   "codemirror_mode": {
    "name": "ipython",
    "version": 3
   },
   "file_extension": ".py",
   "mimetype": "text/x-python",
   "name": "python",
   "nbconvert_exporter": "python",
   "pygments_lexer": "ipython3",
   "version": "3.7.6"
  }
 },
 "nbformat": 4,
 "nbformat_minor": 2
}
