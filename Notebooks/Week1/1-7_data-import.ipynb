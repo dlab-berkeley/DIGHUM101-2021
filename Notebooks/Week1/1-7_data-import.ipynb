{
 "cells": [
  {
   "cell_type": "markdown",
   "metadata": {},
   "source": [
    "# Learning objectives\n",
    "\n",
    "1. Begin to understand the working directory\n",
    "2. Import .txt and .csv files"
   ]
  },
  {
   "cell_type": "markdown",
   "metadata": {},
   "source": [
    "# Importing data from files\n",
    "\n",
    "No set of basic skills is complete without learning how to import data from files. Remember to restart your kernel if your file paths get messed up!\n",
    "\n",
    "### Getting your bearings\n",
    "\n",
    "First, import pandas to simplify .csv imports (importing .txt files is already built-in to Python). Then, use `!pwd` to check the location of your \"working directory\" (the folder on your computer that Python is connected to). "
   ]
  },
  {
   "cell_type": "code",
   "execution_count": null,
   "metadata": {},
   "outputs": [],
   "source": [
    "import pandas as pd"
   ]
  },
  {
   "cell_type": "code",
   "execution_count": null,
   "metadata": {
    "scrolled": true
   },
   "outputs": [],
   "source": [
    "# \"print\" working directory\n",
    "!pwd"
   ]
  },
  {
   "cell_type": "markdown",
   "metadata": {},
   "source": [
    "We actually want the \"Data/\" folder inside of the main \"DIGHUM101-2020\" directory, so we can change this working directory path with the [\"os\" module](https://docs.python.org/3/library/os.html) to interact with your computer's operating system. "
   ]
  },
  {
   "cell_type": "code",
   "execution_count": null,
   "metadata": {},
   "outputs": [],
   "source": [
    "# Import the os module\n",
    "import os\n",
    "\n",
    "# Another way to check the cwd (\"current\" working directory) using the os module\n",
    "os.getcwd()"
   ]
  },
  {
   "cell_type": "markdown",
   "metadata": {},
   "source": [
    "![path](../../Img/path.png)"
   ]
  },
  {
   "cell_type": "markdown",
   "metadata": {},
   "source": [
    "Argh! Our default working directory is wherever we launched the notebook - in our case the \"Week1\" folder. We want to access the \"Data\" folder, which is two levels \"up\", inside of the main \"DIGHUM101-2020\" directory. \n",
    "\n",
    "We can edit the path Now we can change the file path to the correct directory. \n",
    "\n",
    "- We could type `os.chdir(\"../\")` to go up one level into the \"Notebooks\" directory.  \n",
    "- Or, we could type `os.chdir(\"../../\")` to go up **two** levels into the \"DIGHUM101-2020\" directory\n",
    "- Or, we could move into the \"Data\" directory in one line by typing `os.chdir(\"../../Data\")`\n",
    "\n",
    "> NOTE: You will more about navigating file paths in week 4."
   ]
  },
  {
   "cell_type": "code",
   "execution_count": null,
   "metadata": {},
   "outputs": [],
   "source": [
    "# We include two ../ because we want to go two levels up in the file structure\n",
    "os.chdir(\"../../Data\")"
   ]
  },
  {
   "cell_type": "code",
   "execution_count": null,
   "metadata": {},
   "outputs": [],
   "source": [
    "%pwd"
   ]
  },
  {
   "cell_type": "code",
   "execution_count": null,
   "metadata": {},
   "outputs": [],
   "source": [
    "os.getcwd()"
   ]
  },
  {
   "cell_type": "markdown",
   "metadata": {},
   "source": [
    "Now we can use `ls` to list the files in that directory"
   ]
  },
  {
   "cell_type": "code",
   "execution_count": null,
   "metadata": {},
   "outputs": [],
   "source": [
    "!ls"
   ]
  },
  {
   "cell_type": "markdown",
   "metadata": {},
   "source": [
    "# Import .txt file\n",
    "\n",
    "Now that Python is looking in the correct location, we can pass in a single argument to the `open()` function - the name of the file! The `.read()` method from open states that the end of the file has been identified. "
   ]
  },
  {
   "cell_type": "code",
   "execution_count": null,
   "metadata": {},
   "outputs": [],
   "source": [
    "frank = open(\"frankenstein.txt\")"
   ]
  },
  {
   "cell_type": "code",
   "execution_count": null,
   "metadata": {},
   "outputs": [],
   "source": [
    "frank = open(\"frankenstein.txt\").read()\n",
    "\n",
    "# If your characters don't look quite right, try adding the argument encoding = \"utf-8\")\n",
    "# frank = open(\"frankenstein.txt\", encoding = \"utf-8\").read()\n",
    "print(frank)"
   ]
  },
  {
   "cell_type": "code",
   "execution_count": null,
   "metadata": {},
   "outputs": [],
   "source": [
    "# What class is frankenstein? \n",
    "type(frank)"
   ]
  },
  {
   "cell_type": "code",
   "execution_count": null,
   "metadata": {},
   "outputs": [],
   "source": [
    "# How many times does the word \"London\" appear in frankenstein.txt?\n",
    "frank.count(\"London\")"
   ]
  },
  {
   "cell_type": "markdown",
   "metadata": {},
   "source": [
    "# Import a .csv file\n",
    "\n",
    "Comma separated values files are common because they are relatively small and look good in spreadsheet software. A comma separated values file is just a text file that contains data but that has commas (or other separators) to designate column breaks.\n",
    "\n",
    "> NOTE: You will learn more about Pandas DataFrames in Week 2!\n",
    "\n",
    "### Gapminder dataset\n",
    "\n",
    "What is the [gapminder-FiveYearData](https://en.wikipedia.org/wiki/Gapminder_Foundation) dataset about?"
   ]
  },
  {
   "cell_type": "code",
   "execution_count": null,
   "metadata": {},
   "outputs": [],
   "source": [
    "gap = pd.read_csv(\"gapminder-FiveYearData.csv\")\n",
    "gap.head()"
   ]
  },
  {
   "cell_type": "markdown",
   "metadata": {},
   "source": [
    "### Music reviews dataset\n",
    "\n",
    "What about the music reviews dataset?\n",
    "\n",
    "This dataset is separated by tab breaks instead of commas. However, tab separated files can be stored in a .csv file just the same - we just need to add the `\"\\t\"` argument to the `sep = ` parameter."
   ]
  },
  {
   "cell_type": "code",
   "execution_count": null,
   "metadata": {
    "scrolled": true
   },
   "outputs": [],
   "source": [
    "music = pd.read_csv(\"music_reviews.csv\", sep = \"\\t\")\n",
    "music.head()"
   ]
  },
  {
   "cell_type": "markdown",
   "metadata": {},
   "source": [
    "Save your changes and open \"1-8_errors-help.ipynb\" to learn about error messages and finding help."
   ]
  }
 ],
 "metadata": {
  "kernelspec": {
   "display_name": "Python 3",
   "language": "python",
   "name": "python3"
  },
  "language_info": {
   "codemirror_mode": {
    "name": "ipython",
    "version": 3
   },
   "file_extension": ".py",
   "mimetype": "text/x-python",
   "name": "python",
   "nbconvert_exporter": "python",
   "pygments_lexer": "ipython3",
   "version": "3.7.6"
  }
 },
 "nbformat": 4,
 "nbformat_minor": 4
}
