{
 "cells": [
  {
   "cell_type": "markdown",
   "metadata": {},
   "source": [
    "# Learning objectives\n",
    "\n",
    "1. Navigate Jupyter Notebooks\n",
    "2. Understand code and markdown cells"
   ]
  },
  {
   "cell_type": "markdown",
   "metadata": {},
   "source": [
    "# Python and Jupyter Notebooks\n",
    "\n",
    "The most common way to run Python is in a Jupyter Notebook. Here, we can alternate between 1) code or 2) markdown cells. Code is the vehicle we use to make our ideas \"go\", via the \"kernel\" (the computational engine that runs the code). Markdown is the roadmap we use to organize our work and research narrative. This text is essential to introduce the reader/audience to the problem or topic being investigated, our research question/hypothesis, materials and methods, results, discussion, and conclusions. \n",
    "\n",
    "Jupyter Notebooks can be exported into vibrant and interactive slideshows and .html and .pdf files for presentation. \n",
    "\n",
    "[Click here to check out the Jupyter Notebooks beginner guide](https://jupyter-notebook.readthedocs.io/en/stable/examples/Notebook/What%20is%20the%20Jupyter%20Notebook.html)\n",
    "\n",
    "### Run a cell\n",
    "\n",
    "Press **Shift + enter** to render a cell of markdown or a cell of code and advance to the next cell.\n",
    "\n",
    "Press **control + enter** to run the cell but do not advance to the next cell."
   ]
  },
  {
   "cell_type": "markdown",
   "metadata": {},
   "source": [
    "# Useful keyboard shortcuts\n",
    "\n",
    "Double-click on a cell, then:\n",
    "\n",
    "esc = \"command mode\" <font color=\"blue\">(blue cell border);</font> remove your cursor from the cell (or, click in the left margin)  \n",
    "enter = \"edit mode\" <font color=\"green\">(green cell border);</font> put your cursor back into the cell (or, click inside the cell)\n",
    "\n",
    "**Do the below shortcuts work in command or edit mode?**\n",
    "\n",
    "a = Add cell above  \n",
    "b = Add cell below  \n",
    "dd = delete cell (also click Edit --> Undo Delete Cells if needed)\n",
    "\n",
    "m = Convert cell to Markdown  \n",
    "y = Convert cell to Code  \n",
    "\n",
    "l = turn on line numbers for current cell  \n",
    "Shift + l = turn on line numbers for all cells  \n",
    "control + Shift + minus = split cell\n",
    "\n",
    "Shift + m = merge highlighted cells\n",
    "\n",
    "h = View more shortcuts"
   ]
  },
  {
   "cell_type": "markdown",
   "metadata": {},
   "source": [
    "# Markdown versus Code\n",
    "\n",
    "Jupyter Notebooks are a high-level part of a [computational environment](http://ceur-ws.org/Vol-2043/paper-03.pdf). Double-click a cell to edit it, then remember to press **Shift + Enter** to render it. New cells are Code cells by default. In addition to the y and m command-mode shortcuts, you can select between Markdown and Code from the dropdown menu at the top of your notebook. \n",
    "\n",
    "### Markdown cells\n",
    "\n",
    "This cell is [Markdown](https://www.markdownguide.org/getting-started/). It allows you to create the narrative around your work in addition to adding: \n",
    "\n",
    "- lists\n",
    "- hyperlinks\n",
    "- images\n",
    "- widgets\n",
    "- .html code \n",
    "- etc."
   ]
  },
  {
   "cell_type": "markdown",
   "metadata": {},
   "source": [
    "# Markdown\n",
    "\n",
    "While you will use code to import and manipulate data and files, you will use markdown to build the discussion around your code cells. \n",
    "\n",
    "[View the markdown cheatsheet](https://github.com/adam-p/markdown-here/wiki/Markdown-Cheatsheet) to see more tips for using markdown.  "
   ]
  },
  {
   "cell_type": "markdown",
   "metadata": {},
   "source": [
    "****\n",
    "Four asterisks will produce a line seperator. \n",
    "****\n",
    "\n",
    "*   Use asterisks\n",
    "*   to create\n",
    "*   bullet lists.\n",
    "\n",
    "but\n",
    "\n",
    "1.  Use numbers\n",
    "2.  to create\n",
    "3.  numbered lists.\n",
    "\n",
    "Use backticks to highlight code like `TfidfVectorizer()`\n",
    "\n",
    "# A Level-1 Heading\n",
    "## B Level-2 Heading\n",
    "### C Level-3 Heading (etc)\n",
    "#### Puppy\n",
    "\n",
    "Line breaks\n",
    "don't matter.\n",
    "\n",
    "But blank lines\n",
    "\n",
    "create new paragraphs.\n",
    "\n",
    "[Create hyperlinks](https://www.berkeley.edu/) with `[hyperlinked text](URL)`.\n",
    "\n",
    "[Click here](https://www.google.com/search?q=puppies&source=lnms&tbm=isch&sa=X&ved=0ahUKEwi_lcTu0rziAhWBlp4KHf-yCN4Q_AUIDigB&biw=1440&bih=717) for puppies! \n",
    "\n",
    "****"
   ]
  },
  {
   "cell_type": "markdown",
   "metadata": {},
   "source": [
    "# Images\n",
    "\n",
    "Insert images by typing:\n",
    "\n",
    "`![title](images/picture.png)`\n",
    "\n",
    "This is a photo of Jedi Tito, here to bring balance to the force:"
   ]
  },
  {
   "cell_type": "markdown",
   "metadata": {},
   "source": [
    "![Tito](../../Img/jedi.png)"
   ]
  },
  {
   "cell_type": "markdown",
   "metadata": {},
   "source": [
    "> Is this the same way images were inserted in notebook 1-1_setup? What is different, what type of code was found in the previous notebook compared to here?"
   ]
  },
  {
   "cell_type": "markdown",
   "metadata": {},
   "source": [
    "Save any changes you made and open notebook \"1-3_JN-code.ipynb\" to learn about code."
   ]
  }
 ],
 "metadata": {
  "kernelspec": {
   "display_name": "Python 3",
   "language": "python",
   "name": "python3"
  },
  "language_info": {
   "codemirror_mode": {
    "name": "ipython",
    "version": 3
   },
   "file_extension": ".py",
   "mimetype": "text/x-python",
   "name": "python",
   "nbconvert_exporter": "python",
   "pygments_lexer": "ipython3",
   "version": "3.7.0"
  }
 },
 "nbformat": 4,
 "nbformat_minor": 2
}
