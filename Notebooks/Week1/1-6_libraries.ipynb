{
 "cells": [
  {
   "cell_type": "markdown",
   "metadata": {},
   "source": [
    "# Learning objectives\n",
    "\n",
    "1. Learn to install and import user-defined software libraries\n",
    "2. Understand aliases"
   ]
  },
  {
   "cell_type": "markdown",
   "metadata": {},
   "source": [
    "# Libraries\n",
    "\n",
    "[Your \"base\" Python installation comes with a lot of built-in standard libraries and functions](https://docs.python.org/2/library/). However, you might not want to reinvent the wheel everytime you do some specific analysis. [Libraries](https://www.quora.com/What-is-a-Python-library-and-what-can-I-use-it-for) are additional pieces of software we can install to make our coding more efficient, easier to read, and easier to reproduce. \n",
    "\n",
    "Think of a library as containing a bunch of shortcuts for you to use! \n",
    "\n",
    "### Installing Python libraries is a two-step process\n",
    "\n",
    "**Step 1:** Uncomment and run each of the lines below to install the libraries. This  downloads the files from [PyPi](https://pypi.org/) and installs them on your computer. Note: you only have to do this once."
   ]
  },
  {
   "cell_type": "code",
   "execution_count": null,
   "metadata": {},
   "outputs": [],
   "source": [
    "# !pip install numpy"
   ]
  },
  {
   "cell_type": "code",
   "execution_count": null,
   "metadata": {
    "scrolled": true
   },
   "outputs": [],
   "source": [
    "# !pip install pandas"
   ]
  },
  {
   "cell_type": "code",
   "execution_count": null,
   "metadata": {},
   "outputs": [],
   "source": [
    "# !pip install matplotlib"
   ]
  },
  {
   "cell_type": "markdown",
   "metadata": {},
   "source": [
    "**Step 2:** Although you have installed these libraries, your current Jupyter Notebook session does not know they are there. Use the `import` function to import them into your current session. "
   ]
  },
  {
   "cell_type": "code",
   "execution_count": null,
   "metadata": {},
   "outputs": [],
   "source": [
    "# Import numpy (https://en.wikipedia.org/wiki/NumPy)\n",
    "import numpy as np"
   ]
  },
  {
   "cell_type": "code",
   "execution_count": null,
   "metadata": {},
   "outputs": [],
   "source": [
    "# Import pandas (https://en.wikipedia.org/wiki/Pandas_(software))\n",
    "import pandas as pd"
   ]
  },
  {
   "cell_type": "code",
   "execution_count": null,
   "metadata": {},
   "outputs": [],
   "source": [
    "# Import matplotlib (https://en.wikipedia.org/wiki/Matplotlib)\n",
    "# import matplotlib\n",
    "\n",
    "# Graphics should appear \"inline\" (within the Jupyter Notebook instead of somewhere else)\n",
    "%matplotlib inline\n",
    "\n",
    "# Import the pyplot \"submodule\" for fast plotting\n",
    "# (https://www.quora.com/What-is-the-difference-between-Python-modules-packages-libraries-and-frameworks)\n",
    "import matplotlib.pyplot as plt\n",
    "\n",
    "# Indicate the template to use for the plot. Type plt.style.available to experiment with different styles\n",
    "plt.style.use('seaborn-bright')\n",
    "\n",
    "# plt.style.available"
   ]
  },
  {
   "cell_type": "markdown",
   "metadata": {},
   "source": [
    "# Aliases\n",
    "\n",
    "Remember how strings, lists, dictionaries, etc. have methods (type-specific functions) that apply only to that type or structure? \n",
    "\n",
    "A library can be abbreviated via an \"alias\" - a shorthand way to call that library, then our \"dot notation\" works as well! To see all your matplotlib plotting options, type `plt.` and press the TAB key, just like for strings, lists, and dictionaries!"
   ]
  },
  {
   "cell_type": "code",
   "execution_count": null,
   "metadata": {},
   "outputs": [],
   "source": [
    "plt."
   ]
  },
  {
   "cell_type": "code",
   "execution_count": null,
   "metadata": {},
   "outputs": [],
   "source": [
    "# Make a histogram with the .hist() method!\n",
    "plt.hist([1,2,2,3,3,3,4,4,4,4]);"
   ]
  },
  {
   "cell_type": "code",
   "execution_count": null,
   "metadata": {},
   "outputs": [],
   "source": [
    "# Randomly generate 7 x and 7 y values\n",
    "x = [1, 2, 3, 4, 5, 6, 44]\n",
    "y = [3, 2, 3, 1, 3, 2, 46]\n",
    "\n",
    "# Make a scatterplot with the .scatter() method! \n",
    "plt.scatter(x, y, color = \"hotpink\");"
   ]
  },
  {
   "cell_type": "markdown",
   "metadata": {},
   "source": [
    "Save your changes and open \"1-7_data-import.ipynb\" to learn about importing data from files"
   ]
  }
 ],
 "metadata": {
  "kernelspec": {
   "display_name": "Python 3",
   "language": "python",
   "name": "python3"
  },
  "language_info": {
   "codemirror_mode": {
    "name": "ipython",
    "version": 3
   },
   "file_extension": ".py",
   "mimetype": "text/x-python",
   "name": "python",
   "nbconvert_exporter": "python",
   "pygments_lexer": "ipython3",
   "version": "3.7.6"
  }
 },
 "nbformat": 4,
 "nbformat_minor": 4
}
