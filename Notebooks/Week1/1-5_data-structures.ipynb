{
 "cells": [
  {
   "cell_type": "markdown",
   "metadata": {},
   "source": [
    "# Learning objectives\n",
    "\n",
    "1. Introduce list and dictionary data structures\n",
    "2. Manipulate list and dictionary elements\n",
    "3. Learn basic list and dictionary methods"
   ]
  },
  {
   "cell_type": "markdown",
   "metadata": {},
   "source": [
    "# Data Structures\n",
    "\n",
    "Now that you have learned about variable assignment and a few data types and how to convert them, know that you can store more than one piece of data inside a single variable. \n",
    "\n",
    "Some common structures to store data include lists, arrays, series, tuples, data frames, and dictionaries. Let's just focus on lists and dictionaries for now. "
   ]
  },
  {
   "cell_type": "markdown",
   "metadata": {},
   "source": [
    "# List\n",
    "\n",
    "A list is a [mutable,](https://medium.com/@meghamohan/mutable-and-immutable-side-of-python-c2145cf72747) ordered, indexable collection of data. Each value is contained within square brackets and separated by a comma. Imagine you are researching literature, you can store your book names in a **list of strings**. \n",
    "\n",
    "`len()` will tell you how many books are in your library, while you can use an item's index `[]` to fetch if from a list: "
   ]
  },
  {
   "cell_type": "code",
   "execution_count": 1,
   "metadata": {},
   "outputs": [
    {
     "data": {
      "text/plain": [
       "['Catch-22',\n",
       " 'The Brothers Karamazov',\n",
       " 'Little Women',\n",
       " 'Crime and Punishment',\n",
       " 'The Alchemist',\n",
       " 'Rashomon',\n",
       " 'Catch-22',\n",
       " 'Pride and Prejudice']"
      ]
     },
     "execution_count": 1,
     "metadata": {},
     "output_type": "execute_result"
    }
   ],
   "source": [
    "library = [\"Catch-22\", \"The Brothers Karamazov\", \"Little Women\", \"Crime and Punishment\", \n",
    "           \"The Alchemist\", \"Rashomon\", \"Catch-22\", \"Pride and Prejudice\"]\n",
    "library"
   ]
  },
  {
   "cell_type": "code",
   "execution_count": 3,
   "metadata": {},
   "outputs": [
    {
     "data": {
      "text/plain": [
       "list"
      ]
     },
     "execution_count": 3,
     "metadata": {},
     "output_type": "execute_result"
    }
   ],
   "source": [
    "# What is the the type of the library variable?\n",
    "type(library)"
   ]
  },
  {
   "cell_type": "code",
   "execution_count": 4,
   "metadata": {},
   "outputs": [
    {
     "data": {
      "text/plain": [
       "8"
      ]
     },
     "execution_count": 4,
     "metadata": {},
     "output_type": "execute_result"
    }
   ],
   "source": [
    "# How many books are in library?\n",
    "len(library)"
   ]
  },
  {
   "cell_type": "markdown",
   "metadata": {},
   "source": [
    "# Index and slice a list\n",
    "\n",
    "We can also index and slice lists just like we did strings in the last notebook."
   ]
  },
  {
   "cell_type": "code",
   "execution_count": 5,
   "metadata": {},
   "outputs": [
    {
     "name": "stdout",
     "output_type": "stream",
     "text": [
      "The first book in library is: Catch-22\n",
      "The fourth book in library is: Crime and Punishment\n"
     ]
    }
   ],
   "source": [
    "print('The first book in library is:', library[0])\n",
    "print('The fourth book in library is:', library[3])"
   ]
  },
  {
   "cell_type": "code",
   "execution_count": 8,
   "metadata": {},
   "outputs": [
    {
     "data": {
      "text/plain": [
       "['Catch-22', 'The Brothers Karamazov']"
      ]
     },
     "execution_count": 8,
     "metadata": {},
     "output_type": "execute_result"
    }
   ],
   "source": [
    "# The first two books are:\n",
    "library[:2]"
   ]
  },
  {
   "cell_type": "code",
   "execution_count": 11,
   "metadata": {},
   "outputs": [
    {
     "data": {
      "text/plain": [
       "['Rashomon', 'Catch-22', 'Pride and Prejudice']"
      ]
     },
     "execution_count": 11,
     "metadata": {},
     "output_type": "execute_result"
    }
   ],
   "source": [
    "# The last three books are:\n",
    "library[-3:]"
   ]
  },
  {
   "cell_type": "code",
   "execution_count": 12,
   "metadata": {},
   "outputs": [
    {
     "data": {
      "text/plain": [
       "['Crime and Punishment', 'The Alchemist']"
      ]
     },
     "execution_count": 12,
     "metadata": {},
     "output_type": "execute_result"
    }
   ],
   "source": [
    "# The fourth and fifth books are:\n",
    "library[3:5]"
   ]
  },
  {
   "cell_type": "markdown",
   "metadata": {},
   "source": [
    "# Overwriting list elements\n",
    "\n",
    "We can overwrite individual elements in a list using variable assignment. Note that lists can contain values of different types!"
   ]
  },
  {
   "cell_type": "code",
   "execution_count": 15,
   "metadata": {},
   "outputs": [
    {
     "data": {
      "text/plain": [
       "['Catch-22',\n",
       " 'Things Fall Apart',\n",
       " 7,\n",
       " True,\n",
       " 'The Alchemist',\n",
       " 'Rashomon',\n",
       " 'Catch-22',\n",
       " 'Pride and Prejudice']"
      ]
     },
     "execution_count": 15,
     "metadata": {},
     "output_type": "execute_result"
    }
   ],
   "source": [
    "# Where did The Brothers Karamazov go?\n",
    "library[1] = \"Things Fall Apart\"\n",
    "library"
   ]
  },
  {
   "cell_type": "code",
   "execution_count": 16,
   "metadata": {},
   "outputs": [
    {
     "data": {
      "text/plain": [
       "['Catch-22',\n",
       " 'Things Fall Apart',\n",
       " 7,\n",
       " True,\n",
       " 'The Alchemist',\n",
       " 'Rashomon',\n",
       " 'Catch-22',\n",
       " 'Pride and Prejudice']"
      ]
     },
     "execution_count": 16,
     "metadata": {},
     "output_type": "execute_result"
    }
   ],
   "source": [
    "# What is going on in this assignment??\n",
    "library[2], library[3] = [7, True]\n",
    "library"
   ]
  },
  {
   "cell_type": "markdown",
   "metadata": {},
   "source": [
    "### Lists have methods\n",
    "\n",
    "Just like strings (or mostly anything else in Python), data structures have methods as well - specific functions that only apply to lists! Type the name of your list followed by a period, then press your **Tab** key - a list of methods you can call should appear:"
   ]
  },
  {
   "cell_type": "code",
   "execution_count": null,
   "metadata": {},
   "outputs": [],
   "source": [
    "library."
   ]
  },
  {
   "cell_type": "code",
   "execution_count": 17,
   "metadata": {},
   "outputs": [
    {
     "data": {
      "text/plain": [
       "2"
      ]
     },
     "execution_count": 17,
     "metadata": {},
     "output_type": "execute_result"
    }
   ],
   "source": [
    "# How many times does Catch-22 appear in library?\n",
    "library.count(\"Catch-22\")"
   ]
  },
  {
   "cell_type": "markdown",
   "metadata": {},
   "source": [
    "# `.split()` method\n",
    "\n",
    "What does the .split() method do?\n",
    "\n",
    "What data type does it work on?\n",
    "\n",
    "What data structure is produced?"
   ]
  },
  {
   "cell_type": "code",
   "execution_count": 18,
   "metadata": {},
   "outputs": [
    {
     "data": {
      "text/plain": [
       "['Go', 'Tell', 'It', 'on', 'the', 'Mountain']"
      ]
     },
     "execution_count": 18,
     "metadata": {},
     "output_type": "execute_result"
    }
   ],
   "source": [
    "book = \"Go Tell It on the Mountain\"\n",
    "book.split()"
   ]
  },
  {
   "cell_type": "markdown",
   "metadata": {},
   "source": [
    "You will learn more about getting help in notebook 1-8_errors-help.ipynb, but for now get help by typing: "
   ]
  },
  {
   "cell_type": "code",
   "execution_count": 19,
   "metadata": {},
   "outputs": [
    {
     "data": {
      "text/plain": [
       "\u001b[0;31mSignature:\u001b[0m \u001b[0mbook\u001b[0m\u001b[0;34m.\u001b[0m\u001b[0msplit\u001b[0m\u001b[0;34m(\u001b[0m\u001b[0msep\u001b[0m\u001b[0;34m=\u001b[0m\u001b[0;32mNone\u001b[0m\u001b[0;34m,\u001b[0m \u001b[0mmaxsplit\u001b[0m\u001b[0;34m=\u001b[0m\u001b[0;34m-\u001b[0m\u001b[0;36m1\u001b[0m\u001b[0;34m)\u001b[0m\u001b[0;34m\u001b[0m\u001b[0;34m\u001b[0m\u001b[0m\n",
       "\u001b[0;31mDocstring:\u001b[0m\n",
       "Return a list of the words in the string, using sep as the delimiter string.\n",
       "\n",
       "sep\n",
       "  The delimiter according which to split the string.\n",
       "  None (the default value) means split according to any whitespace,\n",
       "  and discard empty strings from the result.\n",
       "maxsplit\n",
       "  Maximum number of splits to do.\n",
       "  -1 (the default value) means no limit.\n",
       "\u001b[0;31mType:\u001b[0m      builtin_function_or_method\n"
      ]
     },
     "metadata": {},
     "output_type": "display_data"
    }
   ],
   "source": [
    "str.split?\n",
    "\n",
    "# or\n",
    "\n",
    "book.split?"
   ]
  },
  {
   "cell_type": "markdown",
   "metadata": {},
   "source": [
    "# Deleting list elements and variables\n",
    "\n",
    "**Deleting** elements of a list or an entire list can be done using `del`"
   ]
  },
  {
   "cell_type": "code",
   "execution_count": 20,
   "metadata": {},
   "outputs": [
    {
     "name": "stdout",
     "output_type": "stream",
     "text": [
      "['Catch-22', 'Things Fall Apart', 7, True, 'The Alchemist', 'Rashomon', 'Catch-22', 'Pride and Prejudice']\n",
      "['Catch-22', 'Things Fall Apart', True, 'The Alchemist', 'Rashomon', 'Catch-22', 'Pride and Prejudice']\n"
     ]
    }
   ],
   "source": [
    "# Delete just one item in a list - the element 7 is gone:\n",
    "print(library)\n",
    "del library[2]\n",
    "print(library)"
   ]
  },
  {
   "cell_type": "code",
   "execution_count": 21,
   "metadata": {},
   "outputs": [
    {
     "ename": "NameError",
     "evalue": "name 'library' is not defined",
     "output_type": "error",
     "traceback": [
      "\u001b[0;31m---------------------------------------------------------------------------\u001b[0m",
      "\u001b[0;31mNameError\u001b[0m                                 Traceback (most recent call last)",
      "\u001b[0;32m<ipython-input-21-2cffdcdc7983>\u001b[0m in \u001b[0;36m<module>\u001b[0;34m\u001b[0m\n\u001b[1;32m      3\u001b[0m \u001b[0;34m\u001b[0m\u001b[0m\n\u001b[1;32m      4\u001b[0m \u001b[0;31m# What happens when you try to print the library variable after deleting it?\u001b[0m\u001b[0;34m\u001b[0m\u001b[0;34m\u001b[0m\u001b[0;34m\u001b[0m\u001b[0m\n\u001b[0;32m----> 5\u001b[0;31m \u001b[0mprint\u001b[0m\u001b[0;34m(\u001b[0m\u001b[0mlibrary\u001b[0m\u001b[0;34m)\u001b[0m\u001b[0;34m\u001b[0m\u001b[0;34m\u001b[0m\u001b[0m\n\u001b[0m",
      "\u001b[0;31mNameError\u001b[0m: name 'library' is not defined"
     ]
    }
   ],
   "source": [
    "# Delete the entire list\n",
    "del library\n",
    "\n",
    "# What happens when you try to print the library variable after deleting it? \n",
    "print(library)"
   ]
  },
  {
   "cell_type": "markdown",
   "metadata": {},
   "source": [
    "> You will learn more about error messages in notebook 1-8_errors-help.ipynb"
   ]
  },
  {
   "cell_type": "markdown",
   "metadata": {},
   "source": [
    "You can even create lists of lists!"
   ]
  },
  {
   "cell_type": "code",
   "execution_count": 23,
   "metadata": {},
   "outputs": [
    {
     "data": {
      "text/plain": [
       "[[6, 3, 5], ['mountain', 'forest', 'ocean'], [5.0, 4.25, 12.823], True, False]"
      ]
     },
     "execution_count": 23,
     "metadata": {},
     "output_type": "execute_result"
    }
   ],
   "source": [
    "list_of_lists = [[6, 3, 5], [\"mountain\", \"forest\", \"ocean\"], \n",
    "                 [5.0, 4.25, 12.823], True, False]\n",
    "\n",
    "list_of_lists"
   ]
  },
  {
   "cell_type": "code",
   "execution_count": 25,
   "metadata": {},
   "outputs": [
    {
     "data": {
      "text/plain": [
       "'ocean'"
      ]
     },
     "execution_count": 25,
     "metadata": {},
     "output_type": "execute_result"
    }
   ],
   "source": [
    "# Print the third thing in the second list\n",
    "list_of_lists[1][2]"
   ]
  },
  {
   "cell_type": "code",
   "execution_count": 26,
   "metadata": {},
   "outputs": [
    {
     "data": {
      "text/plain": [
       "4.25"
      ]
     },
     "execution_count": 26,
     "metadata": {},
     "output_type": "execute_result"
    }
   ],
   "source": [
    "# Print the second thing in the third list\n",
    "list_of_lists[2][1]"
   ]
  },
  {
   "cell_type": "markdown",
   "metadata": {},
   "source": [
    "# Dictionary\n",
    "\n",
    "A python dictionary is a collection of **key/value pairs - the key is the name of the data, the value is the data itself**. Dictionaries are very powerful because unlike other data strutures we have talked about they do not need to store data in order. By calling the key, you can always find its corresponding value. Keys must be unique and immutable; strings and integers are commonly used as keys. The values can be anything, including lists, and even other dictionaries.\n",
    "\n",
    "Each key/value pair is denoted by a colon `:` with the **key on the left side** and the **value on the right**. Each key/value pair within the dictionary is separate by a comma.\n",
    "\n",
    "> NOTE: we have seen round parentheses `()` for functions, square brackets `[]` for indexing/slicing, but now note the use of curly braces `{}` to define a dictionary. "
   ]
  },
  {
   "cell_type": "code",
   "execution_count": 28,
   "metadata": {},
   "outputs": [
    {
     "data": {
      "text/plain": [
       "dict"
      ]
     },
     "execution_count": 28,
     "metadata": {},
     "output_type": "execute_result"
    }
   ],
   "source": [
    "poets_dict = {\"name\": \"Forough Farrokhzad\", \n",
    "            \"year of birth\": 1935, \n",
    "            \"year of death\": 1967, \n",
    "            \"place of birth\": \"Iran\", \n",
    "            \"language\": \"Persian\"}\n",
    "type(poets_dict)"
   ]
  },
  {
   "cell_type": "code",
   "execution_count": 29,
   "metadata": {},
   "outputs": [
    {
     "data": {
      "text/plain": [
       "{'name': 'Forough Farrokhzad',\n",
       " 'year of birth': 1935,\n",
       " 'year of death': 1967,\n",
       " 'place of birth': 'Iran',\n",
       " 'language': 'Persian'}"
      ]
     },
     "execution_count": 29,
     "metadata": {},
     "output_type": "execute_result"
    }
   ],
   "source": [
    "# print(poets_dict)\n",
    "poets_dict"
   ]
  },
  {
   "cell_type": "code",
   "execution_count": 31,
   "metadata": {},
   "outputs": [
    {
     "data": {
      "text/plain": [
       "dict_keys(['name', 'year of birth', 'year of death', 'place of birth', 'language'])"
      ]
     },
     "execution_count": 31,
     "metadata": {},
     "output_type": "execute_result"
    }
   ],
   "source": [
    "# Print the keys with the .keys() method\n",
    "poets_dict.keys()"
   ]
  },
  {
   "cell_type": "code",
   "execution_count": 32,
   "metadata": {},
   "outputs": [
    {
     "data": {
      "text/plain": [
       "dict_values(['Forough Farrokhzad', 1935, 1967, 'Iran', 'Persian'])"
      ]
     },
     "execution_count": 32,
     "metadata": {},
     "output_type": "execute_result"
    }
   ],
   "source": [
    "# Print the values with the .values() method\n",
    "poets_dict.values()"
   ]
  },
  {
   "cell_type": "code",
   "execution_count": 33,
   "metadata": {},
   "outputs": [
    {
     "data": {
      "text/plain": [
       "'Persian'"
      ]
     },
     "execution_count": 33,
     "metadata": {},
     "output_type": "execute_result"
    }
   ],
   "source": [
    "# Call a particular key to see its value. \n",
    "# What language did Forough speak?\n",
    "poets_dict[\"language\"]"
   ]
  },
  {
   "cell_type": "markdown",
   "metadata": {},
   "source": [
    "# Overwriting dictionary elements\n",
    "\n",
    "Like lists, we can also overwrite values (whatever they might be) in place:"
   ]
  },
  {
   "cell_type": "code",
   "execution_count": 34,
   "metadata": {},
   "outputs": [
    {
     "data": {
      "text/plain": [
       "{'name': 'Forough Farrokhzad',\n",
       " 'year of birth': 1935,\n",
       " 'year of death': 1967,\n",
       " 'place of birth': 'Iran',\n",
       " 'language': 'Farsi'}"
      ]
     },
     "execution_count": 34,
     "metadata": {},
     "output_type": "execute_result"
    }
   ],
   "source": [
    "# Overwrite \"Persian\" with \"Farsi\"\n",
    "poets_dict[\"language\"] = \"Farsi\"\n",
    "poets_dict"
   ]
  },
  {
   "cell_type": "markdown",
   "metadata": {},
   "source": [
    "We can also add **new** key/value pairs:"
   ]
  },
  {
   "cell_type": "code",
   "execution_count": 35,
   "metadata": {},
   "outputs": [
    {
     "data": {
      "text/plain": [
       "{'name': 'Forough Farrokhzad',\n",
       " 'year of birth': 1935,\n",
       " 'year of death': 1967,\n",
       " 'place of birth': 'Iran',\n",
       " 'language': 'Farsi',\n",
       " 'gender': 'Female'}"
      ]
     },
     "execution_count": 35,
     "metadata": {},
     "output_type": "execute_result"
    }
   ],
   "source": [
    "poets_dict[\"gender\"] = \"Female\"\n",
    "poets_dict"
   ]
  },
  {
   "cell_type": "markdown",
   "metadata": {},
   "source": [
    "We can add lists as new values as well:"
   ]
  },
  {
   "cell_type": "code",
   "execution_count": 36,
   "metadata": {},
   "outputs": [
    {
     "data": {
      "text/plain": [
       "{'name': 'Forough Farrokhzad',\n",
       " 'year of birth': 1935,\n",
       " 'year of death': 1967,\n",
       " 'place of birth': 'Iran',\n",
       " 'language': 'Farsi',\n",
       " 'gender': 'Female',\n",
       " 'works': ['Remembrance of a Day',\n",
       "  'Unison',\n",
       "  'The Shower of Your Hair',\n",
       "  'Portrait of Forough']}"
      ]
     },
     "execution_count": 36,
     "metadata": {},
     "output_type": "execute_result"
    }
   ],
   "source": [
    "poets_dict[\"works\"] = ['Remembrance of a Day', 'Unison',\n",
    "                       'The Shower of Your Hair', 'Portrait of Forough']\n",
    "poets_dict"
   ]
  },
  {
   "cell_type": "markdown",
   "metadata": {},
   "source": [
    "Save your changes and open \"1-6_libraries.ipynb\" to learn about user-defined extensions for your base Python installation."
   ]
  }
 ],
 "metadata": {
  "kernelspec": {
   "display_name": "Python 3",
   "language": "python",
   "name": "python3"
  },
  "language_info": {
   "codemirror_mode": {
    "name": "ipython",
    "version": 3
   },
   "file_extension": ".py",
   "mimetype": "text/x-python",
   "name": "python",
   "nbconvert_exporter": "python",
   "pygments_lexer": "ipython3",
   "version": "3.7.6"
  }
 },
 "nbformat": 4,
 "nbformat_minor": 4
}
