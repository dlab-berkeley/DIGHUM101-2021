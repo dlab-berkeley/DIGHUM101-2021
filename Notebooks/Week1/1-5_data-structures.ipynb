{
 "cells": [
  {
   "cell_type": "markdown",
   "metadata": {},
   "source": [
    "# Learning objectives\n",
    "\n",
    "1. Introduce list and dictionary data structures\n",
    "2. Manipulate list and dictionary elements\n",
    "3. Learn basic list and dictionary methods"
   ]
  },
  {
   "cell_type": "markdown",
   "metadata": {},
   "source": [
    "# Data Structures\n",
    "\n",
    "Now that you have learned about variable assignment and a few data types and how to convert them, know that you can store more than one piece of data inside a single variable. \n",
    "\n",
    "Some common structures to store data include lists, arrays, series, tuples, data frames, and dictionaries. Let's just focus on lists and dictionaries for now. "
   ]
  },
  {
   "cell_type": "markdown",
   "metadata": {},
   "source": [
    "# List\n",
    "\n",
    "A list is a [mutable,](https://medium.com/@meghamohan/mutable-and-immutable-side-of-python-c2145cf72747) ordered, indexable collection of data. Each value is contained within square brackets and separated by a comma. Imagine you are researching literature, you can store your book names in a **list of strings**. \n",
    "\n",
    "`len()` will tell you how many books are in your library, while you can use an item's index `[]` to fetch if from a list: "
   ]
  },
  {
   "cell_type": "code",
   "execution_count": null,
   "metadata": {},
   "outputs": [],
   "source": [
    "library = [\"Catch-22\", \"The Brothers Karamazov\", \"Little Women\", \"Crime and Punishment\", \n",
    "           \"The Alchemist\", \"Rashomon\", \"Catch-22\", \"Pride and Prejudice\"]\n",
    "library"
   ]
  },
  {
   "cell_type": "code",
   "execution_count": null,
   "metadata": {},
   "outputs": [],
   "source": [
    "# What is the the type of the library variable?\n",
    "print(type(library))"
   ]
  },
  {
   "cell_type": "code",
   "execution_count": null,
   "metadata": {},
   "outputs": [],
   "source": [
    "# How many books are in library?\n",
    "print(len(library))"
   ]
  },
  {
   "cell_type": "markdown",
   "metadata": {},
   "source": [
    "# Index and slice a list\n",
    "\n",
    "We can also index and slice lists just like we did strings in the last notebook."
   ]
  },
  {
   "cell_type": "code",
   "execution_count": null,
   "metadata": {},
   "outputs": [],
   "source": [
    "print('The first book in library is:', library[0])\n",
    "print('The fourth book in library is:', library[3])"
   ]
  },
  {
   "cell_type": "code",
   "execution_count": null,
   "metadata": {},
   "outputs": [],
   "source": [
    "# The first two books are:\n",
    "print(library[:2])"
   ]
  },
  {
   "cell_type": "code",
   "execution_count": null,
   "metadata": {},
   "outputs": [],
   "source": [
    "# The last three books are:\n",
    "print(library[-3:])"
   ]
  },
  {
   "cell_type": "code",
   "execution_count": null,
   "metadata": {},
   "outputs": [],
   "source": [
    "# The fourth and fifth books are:\n",
    "print(library[3:5])"
   ]
  },
  {
   "cell_type": "markdown",
   "metadata": {},
   "source": [
    "# Overwriting list elements\n",
    "\n",
    "We can overwrite individual elements in a list using variable assignment. Note that lists can contain values of different types!"
   ]
  },
  {
   "cell_type": "code",
   "execution_count": null,
   "metadata": {},
   "outputs": [],
   "source": [
    "# Where did The Brothers Karamazov go?\n",
    "library[1] = \"Things Fall Apart\"\n",
    "print(library)"
   ]
  },
  {
   "cell_type": "code",
   "execution_count": null,
   "metadata": {},
   "outputs": [],
   "source": [
    "# What is going on in this assignment??\n",
    "library[2], library[3] = [7, True]\n",
    "print(library)"
   ]
  },
  {
   "cell_type": "markdown",
   "metadata": {},
   "source": [
    "### Lists have methods\n",
    "\n",
    "Just like strings (or mostly anything else in Python), data structures have methods as well - specific functions that only apply to lists! Type the name of your list followed by a period, then press your **Tab** key - a list of methods you can call should appear:"
   ]
  },
  {
   "cell_type": "code",
   "execution_count": null,
   "metadata": {},
   "outputs": [],
   "source": [
    "library."
   ]
  },
  {
   "cell_type": "code",
   "execution_count": null,
   "metadata": {},
   "outputs": [],
   "source": [
    "# How many times does Catch-22 appear in library?\n",
    "library.count(\"Catch-22\")"
   ]
  },
  {
   "cell_type": "markdown",
   "metadata": {},
   "source": [
    "# `.split()` method\n",
    "\n",
    "What does the .split() method do?\n",
    "\n",
    "What data type does it work on?\n",
    "\n",
    "What data structure is produced?"
   ]
  },
  {
   "cell_type": "code",
   "execution_count": null,
   "metadata": {},
   "outputs": [],
   "source": [
    "book = \"Go Tell It on the Mountain\"\n",
    "book.split()"
   ]
  },
  {
   "cell_type": "markdown",
   "metadata": {},
   "source": [
    "You will learn more about getting help in notebook 1-8_errors-help.ipynb, but for now get help by typing: "
   ]
  },
  {
   "cell_type": "code",
   "execution_count": null,
   "metadata": {},
   "outputs": [],
   "source": [
    "str.split?\n",
    "\n",
    "# or\n",
    "\n",
    "book.split?"
   ]
  },
  {
   "cell_type": "markdown",
   "metadata": {},
   "source": [
    "# Deleting list elements and variables\n",
    "\n",
    "**Deleting** elements of a list or an entire list can be done using `del`"
   ]
  },
  {
   "cell_type": "code",
   "execution_count": null,
   "metadata": {},
   "outputs": [],
   "source": [
    "# Delete just one item in a list - the element 7 is gone:\n",
    "print(library)\n",
    "del library[2]\n",
    "print(library)"
   ]
  },
  {
   "cell_type": "code",
   "execution_count": null,
   "metadata": {},
   "outputs": [],
   "source": [
    "# Delete the entire list\n",
    "del library\n",
    "\n",
    "# What happens when you try to print the library variable after deleting it? \n",
    "print(library)"
   ]
  },
  {
   "cell_type": "markdown",
   "metadata": {},
   "source": [
    "> You will learn more about error messages in notebook 1-8_errors-help.ipynb"
   ]
  },
  {
   "cell_type": "markdown",
   "metadata": {},
   "source": [
    "You can even create lists of lists!"
   ]
  },
  {
   "cell_type": "code",
   "execution_count": null,
   "metadata": {},
   "outputs": [],
   "source": [
    "list_of_lists = [[6, 3, 5], [\"mountain\", \"forest\", \"ocean\"], \n",
    "                 [5.0, 4.25, 12.823], True, False]\n",
    "\n",
    "print(list_of_lists)"
   ]
  },
  {
   "cell_type": "code",
   "execution_count": null,
   "metadata": {},
   "outputs": [],
   "source": [
    "# Print the third thing in the second list\n",
    "print(list_of_lists[1][2])"
   ]
  },
  {
   "cell_type": "code",
   "execution_count": null,
   "metadata": {},
   "outputs": [],
   "source": [
    "# Print the second thing in the third list\n",
    "print(list_of_lists[2][1])"
   ]
  },
  {
   "cell_type": "markdown",
   "metadata": {},
   "source": [
    "# Dictionary\n",
    "\n",
    "A python dictionary is a collection of **key/value pairs - the key is the name of the data, the value is the data itself**. Dictionaries are very powerful because unlike other data strutures we have talked about they do not need to store data in order. By calling the key, you can always find its corresponding value. Keys must be unique and immutable; strings and integers are commonly used as keys. The values can be anything, including lists, and even other dictionaries.\n",
    "\n",
    "Each key/value pair is denoted by a colon `:` with the **key on the left side** and the **value on the right**. Each key/value pair within the dictionary is separate by a comma.\n",
    "\n",
    "> NOTE: we have seen round parentheses `()` for functions, square brackets `[]` for indexing/slicing, but now note the use of curly braces `{}` to define a dictionary. "
   ]
  },
  {
   "cell_type": "code",
   "execution_count": null,
   "metadata": {},
   "outputs": [],
   "source": [
    "poets_dict = {\"name\": \"Forough Farrokhzad\", \n",
    "            \"year of birth\": 1935, \n",
    "            \"year of death\": 1967, \n",
    "            \"place of birth\": \"Iran\", \n",
    "            \"language\": \"Persian\"}\n",
    "print(type(poets_dict))"
   ]
  },
  {
   "cell_type": "code",
   "execution_count": null,
   "metadata": {},
   "outputs": [],
   "source": [
    "# print(poets_dict)\n",
    "poets_dict"
   ]
  },
  {
   "cell_type": "code",
   "execution_count": null,
   "metadata": {},
   "outputs": [],
   "source": [
    "# Print the keys with the .keys() method\n",
    "print(poets_dict.keys())\n",
    "print()"
   ]
  },
  {
   "cell_type": "code",
   "execution_count": null,
   "metadata": {},
   "outputs": [],
   "source": [
    "# Print the values with the .values() method\n",
    "print(poets_dict.values())\n",
    "print()"
   ]
  },
  {
   "cell_type": "code",
   "execution_count": null,
   "metadata": {},
   "outputs": [],
   "source": [
    "# Call a particular key to see its value. \n",
    "# What language did Forough speak?\n",
    "print(poets_dict[\"language\"])"
   ]
  },
  {
   "cell_type": "markdown",
   "metadata": {},
   "source": [
    "# Overwriting dictionary elements\n",
    "\n",
    "Like lists, we can also overwrite values (whatever they might be) in place:"
   ]
  },
  {
   "cell_type": "code",
   "execution_count": null,
   "metadata": {},
   "outputs": [],
   "source": [
    "# Overwrite \"Persian\" with \"Farsi\"\n",
    "poets_dict[\"language\"] = \"Farsi\"\n",
    "poets_dict"
   ]
  },
  {
   "cell_type": "markdown",
   "metadata": {},
   "source": [
    "We can also add **new** key/value pairs:"
   ]
  },
  {
   "cell_type": "code",
   "execution_count": null,
   "metadata": {},
   "outputs": [],
   "source": [
    "poets_dict[\"gender\"] = \"Female\"\n",
    "poets_dict"
   ]
  },
  {
   "cell_type": "markdown",
   "metadata": {},
   "source": [
    "We can add lists as new values as well:"
   ]
  },
  {
   "cell_type": "code",
   "execution_count": null,
   "metadata": {},
   "outputs": [],
   "source": [
    "poets_dict[\"works\"] = ['Remembrance of a Day', 'Unison',\n",
    "                       'The Shower of Your Hair', 'Portrait of Forough']\n",
    "poets_dict"
   ]
  },
  {
   "cell_type": "markdown",
   "metadata": {},
   "source": [
    "Save your changes and open \"1-6_libraries.ipynb\" to learn about user-defined extensions for your base Python installation."
   ]
  }
 ],
 "metadata": {
  "kernelspec": {
   "display_name": "Python 3",
   "language": "python",
   "name": "python3"
  },
  "language_info": {
   "codemirror_mode": {
    "name": "ipython",
    "version": 3
   },
   "file_extension": ".py",
   "mimetype": "text/x-python",
   "name": "python",
   "nbconvert_exporter": "python",
   "pygments_lexer": "ipython3",
   "version": "3.7.0"
  }
 },
 "nbformat": 4,
 "nbformat_minor": 2
}
