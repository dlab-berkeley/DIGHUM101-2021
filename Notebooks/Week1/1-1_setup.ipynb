{
 "cells": [
  {
   "cell_type": "markdown",
   "metadata": {},
   "source": [
    "# Learning objectives\n",
    "\n",
    "1. Learn about Digital Humanities and D-Lab at Berkeley\n",
    "2. Syllabus overview\n",
    "3. Software installations\n",
    "4. Download course materials\n",
    "5. Open a Jupyter Notebook"
   ]
  },
  {
   "cell_type": "markdown",
   "metadata": {},
   "source": [
    "<tr>\n",
    "    <td> <img src=\"../../Img/dhlogo.png\" width=\"200\" alt=\"\" style=\"width: 300px;\"/> </td>\n",
    "    <td> <img src=\"../../Img/dhsummer.png\" width=\"200\" alt=\"\" style=\"width: 300px;\"/> </td>\n",
    "    <td> <img src=\"../../Img/dlablogo1.png\" width=\"200\" alt=\"\" style=\"width: 300px;\"/> </td>\n",
    "    </tr>"
   ]
  },
  {
   "cell_type": "markdown",
   "metadata": {},
   "source": [
    "# Welcome to DIGHUM 101!\n",
    "\n",
    "This class is part of the [Digital Humanities at Berkeley Summer Minor for summer 2020](https://summerdigitalhumanities.berkeley.edu/). \n",
    "\n",
    "\n",
    "[Click here to learn more about the Digital Humanities at Berkeley](http://dh.berkeley.edu/). \n",
    "\n",
    "[Visit the D-Lab website](https://dlab.berkeley.edu/)."
   ]
  },
  {
   "cell_type": "markdown",
   "metadata": {},
   "source": [
    "# Installations check\n",
    "\n",
    "### 1. Python\n",
    "[Click here to download Python 3.7 Anaconda distribution](https://www.anaconda.com/products/individual). Scroll down and click \"Download\".\n",
    "\n",
    "### 2. GitBash (Windows users only)\n",
    "Download and install [GitBash](https://git-scm.com/downloads). Mac users do not need to perform this step because they already have access to the Bash language through the built-in \"Terminal\" application.\n",
    "\n",
    "### 3. GitHub: \n",
    "[Create a free GitHub account here](https://github.com/)\n",
    "\n",
    "### 4. bCourses\n",
    "[Keep our bCourses site link handy!](https://bcourses.berkeley.edu/courses/1493164)\n",
    "\n",
    "### 5. Other software\n",
    "Remember that you have access to some really productive software through your @berkeley email address at [Software @ Berkeley](https://software.berkeley.edu/home). "
   ]
  },
  {
   "cell_type": "markdown",
   "metadata": {},
   "source": [
    "# Syllabus\n",
    "\n",
    "The syllabus can be found on the \"Files\" tab linked above along with the syllabus legal agreements, selected readings, and other resources."
   ]
  },
  {
   "cell_type": "markdown",
   "metadata": {},
   "source": [
    "# Download course materials\n",
    "\n",
    "1. Visit https://github.com/dlab-berkeley/dighum101-2020\n",
    "\n",
    "2. Open Terminal (Mac) or GitBash (Windows) and type\n",
    "\n",
    "`git clone git@github.com:dlab-berkeley/DIGHUM101-2020.git`\n",
    "\n",
    "> If this does not work, simply click the green \"Clone or Download\" button, click \"Download Zip\", and then extract this .zip file someplace familiar such as your home folder or Desktop"
   ]
  },
  {
   "cell_type": "markdown",
   "metadata": {},
   "source": [
    "# Why learn Python?\n",
    "\n",
    "**1. What is a programming language?**  \n",
    "A [programming language](https://en.wikipedia.org/wiki/Programming_language) is a way to give instructions to a computer. \n",
    "\n",
    "**2. What is Python?**  \n",
    "[Python is](https://en.wikipedia.org/wiki/Python_(programming_language)) a programming language!\n",
    "\n",
    "**3. What is (are) data?**  \n",
    "[\"Data is (are) a set of values](https://en.wikipedia.org/wiki/Data) of subjects with respect to qualitative or quantitative variables.\"  \n",
    "\n",
    "**4. Why learn to program?**  \n",
    "To think like a programmer means that you train to become a code detective, a resourcesful Google searcher, and believe that all problems have at least one solution.   \n",
    "\n",
    "\n",
    "- _Practical Efficiency:_ Although the initial learning curve can be frustrating, learning to program can save you lots of time doing basic tasks that you would otherwise have to do by hand.  \n",
    "\n",
    "\n",
    "- _New Tools:_ Some things are literally impossible to do by hand and computers open the door to new tools and methods, with programming as the way to interact with them. \n",
    "\n",
    "\n",
    "- _New Data:_ Programming knowledge is required to access the wealth of new data in the 21st Century from [APIs](https://en.wikipedia.org/wiki/Application_programming_interface), websites, and social media.  \n",
    "\n",
    "\n",
    "- _Better Science:_ This combination of efficiency, tools, and data has the ability to better create transparency, reproducibility, and collaboration that can lead to better science.  "
   ]
  },
  {
   "cell_type": "markdown",
   "metadata": {},
   "source": [
    "# Open A Jupyter Notebook\n",
    "\n",
    "### From the command line\n",
    "\n",
    "- Open Terminal (Mac users) or GitBash (Windows users) type the words    jupyter notebook\n",
    "\n",
    "### Via Anaconda Navigator\n",
    "\n",
    "- Mac: type Anaconda Navigator into your \"Spotlight Search\" (command + spacebar or click the magnifying glass in the upper right of your screen).\n",
    "\n",
    "- Windows: type Anaconda Navigator into the search bar in the lower left of your screen.\n",
    "\n",
    "You should see a window like the one below. Click \"Launch\" under Jupyter Notebook:"
   ]
  },
  {
   "cell_type": "markdown",
   "metadata": {},
   "source": [
    "<img src=\"../../Img/anaconda-navigator.png\" width=\"1000\">"
   ]
  },
  {
   "cell_type": "markdown",
   "metadata": {},
   "source": [
    "# Navigating the course materials\n",
    "\n",
    "You should then see a screen like the one below in your web browser and that displays your file structure. This is notebook `1-1_setup.ipynb`. Try to navigate the file structure to wherever you saved the course materials (I recommend your Desktop). Open this notebook to practice!\n",
    "\n",
    "> NOTE: You do need an Internet connection to download the course materials. However, you do not need an internet connection to work in a Jupyter Notebook - it is simply running in your web browser. "
   ]
  },
  {
   "cell_type": "markdown",
   "metadata": {},
   "source": [
    "<img src=\"../../Img/local.png\" width=\"1000\">"
   ]
  },
  {
   "cell_type": "markdown",
   "metadata": {},
   "source": [
    "<img src=\"../../Img/local2.png\" width=\"1000\">"
   ]
  },
  {
   "cell_type": "markdown",
   "metadata": {},
   "source": [
    "<img src=\"../../Img/local3.png\" width=\"1000\">"
   ]
  },
  {
   "cell_type": "markdown",
   "metadata": {},
   "source": [
    "<img src=\"../../Img/local4.png\" width=\"1000\">"
   ]
  },
  {
   "cell_type": "markdown",
   "metadata": {},
   "source": [
    "<img src=\"../../Img/local5.png\" width=\"1000\">"
   ]
  },
  {
   "cell_type": "markdown",
   "metadata": {},
   "source": [
    "# Save and exit\n",
    "\n",
    "To properly shut down a Jupyter Notebook, first save your work by: \n",
    "\n",
    "- Pressing command + s (Mac) or control + s (Windows)\n",
    "- Clicking the disk icon in the upper left corner of your notebook (or File --> Save as...)\n",
    "\n",
    "Then, \n",
    "\n",
    "- Click File --> Close and Halt\n",
    "- Open \"1-2_JN-markdown.ipynb\" \n",
    "\n",
    "> NOTE: if your [kernel](https://jupyter-notebook-beginner-guide.readthedocs.io/en/latest/what_is_jupyter.html#kernel) freezes and your notebook stops working you can restart it by clicking Kernel --> Restart. If this does not work, save your work and restart your computer. "
   ]
  }
 ],
 "metadata": {
  "kernelspec": {
   "display_name": "Python 3",
   "language": "python",
   "name": "python3"
  },
  "language_info": {
   "codemirror_mode": {
    "name": "ipython",
    "version": 3
   },
   "file_extension": ".py",
   "mimetype": "text/x-python",
   "name": "python",
   "nbconvert_exporter": "python",
   "pygments_lexer": "ipython3",
   "version": "3.7.0"
  }
 },
 "nbformat": 4,
 "nbformat_minor": 2
}
