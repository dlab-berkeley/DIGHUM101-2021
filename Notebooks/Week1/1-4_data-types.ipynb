{
 "cells": [
  {
   "cell_type": "markdown",
   "metadata": {},
   "source": [
    "# Fast review\n",
    "\n",
    "1. What is Python? \n",
    "2. What is a Jupyter notebook? \n",
    "3. What are the two types of cells we have discussed in Jupyter Notebooks and what is each used for? \n",
    "4. What is a function? What is an argument? What is a method?\n",
    "5. What is variable assignment? \n",
    "6. What are the four types of data we are currently discussing? "
   ]
  },
  {
   "cell_type": "markdown",
   "metadata": {},
   "source": [
    "# Learning objectives\n",
    "\n",
    "1. Understand the difference between float, integer, string, and logical data types\n",
    "2. Introduce methods (type-specific functions)\n",
    "3. Introduce indexing, slicing, and striding"
   ]
  },
  {
   "cell_type": "markdown",
   "metadata": {},
   "source": [
    "# Data Types\n",
    "\n",
    "_Everything_ in Python has a type. Everything belongs to a class with certain properties that define it. This is important because this type determines what we can do to that variable/function/argument/thing. The most common types of data are float, integer, string, and logical. "
   ]
  },
  {
   "cell_type": "markdown",
   "metadata": {},
   "source": [
    "### 1. Floats \n",
    "\n",
    "Floats are decimals. These decimals can \"float\" a precise number of digits such as 0.02 or 0.0000000000000000002"
   ]
  },
  {
   "cell_type": "code",
   "execution_count": null,
   "metadata": {},
   "outputs": [],
   "source": [
    "radius = 4.56\n",
    "height = 7.88\n",
    "\n",
    "# You can also have multiple print statements in a single cell\n",
    "print(radius)\n",
    "print(type(radius))"
   ]
  },
  {
   "cell_type": "code",
   "execution_count": null,
   "metadata": {},
   "outputs": [],
   "source": [
    "# Floats are more precise than integers\n",
    "# What would happen to our result if we give pi a more (or less) precise definition? \n",
    "\n",
    "# Mathematical expression\n",
    "volume = 3.14 * (radius ** 2) * height\n",
    "print(volume)"
   ]
  },
  {
   "cell_type": "markdown",
   "metadata": {},
   "source": [
    "> Math mode! You can also [format equations](https://medium.com/analytics-vidhya/writing-math-equations-in-jupyter-notebook-a-naive-introduction-a5ce87b9a214) in Jupyter Notebooks by wrapping the corresponding symbols in dollar signs. For the cylinder volume equation above, `$V = \\pi r^2 h$` produces: "
   ]
  },
  {
   "cell_type": "markdown",
   "metadata": {},
   "source": [
    "$V = \\pi r^2 h$"
   ]
  },
  {
   "cell_type": "markdown",
   "metadata": {},
   "source": [
    "### 2. Integers\n",
    "\n",
    "Integers are whole numbers (negative and positive), including zero such as -3, 0, 7, and 8"
   ]
  },
  {
   "cell_type": "code",
   "execution_count": null,
   "metadata": {},
   "outputs": [],
   "source": [
    "# Integers are used to count frequencies of something, but what happens if you have half of an apple?\n",
    "apples = 5\n",
    "grapes = 3\n",
    "grapefruits = 4\n",
    "total_fruits = apples + grapes + grapefruits\n",
    "print(\"There are\", total_fruits, \"fruits total.\")"
   ]
  },
  {
   "cell_type": "markdown",
   "metadata": {},
   "source": [
    "**TAB Completion**\n",
    "\n",
    "TAB completion is your friend! Use it often and trust it more than trying to spell things out by hand. Begin to type the name of a variable or function to **tab completion.** Place your cursur after \"grap\" below and see what appears. Do the same thing for \"pri\""
   ]
  },
  {
   "cell_type": "code",
   "execution_count": null,
   "metadata": {},
   "outputs": [],
   "source": [
    "grap\n",
    "pri"
   ]
  },
  {
   "cell_type": "markdown",
   "metadata": {},
   "source": [
    "### 3. Strings\n",
    "\n",
    "What are those bits of data that are wrapped in quotations? Although there are some technical differences, we will use use \"string\" as synonymous with text/character data. String data should always be wrapped in quotations. Single or double quotes are both fine, but be consistent! You can nest single quotes inside of double quotes."
   ]
  },
  {
   "cell_type": "code",
   "execution_count": null,
   "metadata": {},
   "outputs": [],
   "source": [
    "# status = \"I am hungry\"\n",
    "# status = 'I am hungry'\n",
    "# status = \"I'm hungry\"\n",
    "\n",
    "# This backslash is called an \"escape\" character\n",
    "# https://www.w3schools.com/python/gloss_python_escape_characters.asp\n",
    "status = 'I\\'m hungry' \n",
    "print(status)\n",
    "print(type(status))"
   ]
  },
  {
   "cell_type": "markdown",
   "metadata": {},
   "source": [
    "# Strings have methods! \n",
    "\n",
    "Recall that methods are type-specific functions. Look at the methods for the `status` variable by typing `status.` and then pressing the TAB key. \n",
    "\n",
    "What do you think `status.upper()` does, for example?"
   ]
  },
  {
   "cell_type": "code",
   "execution_count": null,
   "metadata": {},
   "outputs": [],
   "source": [
    "# This is called \"dot notation\"\n",
    "status."
   ]
  },
  {
   "cell_type": "code",
   "execution_count": null,
   "metadata": {},
   "outputs": [],
   "source": [
    "# This also works for other types, objects, structures, and classes!\n",
    "float.\n",
    "int.\n",
    "str.\n",
    "list.\n",
    "dict."
   ]
  },
  {
   "cell_type": "markdown",
   "metadata": {},
   "source": [
    "### 4. Logical\n",
    "\n",
    "Logical type refers to True or False. Logical data are useful for in many scenarios, such as turning function parameters on or off and logical testing:"
   ]
  },
  {
   "cell_type": "code",
   "execution_count": null,
   "metadata": {},
   "outputs": [],
   "source": [
    "# What is going on here? \n",
    "print(False - True)"
   ]
  },
  {
   "cell_type": "code",
   "execution_count": null,
   "metadata": {},
   "outputs": [],
   "source": [
    "# Is equal to\n",
    "print(7 == 7)"
   ]
  },
  {
   "cell_type": "code",
   "execution_count": null,
   "metadata": {},
   "outputs": [],
   "source": [
    "# Is not equal to\n",
    "print(7 != 7)"
   ]
  },
  {
   "cell_type": "code",
   "execution_count": null,
   "metadata": {},
   "outputs": [],
   "source": [
    "# Greater than (or equal to)\n",
    "print(8 > 7)"
   ]
  },
  {
   "cell_type": "code",
   "execution_count": null,
   "metadata": {},
   "outputs": [],
   "source": [
    "# Less than (or equal to)\n",
    "print(8 <= 7)"
   ]
  },
  {
   "cell_type": "markdown",
   "metadata": {},
   "source": [
    "# Indexing, Slicing, and Striding\n",
    "\n",
    "### Indexing\n",
    "\n",
    "Indexing is a way to access just a part of some variable by referring to the position of that part. \n",
    "\n",
    "> NOTE: Instead of round parentheses `()` like we see after the names of functions, indexing/slicing/striding all use square brackets `[]`"
   ]
  },
  {
   "cell_type": "code",
   "execution_count": null,
   "metadata": {},
   "outputs": [],
   "source": [
    "pangram = \"The quick brown fox jumps over the lazy dog\"\n",
    "print(pangram)"
   ]
  },
  {
   "cell_type": "markdown",
   "metadata": {},
   "source": [
    "If we just want the first letter of this sentence, we could just type the number 1 in square brackets to refer to the letter in the first position, right?  \n",
    "\n",
    "**Wrong! :)**"
   ]
  },
  {
   "cell_type": "code",
   "execution_count": null,
   "metadata": {},
   "outputs": [],
   "source": [
    "pangram[1]"
   ]
  },
  {
   "cell_type": "markdown",
   "metadata": {},
   "source": [
    "Python is a [\"zero-indexed\"](https://www.quora.com/What-is-the-meaning-of-%E2%80%9CPython-is-a-zero-indexing-language-unlike-R-where-indexing-starts-at-one%E2%80%9D) language, meaning counting starts at zero. Therefore, we would need to type "
   ]
  },
  {
   "cell_type": "code",
   "execution_count": null,
   "metadata": {},
   "outputs": [],
   "source": [
    "pangram[0]"
   ]
  },
  {
   "cell_type": "markdown",
   "metadata": {},
   "source": [
    "### Slicing\n",
    "\n",
    "What if we want to index a range of values? We can slice a variable to get multiple indices by placing a colon inside of our square brackets `[:]`. The index before the colon is _included_ in the slice, but the number after the colon is _excluded_."
   ]
  },
  {
   "cell_type": "code",
   "execution_count": null,
   "metadata": {
    "scrolled": true
   },
   "outputs": [],
   "source": [
    "# Slice only the first four characters:\n",
    "# print(pangram[0:4])\n",
    "pangram[0:4]"
   ]
  },
  {
   "cell_type": "code",
   "execution_count": null,
   "metadata": {},
   "outputs": [],
   "source": [
    "# Slice only the last five characters:\n",
    "# print(pangram[-5:])\n",
    "pangram[-5:]"
   ]
  },
  {
   "cell_type": "code",
   "execution_count": null,
   "metadata": {},
   "outputs": [],
   "source": [
    "# Slice the 9th through the 12th characters\n",
    "# print(pangram[8:12])\n",
    "pangram[8:12]"
   ]
  },
  {
   "cell_type": "markdown",
   "metadata": {},
   "source": [
    "### Striding\n",
    "\n",
    "Include a second colon in your slice to specify an interval/step:"
   ]
  },
  {
   "cell_type": "code",
   "execution_count": null,
   "metadata": {},
   "outputs": [],
   "source": [
    "# Slice 0:12, but by every third letter\n",
    "print(pangram)\n",
    "print(pangram[0:12:3])"
   ]
  },
  {
   "cell_type": "markdown",
   "metadata": {},
   "source": [
    "# Challenges\n",
    "\n",
    "Open Week1-Challenges-A.ipynb inside of the \"Challenges\" folder to practice what you have learned from notebooks 1-1, 1-2, 1-3, and 1-4! "
   ]
  }
 ],
 "metadata": {
  "kernelspec": {
   "display_name": "Python 3",
   "language": "python",
   "name": "python3"
  },
  "language_info": {
   "codemirror_mode": {
    "name": "ipython",
    "version": 3
   },
   "file_extension": ".py",
   "mimetype": "text/x-python",
   "name": "python",
   "nbconvert_exporter": "python",
   "pygments_lexer": "ipython3",
   "version": "3.7.0"
  }
 },
 "nbformat": 4,
 "nbformat_minor": 2
}
