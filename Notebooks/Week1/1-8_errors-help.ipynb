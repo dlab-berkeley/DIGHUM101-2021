{
 "cells": [
  {
   "cell_type": "markdown",
   "metadata": {},
   "source": [
    "# Learning objectives\n",
    "\n",
    "1. Understand common errors you will encounter in your programming."
   ]
  },
  {
   "cell_type": "markdown",
   "metadata": {},
   "source": [
    "# Errors and Help\n",
    "\n",
    "This notebook will help you begin to understand the frustration of error messages, their meaning, how to fix them, and how to find help. Remember, every programmer encounters errors - no matter how novice or advanced you are. Once you know _why_ you get certain types of errors, they become much easier to fix! Errors appear in what is called a traceback, or the series of functions showing why the error occured. Let's focus on a few of the most common ones: \n",
    "\n",
    "- `SyntaxError` \n",
    "- `IndentationError`\n",
    "- `NameError`\n",
    "- `IndexError` \n",
    "- `TypeError`\n",
    "- `KeyError`\n",
    "- `FileError`"
   ]
  },
  {
   "cell_type": "markdown",
   "metadata": {},
   "source": [
    "# Syntax error\n",
    "\n",
    "A syntax error means there is a problem with the structure of your code. What is wrong with the code below? Always read the last line of the traceback first, and then work backwards."
   ]
  },
  {
   "cell_type": "code",
   "execution_count": null,
   "metadata": {},
   "outputs": [],
   "source": [
    "print(\"Welcome to Berkeley\")"
   ]
  },
  {
   "cell_type": "markdown",
   "metadata": {},
   "source": [
    "# Indentation error\n",
    "\n",
    "Another type of syntax error is an indentation error. When writing code, Python not only expects the structure to be a certain way, but the _style_ of the structure as well. A proper indent should consist of a single TAB or four spaces (more on this later). "
   ]
  },
  {
   "cell_type": "code",
   "execution_count": null,
   "metadata": {},
   "outputs": [],
   "source": [
    "def some_function():\n",
    "    msg = \"hello, world!\"\n",
    "    print(msg)\n",
    "    return msg"
   ]
  },
  {
   "cell_type": "markdown",
   "metadata": {},
   "source": [
    "# Name error\n",
    "\n",
    "A name error occurs when you try to use a variable that does not exist. This is usually because you forgot to define it or included a typo in its spelling."
   ]
  },
  {
   "cell_type": "code",
   "execution_count": null,
   "metadata": {},
   "outputs": [],
   "source": [
    "print(my_name)"
   ]
  },
  {
   "cell_type": "markdown",
   "metadata": {},
   "source": [
    "# Index error\n",
    "\n",
    "Index errors occur when you try to reference something in a data structure such as a string, list, dictionary, or data frame that does not exist or is out of range"
   ]
  },
  {
   "cell_type": "code",
   "execution_count": null,
   "metadata": {},
   "outputs": [],
   "source": [
    "groceries = [\"sushi\", \"chicken\", \"pizza\", \"salad\", \"soda\"]\n",
    "\n",
    "# This works...\n",
    "groceries[4]"
   ]
  },
  {
   "cell_type": "code",
   "execution_count": null,
   "metadata": {},
   "outputs": [],
   "source": [
    "# But this does not work because there is no fifth index in groceries\n",
    "# Remember: the fifth index references the sixth position, but we only have five elements in groceries\n",
    "groceries[5]"
   ]
  },
  {
   "cell_type": "markdown",
   "metadata": {},
   "source": [
    "# Type error\n",
    "\n",
    "Type errors occur when you confuse types, such as when we try to use a method or syntax on a type it is not intended."
   ]
  },
  {
   "cell_type": "code",
   "execution_count": null,
   "metadata": {},
   "outputs": [],
   "source": [
    "\"2\" + 2"
   ]
  },
  {
   "cell_type": "markdown",
   "metadata": {},
   "source": [
    "# Key error\n",
    "\n",
    "Key errors occur when you try to access elements of a dictionary using a key that does not exist."
   ]
  },
  {
   "cell_type": "code",
   "execution_count": null,
   "metadata": {},
   "outputs": [],
   "source": [
    "temperature = {\"day\":[\"Mon\", \"Tue\", \"Wed\"],\n",
    "              \"temp\":[88, 99, 65]}\n",
    "temperature"
   ]
  },
  {
   "cell_type": "code",
   "execution_count": null,
   "metadata": {},
   "outputs": [],
   "source": [
    "temperature[\"month\"]"
   ]
  },
  {
   "cell_type": "markdown",
   "metadata": {},
   "source": [
    "# File error\n",
    "\n",
    "File errors occur when we try to load data from files but that file does not exist or we are looking in the wrong directory."
   ]
  },
  {
   "cell_type": "code",
   "execution_count": null,
   "metadata": {
    "scrolled": true
   },
   "outputs": [],
   "source": [
    "my_text = open(\"The Fire Next Time.txt\").read()"
   ]
  },
  {
   "cell_type": "code",
   "execution_count": null,
   "metadata": {},
   "outputs": [],
   "source": [
    "!pwd"
   ]
  },
  {
   "cell_type": "markdown",
   "metadata": {},
   "source": [
    "# Getting help\n",
    "\n",
    "The Python documentation is essential! It tells you everything you need to know, you just might not know it yet :) \n",
    "\n",
    "That being said, some documentation is better than others. Type a question mark after a function to call its help files. "
   ]
  },
  {
   "cell_type": "code",
   "execution_count": null,
   "metadata": {},
   "outputs": [],
   "source": [
    "float?"
   ]
  },
  {
   "cell_type": "code",
   "execution_count": null,
   "metadata": {},
   "outputs": [],
   "source": [
    "int?"
   ]
  },
  {
   "cell_type": "code",
   "execution_count": null,
   "metadata": {},
   "outputs": [],
   "source": [
    "str?"
   ]
  },
  {
   "cell_type": "code",
   "execution_count": null,
   "metadata": {},
   "outputs": [],
   "source": [
    "import pandas as pd\n",
    "pd.read_csv?"
   ]
  },
  {
   "cell_type": "markdown",
   "metadata": {},
   "source": [
    "You can also place your cursor inside of a function/method's round parentheses and press **Shift + TAB** to quickly view the help. "
   ]
  },
  {
   "cell_type": "code",
   "execution_count": null,
   "metadata": {
    "scrolled": true
   },
   "outputs": [],
   "source": [
    "pd.read_csv(\"place cursor here and press shift + TAB!\")"
   ]
  },
  {
   "cell_type": "markdown",
   "metadata": {},
   "source": [
    "# The internet as a source of help\n",
    "\n",
    "The internet provides countless examples of help examples and tutorials. [Python Stack Overflow](https://stackoverflow.com/questions/tagged/python) is the best, and if you needed help with something like using Pandas to import a .csv file, you might Google search something like in the image below. Keyword selection is important, so be sure to practice because you will be doing this often!"
   ]
  },
  {
   "cell_type": "markdown",
   "metadata": {},
   "source": [
    "![google_search](../../Img/google.png)"
   ]
  },
  {
   "cell_type": "markdown",
   "metadata": {},
   "source": [
    "# Challenges\n",
    "\n",
    "Open Week1-Challenges-B.ipynb inside of the \"Challenges\" folder to practice what you have learned from notebooks 1-5, 1-6, 1-7, and 1-8! "
   ]
  }
 ],
 "metadata": {
  "kernelspec": {
   "display_name": "Python 3",
   "language": "python",
   "name": "python3"
  },
  "language_info": {
   "codemirror_mode": {
    "name": "ipython",
    "version": 3
   },
   "file_extension": ".py",
   "mimetype": "text/x-python",
   "name": "python",
   "nbconvert_exporter": "python",
   "pygments_lexer": "ipython3",
   "version": "3.7.6"
  }
 },
 "nbformat": 4,
 "nbformat_minor": 4
}
