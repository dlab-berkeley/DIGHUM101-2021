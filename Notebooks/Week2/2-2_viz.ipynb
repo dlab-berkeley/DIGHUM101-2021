{
 "cells": [
  {
   "cell_type": "code",
   "execution_count": 2,
   "metadata": {},
   "outputs": [],
   "source": [
    "import pandas as pd\n",
    "\n",
    "# Import matplotlib (https://en.wikipedia.org/wiki/Matplotlib)\n",
    "import matplotlib\n",
    "\n",
    "# Import the pyplot \"submodule\" for fast plotting\n",
    "# (https://www.quora.com/What-is-the-difference-between-Python-modules-packages-libraries-and-frameworks)\n",
    "import matplotlib.pyplot as plt\n",
    "\n",
    "# Graphics should appear \"inline\" (within the Jupyter Notebook instead of somewhere else)\n",
    "%matplotlib inline\n",
    "\n",
    "# Indicate the template to use for the plot (not required)\n",
    "# Type plt.style.available to experiment with different styles\n",
    "plt.style.use('seaborn-bright')\n",
    "\n",
    "import seaborn as sns"
   ]
  },
  {
   "cell_type": "code",
   "execution_count": 3,
   "metadata": {},
   "outputs": [
    {
     "data": {
      "text/plain": [
       "['Solarize_Light2',\n",
       " '_classic_test_patch',\n",
       " 'bmh',\n",
       " 'classic',\n",
       " 'dark_background',\n",
       " 'fast',\n",
       " 'fivethirtyeight',\n",
       " 'ggplot',\n",
       " 'grayscale',\n",
       " 'seaborn',\n",
       " 'seaborn-bright',\n",
       " 'seaborn-colorblind',\n",
       " 'seaborn-dark',\n",
       " 'seaborn-dark-palette',\n",
       " 'seaborn-darkgrid',\n",
       " 'seaborn-deep',\n",
       " 'seaborn-muted',\n",
       " 'seaborn-notebook',\n",
       " 'seaborn-paper',\n",
       " 'seaborn-pastel',\n",
       " 'seaborn-poster',\n",
       " 'seaborn-talk',\n",
       " 'seaborn-ticks',\n",
       " 'seaborn-white',\n",
       " 'seaborn-whitegrid',\n",
       " 'tableau-colorblind10']"
      ]
     },
     "execution_count": 3,
     "metadata": {},
     "output_type": "execute_result"
    }
   ],
   "source": [
    "plt.style.available"
   ]
  },
  {
   "cell_type": "markdown",
   "metadata": {},
   "source": [
    "# Fast review\n",
    "\n",
    "1. What are some key components of text preprocessing? \n",
    "2. Why is text preprocessing important?"
   ]
  },
  {
   "cell_type": "code",
   "execution_count": 4,
   "metadata": {},
   "outputs": [
    {
     "data": {
      "text/plain": [
       "'/Users/brooks/Projects/D-Lab/DIGHUM101-2021/Notebooks/Week2'"
      ]
     },
     "execution_count": 4,
     "metadata": {},
     "output_type": "execute_result"
    }
   ],
   "source": [
    "%pwd # print working directory"
   ]
  },
  {
   "cell_type": "code",
   "execution_count": 5,
   "metadata": {},
   "outputs": [
    {
     "name": "stdout",
     "output_type": "stream",
     "text": [
      "(133, 5)\n"
     ]
    },
    {
     "data": {
      "text/html": [
       "<div>\n",
       "<style scoped>\n",
       "    .dataframe tbody tr th:only-of-type {\n",
       "        vertical-align: middle;\n",
       "    }\n",
       "\n",
       "    .dataframe tbody tr th {\n",
       "        vertical-align: top;\n",
       "    }\n",
       "\n",
       "    .dataframe thead th {\n",
       "        text-align: right;\n",
       "    }\n",
       "</style>\n",
       "<table border=\"1\" class=\"dataframe\">\n",
       "  <thead>\n",
       "    <tr style=\"text-align: right;\">\n",
       "      <th></th>\n",
       "      <th>Unnamed: 0</th>\n",
       "      <th>title</th>\n",
       "      <th>author gender</th>\n",
       "      <th>year</th>\n",
       "      <th>text</th>\n",
       "    </tr>\n",
       "  </thead>\n",
       "  <tbody>\n",
       "    <tr>\n",
       "      <th>0</th>\n",
       "      <td>0</td>\n",
       "      <td>A Dog with a Bad Name</td>\n",
       "      <td>Male</td>\n",
       "      <td>1886</td>\n",
       "      <td>A DOG WITH A BAD NAME  BY TALBOT BAINES REED  ...</td>\n",
       "    </tr>\n",
       "    <tr>\n",
       "      <th>1</th>\n",
       "      <td>1</td>\n",
       "      <td>A Final Reckoning</td>\n",
       "      <td>Male</td>\n",
       "      <td>1887</td>\n",
       "      <td>A Final Reckoning: A Tale of Bush Life in Aust...</td>\n",
       "    </tr>\n",
       "    <tr>\n",
       "      <th>2</th>\n",
       "      <td>2</td>\n",
       "      <td>A House Party, Don Gesualdo, and A Rainy June</td>\n",
       "      <td>Female</td>\n",
       "      <td>1887</td>\n",
       "      <td>A HOUSE-PARTY  Don Gesualdo  and  A Rainy June...</td>\n",
       "    </tr>\n",
       "    <tr>\n",
       "      <th>3</th>\n",
       "      <td>3</td>\n",
       "      <td>A Houseful of Girls</td>\n",
       "      <td>Female</td>\n",
       "      <td>1889</td>\n",
       "      <td>A HOUSEFUL OF GIRLS. BY SARAH TYTLER,  AUTHOR ...</td>\n",
       "    </tr>\n",
       "    <tr>\n",
       "      <th>4</th>\n",
       "      <td>4</td>\n",
       "      <td>A Little Country Girl</td>\n",
       "      <td>Female</td>\n",
       "      <td>1885</td>\n",
       "      <td>LITTLE COUNTRY GIRL.  BY  SUSAN COOLIDGE,     ...</td>\n",
       "    </tr>\n",
       "    <tr>\n",
       "      <th>5</th>\n",
       "      <td>5</td>\n",
       "      <td>A Round Dozen</td>\n",
       "      <td>Female</td>\n",
       "      <td>1883</td>\n",
       "      <td>\\n A ROUND DOZEN.  [Illustration: TOINETTE AND...</td>\n",
       "    </tr>\n",
       "    <tr>\n",
       "      <th>6</th>\n",
       "      <td>6</td>\n",
       "      <td>A Sailor's Lass</td>\n",
       "      <td>Female</td>\n",
       "      <td>1886</td>\n",
       "      <td>A SAILOR'S LASS  by  EMMA LESLIE,  Author of \"...</td>\n",
       "    </tr>\n",
       "    <tr>\n",
       "      <th>7</th>\n",
       "      <td>7</td>\n",
       "      <td>A World of Girls</td>\n",
       "      <td>Female</td>\n",
       "      <td>1886</td>\n",
       "      <td>A WORLD OF GIRLS:  THE STORY OF A SCHOOL.  By ...</td>\n",
       "    </tr>\n",
       "  </tbody>\n",
       "</table>\n",
       "</div>"
      ],
      "text/plain": [
       "   Unnamed: 0                                          title author gender  \\\n",
       "0           0                          A Dog with a Bad Name          Male   \n",
       "1           1                              A Final Reckoning          Male   \n",
       "2           2  A House Party, Don Gesualdo, and A Rainy June        Female   \n",
       "3           3                            A Houseful of Girls        Female   \n",
       "4           4                          A Little Country Girl        Female   \n",
       "5           5                                  A Round Dozen        Female   \n",
       "6           6                                A Sailor's Lass        Female   \n",
       "7           7                               A World of Girls        Female   \n",
       "\n",
       "   year                                               text  \n",
       "0  1886  A DOG WITH A BAD NAME  BY TALBOT BAINES REED  ...  \n",
       "1  1887  A Final Reckoning: A Tale of Bush Life in Aust...  \n",
       "2  1887  A HOUSE-PARTY  Don Gesualdo  and  A Rainy June...  \n",
       "3  1889  A HOUSEFUL OF GIRLS. BY SARAH TYTLER,  AUTHOR ...  \n",
       "4  1885  LITTLE COUNTRY GIRL.  BY  SUSAN COOLIDGE,     ...  \n",
       "5  1883  \\n A ROUND DOZEN.  [Illustration: TOINETTE AND...  \n",
       "6  1886  A SAILOR'S LASS  by  EMMA LESLIE,  Author of \"...  \n",
       "7  1886  A WORLD OF GIRLS:  THE STORY OF A SCHOOL.  By ...  "
      ]
     },
     "execution_count": 5,
     "metadata": {},
     "output_type": "execute_result"
    }
   ],
   "source": [
    "# Sometimes there is no need to set the working directory! \n",
    "# What is going on in the file path in pd.read_csv()?\n",
    "\n",
    "lit = pd.read_csv(\"../../Data/childrens_lit.csv\", sep = \"\\t\")\n",
    "\n",
    "print(lit.shape)\n",
    "lit.head(8)"
   ]
  },
  {
   "cell_type": "code",
   "execution_count": 6,
   "metadata": {},
   "outputs": [
    {
     "data": {
      "text/plain": [
       "'A DOG WITH A BAD NAME  BY TALBOT BAINES REED    CHAPTER ONE.  DRY-ROT.  Bolsover College was in a ba'"
      ]
     },
     "execution_count": 6,
     "metadata": {},
     "output_type": "execute_result"
    }
   ],
   "source": [
    "# How to get the text of a book from a single cell?\n",
    "\n",
    "lit[\"text\"][0][:100]\n",
    "\n",
    "# Or... remember iloc?\n",
    "# lit.iloc[0][\"text\"]"
   ]
  },
  {
   "cell_type": "markdown",
   "metadata": {},
   "source": [
    "# Learning objectives\n",
    "\n",
    "1. Learn some theory and best practices of data visualization.\n",
    "2. Make a matplotlib histogram, barplot, boxplot, and scatterplot.\n",
    "3. Begin to read Claus O. Wilke's [Fundamentals of Data Visualization](https://serialmentor.com/dataviz/)"
   ]
  },
  {
   "cell_type": "markdown",
   "metadata": {},
   "source": [
    "# Theory of Data Visualization\n",
    "\n",
    "Visualization is meant to convey information.\n",
    "\n",
    "> The power of a graph is its ability to enable one to take in the quantitative information, organize it, and see patterns and structure not readily revealed by other means of studying the data.\n",
    "\n",
    "\\- Cleveland and McGill, 1984\n",
    "\n",
    "Certain techniques make that information easier to interpret and understand. In their 1984 paper titled, \"[Graphical Perception: Theory, Experimentation, and Application to the Development of Graphical Methods](https://www-jstor-org.libproxy.berkeley.edu/stable/2288400?seq=1#page_scan_tab_contents),\" Cleveland and McGill identify 10 elementary perceptual tasks that are used to \"extract quantitative information from graphs.\" Their premise is:\n",
    "\n",
    "> A graphical form that involves elementary perceptual tasks that lead to more accurate judgments than another graphical form (with the same quantitative information) will result in better organization and increase the chances of a correct perception of patterns and behavior.\n",
    "\n",
    "Whereas graph design had, up to that point, been \"largely unscientific,\" Cleveland and McGill took a systematic approach in analyzing human graphical perception through experimentation. Their researched helped identify the most and least accurate elementary perceptual tasks, ordered below:\n",
    "\n",
    "1. Position along a common scale\n",
    "2. Position along non-aligned scales\n",
    "3. Length, direction, angle\n",
    "4. Area\n",
    "5. Volume, curvature\n",
    "6. Shading, color saturation\n",
    "\n",
    "In 2010, [Heer and Bostock](http://vis.stanford.edu/files/2010-MTurk-CHI.pdf) confirmed these results using Amazon's Mechanical Turk.\n",
    "\n",
    "Let's take a look at a few examples. Because we're only interested in relative sizes, we don't include a legend with size information or reference points."
   ]
  },
  {
   "cell_type": "markdown",
   "metadata": {},
   "source": [
    "![circles](../../Img/circles.png)"
   ]
  },
  {
   "cell_type": "markdown",
   "metadata": {},
   "source": [
    "For circles of distinctly different sizes, the comparison is simple. For example, \"A\" is smaller than \"B.\" However, for circles, such as \"L\" and \"M,\" that are almost the same size, it's difficult to tell which is smaller. Area, according to Cleveland and McGill's research, is less accurate than, say, length, which we consider next."
   ]
  },
  {
   "cell_type": "markdown",
   "metadata": {},
   "source": [
    "![circles](../../Img/bars.png)"
   ]
  },
  {
   "cell_type": "markdown",
   "metadata": {},
   "source": [
    "Focusing on \"L\" and \"M,\" it is clear to see which is larger. You might be wondering whether scale makes a difference&mdash;that is, if the small circle sizes make it difficult to compare&mdash;it doesn't.\n",
    "\n",
    "Next, we consider a case where we want to plot two series. For this example, let's suppose we're working with student English and Math test scores. Here, we'll want to use bars, which we arbitrarily label Z-L. The question is, which bars should we use? This is a case where the answer depends on what we're trying to communicate. If we're interested in showing total scores, we could use a stacked bar chart."
   ]
  },
  {
   "cell_type": "markdown",
   "metadata": {},
   "source": [
    "![circles](../../Img/two-series-0.png)"
   ]
  },
  {
   "cell_type": "markdown",
   "metadata": {},
   "source": [
    "We can tell that \"Y\" and \"L\" had the highest cumulative scores. What if we want to know which students scored highest on the math exam? Because the math portions of each bar are on \"non-aligned scales,\" as Cleveland and McGill call it, it's difficult to tell. One solution is to plot these on opposite sides of the x-axis."
   ]
  },
  {
   "cell_type": "markdown",
   "metadata": {},
   "source": [
    "![circles](../../Img/two-series-1.png)"
   ]
  },
  {
   "cell_type": "markdown",
   "metadata": {},
   "source": [
    "Now, it's easier to see that \"R\" scored quite well on the math exam. The tradeoff with this layout is that it's difficult to compare cumulative scores. Comparing \"Z\" and \"O,\" for example, is a challenge. Again, it depends on what the message is.\n",
    "\n",
    "These findings are a *guide* for what works when the goal is to make accurate judgments. Sometimes, however, the goal might not be to allow for precise comparisons but, rather, to facilitate the perception of larger patterns. This is usually the case with choropleth maps."
   ]
  },
  {
   "cell_type": "markdown",
   "metadata": {},
   "source": [
    "### Form and Function\n",
    "\n",
    "> A good graphic realizes two basic goals: It **presents** information, and it allows users to **explore** that information.\n",
    "\n",
    "\\- Alberto Cairo\n",
    "\n",
    "> A data visualization should only be beautiful when beauty can promote understanding in some way without undermining it in another. Is beauty sometimes useful? Certainly. Is beauty always useful? Certainly not.\n",
    "\n",
    "\\- Stephen Few\n",
    "\n",
    "> Good displays of data help to reveal knowledge relevant to understanding mechanism, process and dynamics, cause and effect.\n",
    "\n",
    "\\- Edward Tufte\n",
    "\n",
    "A figure is ineffective if it \"wastes too much real estate (and the designer's time) on things that don't help readers understand [it].\" - Alberto Cairo\n",
    "\n",
    "> The important criterion for a graph is not simply how fast we can see a result; rather it is whether through the use of the graph we can see something that would have been harder to see otherwise or that could not have been seen at all.\n",
    "\n",
    "\\- William Cleveland\n",
    "\n",
    "> [A]lways take advantage of the space you have available to seek depth within reasonable limits. After that, *and only after that*, worry about how to make the presentation prettier.\n",
    "\n",
    "\\- Alberto Cairo\n",
    "\n",
    "Ultimately, identify your audience and their needs and interests. The same data should be visualized differently for a scientific publication versus a magazine."
   ]
  },
  {
   "cell_type": "code",
   "execution_count": 7,
   "metadata": {},
   "outputs": [],
   "source": [
    "# Load the gapminder dataset\n",
    "# Notice we did not set our working directory first - what did we do instead?\n",
    "gap = pd.read_csv(\"../../Data/gapminder-FiveYearData.csv\")"
   ]
  },
  {
   "cell_type": "code",
   "execution_count": 8,
   "metadata": {},
   "outputs": [
    {
     "name": "stdout",
     "output_type": "stream",
     "text": [
      "(1704, 6)\n"
     ]
    },
    {
     "data": {
      "text/html": [
       "<div>\n",
       "<style scoped>\n",
       "    .dataframe tbody tr th:only-of-type {\n",
       "        vertical-align: middle;\n",
       "    }\n",
       "\n",
       "    .dataframe tbody tr th {\n",
       "        vertical-align: top;\n",
       "    }\n",
       "\n",
       "    .dataframe thead th {\n",
       "        text-align: right;\n",
       "    }\n",
       "</style>\n",
       "<table border=\"1\" class=\"dataframe\">\n",
       "  <thead>\n",
       "    <tr style=\"text-align: right;\">\n",
       "      <th></th>\n",
       "      <th>country</th>\n",
       "      <th>year</th>\n",
       "      <th>pop</th>\n",
       "      <th>continent</th>\n",
       "      <th>lifeExp</th>\n",
       "      <th>gdpPercap</th>\n",
       "    </tr>\n",
       "  </thead>\n",
       "  <tbody>\n",
       "    <tr>\n",
       "      <th>0</th>\n",
       "      <td>Afghanistan</td>\n",
       "      <td>1952</td>\n",
       "      <td>8425333.0</td>\n",
       "      <td>Asia</td>\n",
       "      <td>28.801</td>\n",
       "      <td>779.445314</td>\n",
       "    </tr>\n",
       "    <tr>\n",
       "      <th>1</th>\n",
       "      <td>Afghanistan</td>\n",
       "      <td>1957</td>\n",
       "      <td>9240934.0</td>\n",
       "      <td>Asia</td>\n",
       "      <td>30.332</td>\n",
       "      <td>820.853030</td>\n",
       "    </tr>\n",
       "    <tr>\n",
       "      <th>2</th>\n",
       "      <td>Afghanistan</td>\n",
       "      <td>1962</td>\n",
       "      <td>10267083.0</td>\n",
       "      <td>Asia</td>\n",
       "      <td>31.997</td>\n",
       "      <td>853.100710</td>\n",
       "    </tr>\n",
       "    <tr>\n",
       "      <th>3</th>\n",
       "      <td>Afghanistan</td>\n",
       "      <td>1967</td>\n",
       "      <td>11537966.0</td>\n",
       "      <td>Asia</td>\n",
       "      <td>34.020</td>\n",
       "      <td>836.197138</td>\n",
       "    </tr>\n",
       "    <tr>\n",
       "      <th>4</th>\n",
       "      <td>Afghanistan</td>\n",
       "      <td>1972</td>\n",
       "      <td>13079460.0</td>\n",
       "      <td>Asia</td>\n",
       "      <td>36.088</td>\n",
       "      <td>739.981106</td>\n",
       "    </tr>\n",
       "  </tbody>\n",
       "</table>\n",
       "</div>"
      ],
      "text/plain": [
       "       country  year         pop continent  lifeExp   gdpPercap\n",
       "0  Afghanistan  1952   8425333.0      Asia   28.801  779.445314\n",
       "1  Afghanistan  1957   9240934.0      Asia   30.332  820.853030\n",
       "2  Afghanistan  1962  10267083.0      Asia   31.997  853.100710\n",
       "3  Afghanistan  1967  11537966.0      Asia   34.020  836.197138\n",
       "4  Afghanistan  1972  13079460.0      Asia   36.088  739.981106"
      ]
     },
     "execution_count": 8,
     "metadata": {},
     "output_type": "execute_result"
    }
   ],
   "source": [
    "print(gap.shape)\n",
    "gap.head()"
   ]
  },
  {
   "cell_type": "code",
   "execution_count": 9,
   "metadata": {},
   "outputs": [
    {
     "data": {
      "text/plain": [
       "country       object\n",
       "year           int64\n",
       "pop          float64\n",
       "continent     object\n",
       "lifeExp      float64\n",
       "gdpPercap    float64\n",
       "dtype: object"
      ]
     },
     "execution_count": 9,
     "metadata": {},
     "output_type": "execute_result"
    }
   ],
   "source": [
    "gap.dtypes"
   ]
  },
  {
   "cell_type": "markdown",
   "metadata": {},
   "source": [
    "# Histogram\n",
    "\n",
    "Use a histogram when you would like to visualize the distribution of a single float or integer variable. "
   ]
  },
  {
   "cell_type": "code",
   "execution_count": 10,
   "metadata": {},
   "outputs": [
    {
     "name": "stderr",
     "output_type": "stream",
     "text": [
      "/Users/brooks/opt/anaconda3/lib/python3.7/site-packages/pandas/plotting/_matplotlib/tools.py:400: MatplotlibDeprecationWarning: \n",
      "The is_first_col function was deprecated in Matplotlib 3.4 and will be removed two minor releases later. Use ax.get_subplotspec().is_first_col() instead.\n",
      "  if ax.is_first_col():\n"
     ]
    },
    {
     "data": {
      "image/png": "[encoded data removed]",
      "text/plain": [
       "<Figure size 432x288 with 4 Axes>"
      ]
     },
     "metadata": {
      "needs_background": "light"
     },
     "output_type": "display_data"
    }
   ],
   "source": [
    "# Neat!!\n",
    "gap.hist();"
   ]
  },
  {
   "cell_type": "markdown",
   "metadata": {},
   "source": [
    "### We can also adjust the figure size."
   ]
  },
  {
   "cell_type": "code",
   "execution_count": 11,
   "metadata": {},
   "outputs": [
    {
     "data": {
      "image/png": "[encoded data removed]",
      "text/plain": [
       "<Figure size 1080x360 with 4 Axes>"
      ]
     },
     "metadata": {
      "needs_background": "light"
     },
     "output_type": "display_data"
    }
   ],
   "source": [
    "gap.hist(figsize = (15, 5)); # width, height"
   ]
  },
  {
   "cell_type": "markdown",
   "metadata": {},
   "source": [
    "### Change the number of bins"
   ]
  },
  {
   "cell_type": "code",
   "execution_count": 12,
   "metadata": {
    "scrolled": true
   },
   "outputs": [
    {
     "data": {
      "image/png": "[encoded data removed]",
      "text/plain": [
       "<Figure size 1080x360 with 4 Axes>"
      ]
     },
     "metadata": {
      "needs_background": "light"
     },
     "output_type": "display_data"
    }
   ],
   "source": [
    "gap.hist(bins = 25, figsize = (15, 5), color = \"green\");"
   ]
  },
  {
   "cell_type": "markdown",
   "metadata": {},
   "source": [
    "### Plot a single variable"
   ]
  },
  {
   "cell_type": "code",
   "execution_count": 13,
   "metadata": {},
   "outputs": [
    {
     "data": {
      "image/png": "[encoded data removed]",
      "text/plain": [
       "<Figure size 576x288 with 1 Axes>"
      ]
     },
     "metadata": {
      "needs_background": "light"
     },
     "output_type": "display_data"
    }
   ],
   "source": [
    "gap.hist(column=\"lifeExp\", figsize = (8, 4), color = \"black\");"
   ]
  },
  {
   "cell_type": "markdown",
   "metadata": {},
   "source": [
    "# Bar Plot\n",
    "\n",
    "You can use a bar plot when you want to illustrate differences in frequencies of some category. Let's look at the 12 most frequent words in \"jordan2013.txt\""
   ]
  },
  {
   "cell_type": "code",
   "execution_count": 14,
   "metadata": {},
   "outputs": [
    {
     "name": "stdout",
     "output_type": "stream",
     "text": [
      "\n",
      "Distr.: General 6 January 2014 \n",
      "Original: English \n",
      "General Assembly \n",
      "Human Rights Council Twenty-fifth session \n",
      "Agenda item 6 \n",
      "Universal periodic review \n",
      "\n",
      "Report of the Working Group on the Universal Periodic Review* \n",
      "Jordan \n",
      "* The annex to the present report is circulated as received. \n",
      "\n",
      "GE.14-10063 \n",
      "*1410063* \n",
      "Contents \n",
      "Paragraphs Page \n",
      "Introduction............................................................................................................. 1Ð4 3 \n",
      "I. Summary of the proceedings \n"
     ]
    }
   ],
   "source": [
    "jordan = open(\"../../Data/human-rights/jordan2013.txt\", \n",
    "              encoding = \"utf-8\").read()\n",
    "print(jordan[0:500])"
   ]
  },
  {
   "cell_type": "code",
   "execution_count": 15,
   "metadata": {},
   "outputs": [],
   "source": [
    "from collections import Counter"
   ]
  },
  {
   "cell_type": "code",
   "execution_count": 16,
   "metadata": {},
   "outputs": [
    {
     "name": "stdout",
     "output_type": "stream",
     "text": [
      "['Distr.:', 'General', '6', 'January', '2014', 'Original:', 'English', 'General', 'Assembly', 'Human', 'Rights', 'Council', 'Twenty-fifth', 'session', 'Agenda', 'item', '6', 'Universal', 'periodic', 'review', 'Report', 'of', 'the', 'Working', 'Group']\n"
     ]
    }
   ],
   "source": [
    "# Tokenize jordan.txt into single words\n",
    "jordan_tokens = jordan.split()\n",
    "print(jordan_tokens[0:25])"
   ]
  },
  {
   "cell_type": "code",
   "execution_count": 17,
   "metadata": {},
   "outputs": [
    {
     "data": {
      "text/plain": [
       "[('the', 901),\n",
       " ('of', 630),\n",
       " ('and', 550),\n",
       " ('to', 436),\n",
       " ('in', 221),\n",
       " ('It', 148),\n",
       " ('on', 124),\n",
       " ('for', 109),\n",
       " ('with', 99),\n",
       " ('rights', 98),\n",
       " ('that', 83),\n",
       " ('made', 82)]"
      ]
     },
     "execution_count": 17,
     "metadata": {},
     "output_type": "execute_result"
    }
   ],
   "source": [
    "# Count the 12 most common words\n",
    "jordan_freq = Counter(jordan_tokens)\n",
    "jordan_barplot = jordan_freq.most_common(12)\n",
    "jordan_barplot"
   ]
  },
  {
   "cell_type": "code",
   "execution_count": 18,
   "metadata": {},
   "outputs": [
    {
     "data": {
      "text/html": [
       "<div>\n",
       "<style scoped>\n",
       "    .dataframe tbody tr th:only-of-type {\n",
       "        vertical-align: middle;\n",
       "    }\n",
       "\n",
       "    .dataframe tbody tr th {\n",
       "        vertical-align: top;\n",
       "    }\n",
       "\n",
       "    .dataframe thead th {\n",
       "        text-align: right;\n",
       "    }\n",
       "</style>\n",
       "<table border=\"1\" class=\"dataframe\">\n",
       "  <thead>\n",
       "    <tr style=\"text-align: right;\">\n",
       "      <th></th>\n",
       "      <th>Word</th>\n",
       "      <th>Frequency</th>\n",
       "    </tr>\n",
       "  </thead>\n",
       "  <tbody>\n",
       "    <tr>\n",
       "      <th>0</th>\n",
       "      <td>the</td>\n",
       "      <td>901</td>\n",
       "    </tr>\n",
       "    <tr>\n",
       "      <th>1</th>\n",
       "      <td>of</td>\n",
       "      <td>630</td>\n",
       "    </tr>\n",
       "    <tr>\n",
       "      <th>2</th>\n",
       "      <td>and</td>\n",
       "      <td>550</td>\n",
       "    </tr>\n",
       "    <tr>\n",
       "      <th>3</th>\n",
       "      <td>to</td>\n",
       "      <td>436</td>\n",
       "    </tr>\n",
       "    <tr>\n",
       "      <th>4</th>\n",
       "      <td>in</td>\n",
       "      <td>221</td>\n",
       "    </tr>\n",
       "    <tr>\n",
       "      <th>5</th>\n",
       "      <td>It</td>\n",
       "      <td>148</td>\n",
       "    </tr>\n",
       "    <tr>\n",
       "      <th>6</th>\n",
       "      <td>on</td>\n",
       "      <td>124</td>\n",
       "    </tr>\n",
       "    <tr>\n",
       "      <th>7</th>\n",
       "      <td>for</td>\n",
       "      <td>109</td>\n",
       "    </tr>\n",
       "    <tr>\n",
       "      <th>8</th>\n",
       "      <td>with</td>\n",
       "      <td>99</td>\n",
       "    </tr>\n",
       "    <tr>\n",
       "      <th>9</th>\n",
       "      <td>rights</td>\n",
       "      <td>98</td>\n",
       "    </tr>\n",
       "    <tr>\n",
       "      <th>10</th>\n",
       "      <td>that</td>\n",
       "      <td>83</td>\n",
       "    </tr>\n",
       "    <tr>\n",
       "      <th>11</th>\n",
       "      <td>made</td>\n",
       "      <td>82</td>\n",
       "    </tr>\n",
       "  </tbody>\n",
       "</table>\n",
       "</div>"
      ],
      "text/plain": [
       "      Word  Frequency\n",
       "0      the        901\n",
       "1       of        630\n",
       "2      and        550\n",
       "3       to        436\n",
       "4       in        221\n",
       "5       It        148\n",
       "6       on        124\n",
       "7      for        109\n",
       "8     with         99\n",
       "9   rights         98\n",
       "10    that         83\n",
       "11    made         82"
      ]
     },
     "execution_count": 18,
     "metadata": {},
     "output_type": "execute_result"
    }
   ],
   "source": [
    "# Convert to data frame\n",
    "jordan_df = pd.DataFrame(data = jordan_barplot, \n",
    "                         columns = [\"Word\", \"Frequency\"])\n",
    "jordan_df"
   ]
  },
  {
   "cell_type": "code",
   "execution_count": 19,
   "metadata": {},
   "outputs": [
    {
     "data": {
      "image/png": "[encoded data removed]",
      "text/plain": [
       "<Figure size 432x288 with 1 Axes>"
      ]
     },
     "metadata": {
      "needs_background": "light"
     },
     "output_type": "display_data"
    }
   ],
   "source": [
    "# Plot!\n",
    "# jordan_df.plot.bar(x = \"Word\", y = \"Frequency\", figsize = (6,4));\n",
    "jordan_df.plot(kind=\"bar\", x = \"Word\", y = \"Frequency\", figsize = (6,4));"
   ]
  },
  {
   "cell_type": "code",
   "execution_count": 20,
   "metadata": {},
   "outputs": [
    {
     "data": {
      "image/png": "[encoded data removed]",
      "text/plain": [
       "<Figure size 360x216 with 1 Axes>"
      ]
     },
     "metadata": {
      "needs_background": "light"
     },
     "output_type": "display_data"
    }
   ],
   "source": [
    "# Change x and y axis labels; add title\n",
    "jordan_df.plot.bar(x = \"Word\", y = \"Frequency\", figsize = (5,3))\n",
    "plt.xlabel(\"Word (including stop words)\")\n",
    "plt.ylabel(\"Frequency\")\n",
    "plt.title(\"Bar plot of most common words in Jordan 2013\");"
   ]
  },
  {
   "cell_type": "markdown",
   "metadata": {},
   "source": [
    "# Boxplot\n",
    "\n",
    "Use boxplots when you want to illustrate variation in a single float or integer but by some category. Let's make boxplots of life expectancy **_by_** continent in the gapminder dataset."
   ]
  },
  {
   "cell_type": "code",
   "execution_count": 21,
   "metadata": {},
   "outputs": [
    {
     "data": {
      "image/png": "[encoded data removed]",
      "text/plain": [
       "<Figure size 432x288 with 1 Axes>"
      ]
     },
     "metadata": {
      "needs_background": "light"
     },
     "output_type": "display_data"
    }
   ],
   "source": [
    "# For the entire dataset...\n",
    "gap.boxplot(column=[\"lifeExp\"]);"
   ]
  },
  {
   "cell_type": "code",
   "execution_count": 22,
   "metadata": {},
   "outputs": [
    {
     "data": {
      "image/png": "[encoded data removed]",
      "text/plain": [
       "<Figure size 360x288 with 1 Axes>"
      ]
     },
     "metadata": {
      "needs_background": "light"
     },
     "output_type": "display_data"
    }
   ],
   "source": [
    "# For each continent\n",
    "gap.boxplot(column=[\"lifeExp\"], \n",
    "            by = \"continent\", \n",
    "            figsize = (5, 4)\n",
    "           )\n",
    "\n",
    "plt.title(\"\");"
   ]
  },
  {
   "cell_type": "markdown",
   "metadata": {},
   "source": [
    "# Scatterplot\n",
    "\n",
    "Scatterplots are useful to show the relationships between two float/integer variables. Make a scatterplot with life expectancy on the x-axis and population on the y-axis from the gapminder dataset."
   ]
  },
  {
   "cell_type": "code",
   "execution_count": 32,
   "metadata": {},
   "outputs": [
    {
     "data": {
      "image/png": "[encoded data removed]",
      "text/plain": [
       "<Figure size 288x216 with 1 Axes>"
      ]
     },
     "metadata": {
      "needs_background": "light"
     },
     "output_type": "display_data"
    }
   ],
   "source": [
    "# Note the attribute-style syntax for calling the particular columns!\n",
    "gap.plot.scatter(x = \"lifeExp\", \n",
    "                 y = \"pop\", \n",
    "                 figsize = (4, 3));\n",
    "plt.xlabel(\"Life Expectancy\")\n",
    "plt.ylabel(\"Population\")\n",
    "plt.title(\"Population vs Life Expectancy\");"
   ]
  },
  {
   "cell_type": "markdown",
   "metadata": {},
   "source": [
    "# Exporting Figures\n",
    "\n",
    "You will want to export some figures to include in your presentations and other work. Add the `plt.savefig();` call as your last line of code! Remember this will save to your working directory!"
   ]
  },
  {
   "cell_type": "code",
   "execution_count": 30,
   "metadata": {},
   "outputs": [
    {
     "data": {
      "image/png": "[encoded data removed]",
      "text/plain": [
       "<Figure size 576x288 with 1 Axes>"
      ]
     },
     "metadata": {
      "needs_background": "light"
     },
     "output_type": "display_data"
    }
   ],
   "source": [
    "jordan_df.plot.bar(x = \"Word\", y = \"Frequency\", figsize = (8,4))\n",
    "plt.xlabel(\"Word (including stop words)\")\n",
    "plt.ylabel(\"Frequency\")\n",
    "plt.title(\"Bar plot of most common words in Jordan 2013\")\n",
    "plt.savefig(\"barplot_example.jpg\", dpi = 100);"
   ]
  },
  {
   "cell_type": "code",
   "execution_count": 28,
   "metadata": {},
   "outputs": [
    {
     "data": {
      "text/plain": [
       "'/Users/brooks/Projects/D-Lab/DIGHUM101-2021/Notebooks/Week2'"
      ]
     },
     "execution_count": 28,
     "metadata": {},
     "output_type": "execute_result"
    }
   ],
   "source": [
    "%pwd"
   ]
  },
  {
   "cell_type": "markdown",
   "metadata": {},
   "source": [
    "You will then want to export this .PDF to a .TIFF or similar file depending on submission requirements. \n",
    "\n",
    "Mac users open the .PDF file in Preview, click File --> Export --> Select .tiff --> select .jpeg compress\n",
    "\n",
    "Windows users - try the same thing but use \"Save As\" instead of \"Export\""
   ]
  }
 ],
 "metadata": {
  "kernelspec": {
   "display_name": "Python 3",
   "language": "python",
   "name": "python3"
  },
  "language_info": {
   "codemirror_mode": {
    "name": "ipython",
    "version": 3
   },
   "file_extension": ".py",
   "mimetype": "text/x-python",
   "name": "python",
   "nbconvert_exporter": "python",
   "pygments_lexer": "ipython3",
   "version": "3.7.6"
  }
 },
 "nbformat": 4,
 "nbformat_minor": 4
}
