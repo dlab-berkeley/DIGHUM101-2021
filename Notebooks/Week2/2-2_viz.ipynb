{
 "cells": [
  {
   "cell_type": "code",
   "execution_count": null,
   "metadata": {},
   "outputs": [],
   "source": [
    "import pandas as pd\n",
    "\n",
    "# Import matplotlib (https://en.wikipedia.org/wiki/Matplotlib)\n",
    "import matplotlib\n",
    "\n",
    "# Graphics should appear \"inline\" (within the Jupyter Notebook instead of somewhere else)\n",
    "%matplotlib inline\n",
    "\n",
    "# Import the pyplot \"submodule\" for fast plotting\n",
    "# (https://www.quora.com/What-is-the-difference-between-Python-modules-packages-libraries-and-frameworks)\n",
    "import matplotlib.pyplot as plt\n",
    "\n",
    "# Indicate the template to use for the plot\n",
    "# Type plt.style.available to experiment with different styles\n",
    "plt.style.use('seaborn-bright')\n",
    "\n",
    "# plt.style.available\n",
    "\n",
    "import seaborn as sns"
   ]
  },
  {
   "cell_type": "markdown",
   "metadata": {},
   "source": [
    "# Fast review\n",
    "\n",
    "1. What are some key components of text preprocessing? \n",
    "2. Why is text preprocessing important?"
   ]
  },
  {
   "cell_type": "code",
   "execution_count": null,
   "metadata": {},
   "outputs": [],
   "source": [
    "%pwd # print working directory"
   ]
  },
  {
   "cell_type": "code",
   "execution_count": null,
   "metadata": {},
   "outputs": [],
   "source": [
    "# Sometimes there is no need to set the working directory! \n",
    "# What is going on in the file path in pd.read_csv() ?\n",
    "lit = pd.read_csv(\"../../Data/childrens_lit.csv\", sep = \"\\t\")\n",
    "print(lit.shape)\n",
    "lit.head(n = 8)"
   ]
  },
  {
   "cell_type": "code",
   "execution_count": null,
   "metadata": {},
   "outputs": [],
   "source": [
    "# How to get the text of a book from a single cell?\n",
    "# First row\n",
    "# list(lit[\"text\"][0:1])\n",
    "\n",
    "# or\n",
    "\n",
    "# Thirty-seventh row\n",
    "print(list(lit[\"text\"][36:37]))"
   ]
  },
  {
   "cell_type": "markdown",
   "metadata": {},
   "source": [
    "# Learning objectives\n",
    "\n",
    "1. Learn some theory and best practices of data visualization.\n",
    "2. Make a matplotlib histogram, barplot, boxplot, and scatterplot.\n",
    "3. Begin to read Claus O. Wilke's [Fundamentals of Data Visualization](https://serialmentor.com/dataviz/)"
   ]
  },
  {
   "cell_type": "markdown",
   "metadata": {},
   "source": [
    "# Theory of Data Visualization\n",
    "\n",
    "Visualization is meant to convey information.\n",
    "\n",
    "> The power of a graph is its ability to enable one to take in the quantitative information, organize it, and see patterns and structure not readily revealed by other means of studying the data.\n",
    "\n",
    "\\- Cleveland and McGill, 1984\n",
    "\n",
    "Certain techniques make that information easier to interpret and understand. In their 1984 paper titled, \"[Graphical Perception: Theory, Experimentation, and Application to the Development of Graphical Methods](https://www-jstor-org.libproxy.berkeley.edu/stable/2288400?seq=1#page_scan_tab_contents),\" Cleveland and McGill identify 10 elementary perceptual tasks that are used to \"extract quantitative information from graphs.\" Their premise is:\n",
    "\n",
    "> A graphical form that involves elementary perceptual tasks that lead to more accurate judgments than another graphical form (with the same quantitative information) will result in better organization and increase the chances of a correct perception of patterns and behavior.\n",
    "\n",
    "Whereas graph design had, up to that point, been \"largely unscientific,\" Cleveland and McGill took a systematic approach in analyzing human graphical perception through experimentation. Their researched helped identify the most and least accurate elementary perceptual tasks, ordered below:\n",
    "\n",
    "1. Position along a common scale\n",
    "2. Position along non-aligned scales\n",
    "3. Length, direction, angle\n",
    "4. Area\n",
    "5. Volume, curvature\n",
    "6. Shading, color saturation\n",
    "\n",
    "In 2010, [Heer and Bostock](http://vis.stanford.edu/files/2010-MTurk-CHI.pdf) confirmed these results using Amazon's Mechanical Turk.\n",
    "\n",
    "Let's take a look at a few examples. Because we're only interested in relative sizes, we don't include a legend with size information or reference points."
   ]
  },
  {
   "cell_type": "markdown",
   "metadata": {},
   "source": [
    "![circles](../../Img/circles.png)"
   ]
  },
  {
   "cell_type": "markdown",
   "metadata": {},
   "source": [
    "For circles of distinctly different sizes, the comparison is simple. For example, \"A\" is smaller than \"B.\" However, for circles, such as \"L\" and \"M,\" that are almost the same size, it's difficult to tell which is smaller. Area, according to Cleveland and McGill's research, is less accurate than, say, length, which we consider next."
   ]
  },
  {
   "cell_type": "markdown",
   "metadata": {},
   "source": [
    "![circles](../../Img/bars.png)"
   ]
  },
  {
   "cell_type": "markdown",
   "metadata": {},
   "source": [
    "Focusing on \"L\" and \"M,\" it is clear to see which is larger. You might be wondering whether scale makes a difference&mdash;that is, if the small circle sizes make it difficult to compare&mdash;it doesn't.\n",
    "\n",
    "Next, we consider a case where we want to plot two series. For this example, let's suppose we're working with student English and math test scores. Here, we'll want to use bars, which we arbitrarily label Z-L. The question is, which bars should we use? This is a case where the answer depends on what we're trying to communicate. If we're interested in showing total scores, we could use a stacked bar chart."
   ]
  },
  {
   "cell_type": "markdown",
   "metadata": {},
   "source": [
    "![circles](../../Img/two-series-0.png)"
   ]
  },
  {
   "cell_type": "markdown",
   "metadata": {},
   "source": [
    "We can tell that \"Y\" and \"L\" had the highest cumulative scores. What if we want to know which students scored highest on the math exam? Because the math portions of each bar are on \"non-aligned scales,\" as Cleveland and McGill call it, it's difficult to tell. One solution is to plot these on opposite sides of the x-axis."
   ]
  },
  {
   "cell_type": "markdown",
   "metadata": {},
   "source": [
    "![circles](../../Img/two-series-1.png)"
   ]
  },
  {
   "cell_type": "markdown",
   "metadata": {},
   "source": [
    "Now, it's easier to see that \"R\" scored quite well on the math exam. The tradeoff with this layout is that it's difficult to compare cumulative scores. Comparing \"Z\" and \"O,\" for example, is a challenge. Again, it depends on what the message is.\n",
    "\n",
    "These findings are a *guide* for what works when the goal is to make accurate judgments. Sometimes, however, the goal might not be to allow for precise comparisons but, rather, to facilitate the perception of larger patterns. This is usually the case with choropleth maps."
   ]
  },
  {
   "cell_type": "markdown",
   "metadata": {},
   "source": [
    "### Form and Function\n",
    "\n",
    "> A good graphic realizes two basic goals: It **presents** information, and it allows users to **explore** that information.\n",
    "\n",
    "\\- Alberto Cairo\n",
    "\n",
    "> A data visualization should only be beautiful when beauty can promote understanding in some way without undermining it in another. Is beauty sometimes useful? Certainly. Is beauty always useful? Certainly not.\n",
    "\n",
    "\\- Stephen Few\n",
    "\n",
    "> Good displays of data help to reveal knowledge relevant to understanding mechanism, process and dynamics, cause and effect.\n",
    "\n",
    "\\- Edward Tufte\n",
    "\n",
    "A figure is ineffective if it \"wastes too much real estate (and the designer's time) on things that don't help readers understand [it].\" - Alberto Cairo\n",
    "\n",
    "> The important criterion for a graph is not simply how fast we can see a result; rather it is whether through the use of the graph we can see something that would have been harder to see otherwise or that could not have been seen at all.\n",
    "\n",
    "\\- William Cleveland\n",
    "\n",
    "> [A]lways take advantage of the space you have available to seek depth within reasonable limits. After that, *and only after that*, worry about how to make the presentation prettier.\n",
    "\n",
    "\\- Alberto Cairo\n",
    "\n",
    "Ultimately, identify your audience and their needs and interests. The same data should be visualized differently for a scientific publication versus a magazine."
   ]
  },
  {
   "cell_type": "code",
   "execution_count": null,
   "metadata": {},
   "outputs": [],
   "source": [
    "# Load the gapminder dataset\n",
    "# Notice we did not set our working directory first - what did we do instead?\n",
    "gap = pd.read_csv(\"../../Data/gapminder-FiveYearData.csv\")"
   ]
  },
  {
   "cell_type": "markdown",
   "metadata": {},
   "source": [
    "# Histogram\n",
    "\n",
    "Use a histogram when you would like to visualize the distribution of a single float or integer variable. "
   ]
  },
  {
   "cell_type": "code",
   "execution_count": null,
   "metadata": {},
   "outputs": [],
   "source": [
    "# Neat!!\n",
    "gap.hist();"
   ]
  },
  {
   "cell_type": "markdown",
   "metadata": {},
   "source": [
    "### We can also adjust the figure size."
   ]
  },
  {
   "cell_type": "code",
   "execution_count": null,
   "metadata": {},
   "outputs": [],
   "source": [
    "gap.hist(figsize = (15, 5)); # width x height"
   ]
  },
  {
   "cell_type": "markdown",
   "metadata": {},
   "source": [
    "### Change the number of bins"
   ]
  },
  {
   "cell_type": "code",
   "execution_count": null,
   "metadata": {
    "scrolled": true
   },
   "outputs": [],
   "source": [
    "gap.hist(bins = 25, figsize = (15, 5), color = \"green\");"
   ]
  },
  {
   "cell_type": "markdown",
   "metadata": {},
   "source": [
    "### Plot a single variable"
   ]
  },
  {
   "cell_type": "code",
   "execution_count": null,
   "metadata": {},
   "outputs": [],
   "source": [
    "gap[\"lifeExp\"].hist(figsize = (8, 4), color = \"black\");"
   ]
  },
  {
   "cell_type": "markdown",
   "metadata": {},
   "source": [
    "# Bar Plot\n",
    "\n",
    "You can use a bar plot when you want to illustrate differences in frequencies of some category. Let's look at the 12 most frequent words in \"jordan2013.txt\""
   ]
  },
  {
   "cell_type": "code",
   "execution_count": null,
   "metadata": {},
   "outputs": [],
   "source": [
    "jordan = open(\"../../Data/human-rights/jordan2013.txt\", \n",
    "              encoding = \"utf-8\").read()\n",
    "print(jordan)"
   ]
  },
  {
   "cell_type": "code",
   "execution_count": null,
   "metadata": {},
   "outputs": [],
   "source": [
    "from collections import Counter"
   ]
  },
  {
   "cell_type": "code",
   "execution_count": null,
   "metadata": {},
   "outputs": [],
   "source": [
    "# Tokenize jordan.txt into single words\n",
    "jordan_tokens = jordan.split()\n",
    "jordan_tokens"
   ]
  },
  {
   "cell_type": "code",
   "execution_count": null,
   "metadata": {},
   "outputs": [],
   "source": [
    "# Count the 12 most common words\n",
    "jordan_freq = Counter(jordan_tokens)\n",
    "jordan_barplot = jordan_freq.most_common(12)\n",
    "jordan_barplot"
   ]
  },
  {
   "cell_type": "code",
   "execution_count": null,
   "metadata": {},
   "outputs": [],
   "source": [
    "# Convert to data frame\n",
    "jordan_df = pd.DataFrame(data = jordan_barplot, \n",
    "                         columns = [\"Word\", \"Frequency\"])\n",
    "jordan_df"
   ]
  },
  {
   "cell_type": "code",
   "execution_count": null,
   "metadata": {},
   "outputs": [],
   "source": [
    "# Plot!\n",
    "jordan_df.plot.bar(x = \"Word\", y = \"Frequency\", figsize = (6,4));"
   ]
  },
  {
   "cell_type": "code",
   "execution_count": null,
   "metadata": {},
   "outputs": [],
   "source": [
    "# Change x and y axis labels; add title\n",
    "jordan_df.plot.bar(x = \"Word\", y = \"Frequency\", figsize = (5,3))\n",
    "plt.xlabel(\"Word (including stop words)\")\n",
    "plt.ylabel(\"Frequency\")\n",
    "plt.title(\"Bar plot of most common words in Jordan 2013\");"
   ]
  },
  {
   "cell_type": "markdown",
   "metadata": {},
   "source": [
    "# Boxplot\n",
    "\n",
    "Use boxplots when you want to illustrate variation in a single float or integer but by some category. Let's make boxplots of life expectancy **_by_** continent in the gapminder dataset."
   ]
  },
  {
   "cell_type": "code",
   "execution_count": null,
   "metadata": {},
   "outputs": [],
   "source": [
    "# For the entire dataset...\n",
    "gap.boxplot(column=[\"lifeExp\"]);"
   ]
  },
  {
   "cell_type": "code",
   "execution_count": null,
   "metadata": {},
   "outputs": [],
   "source": [
    "# For each continent\n",
    "gap.boxplot(column=[\"lifeExp\"], \n",
    "            by = \"continent\", \n",
    "           figsize = (5, 4))\n",
    "plt.title(\"\");"
   ]
  },
  {
   "cell_type": "markdown",
   "metadata": {},
   "source": [
    "# Scatterplot\n",
    "\n",
    "Scatterplots are useful to show the relationships between two float/integer variables. Make a scatterplot with life expectancy on the x-axis and population on the y-axis from the gapminder dataset."
   ]
  },
  {
   "cell_type": "code",
   "execution_count": null,
   "metadata": {},
   "outputs": [],
   "source": [
    "# Note the attribute-style syntax for calling the particular columns!\n",
    "gap.plot.scatter(x = \"lifeExp\", \n",
    "                 y = \"pop\", \n",
    "                 figsize = (4, 3));"
   ]
  },
  {
   "cell_type": "markdown",
   "metadata": {},
   "source": [
    "# Exporting Figures\n",
    "\n",
    "You will want to export some figures to include in your presentations and other work. Add the `plt.savefig();` call as your last line of code! Remember this will save to your working directory!"
   ]
  },
  {
   "cell_type": "code",
   "execution_count": null,
   "metadata": {},
   "outputs": [],
   "source": [
    "jordan_df.plot.bar(x = \"Word\", y = \"Frequency\", figsize = (8,4))\n",
    "plt.xlabel(\"Word (including stop words)\")\n",
    "plt.ylabel(\"Frequency\")\n",
    "plt.title(\"Bar plot of most common words in Jordan 2013\")\n",
    "plt.savefig(\"barplot_example.pdf\", dpi = 800);"
   ]
  },
  {
   "cell_type": "code",
   "execution_count": null,
   "metadata": {},
   "outputs": [],
   "source": [
    "%pwd"
   ]
  },
  {
   "cell_type": "markdown",
   "metadata": {},
   "source": [
    "You will then want to export this .PDF to a .TIFF or similar file depending on submission requirements. \n",
    "\n",
    "Mac users open the .PDF file in Preview, click File --> Export --> Select .tiff --> select .jpeg compress\n",
    "\n",
    "Windows users - try the same thing but use \"Save As\" instead of \"Export\""
   ]
  }
 ],
 "metadata": {
  "kernelspec": {
   "display_name": "Python 3",
   "language": "python",
   "name": "python3"
  },
  "language_info": {
   "codemirror_mode": {
    "name": "ipython",
    "version": 3
   },
   "file_extension": ".py",
   "mimetype": "text/x-python",
   "name": "python",
   "nbconvert_exporter": "python",
   "pygments_lexer": "ipython3",
   "version": "3.7.0"
  }
 },
 "nbformat": 4,
 "nbformat_minor": 2
}
